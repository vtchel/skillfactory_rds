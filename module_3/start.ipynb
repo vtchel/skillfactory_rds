{
 "cells": [
  {
   "cell_type": "code",
   "execution_count": 191,
   "metadata": {
    "scrolled": true
   },
   "outputs": [
    {
     "data": {
      "text/html": [
       "<div>\n",
       "<style scoped>\n",
       "    .dataframe tbody tr th:only-of-type {\n",
       "        vertical-align: middle;\n",
       "    }\n",
       "\n",
       "    .dataframe tbody tr th {\n",
       "        vertical-align: top;\n",
       "    }\n",
       "\n",
       "    .dataframe thead th {\n",
       "        text-align: right;\n",
       "    }\n",
       "</style>\n",
       "<table border=\"1\" class=\"dataframe\">\n",
       "  <thead>\n",
       "    <tr style=\"text-align: right;\">\n",
       "      <th></th>\n",
       "      <th>Restaurant_id</th>\n",
       "      <th>City</th>\n",
       "      <th>Cuisine Style</th>\n",
       "      <th>Ranking</th>\n",
       "      <th>Rating</th>\n",
       "      <th>Price Range</th>\n",
       "      <th>Number of Reviews</th>\n",
       "      <th>Reviews</th>\n",
       "      <th>URL_TA</th>\n",
       "      <th>ID_TA</th>\n",
       "    </tr>\n",
       "  </thead>\n",
       "  <tbody>\n",
       "    <tr>\n",
       "      <th>0</th>\n",
       "      <td>id_5569</td>\n",
       "      <td>Paris</td>\n",
       "      <td>['European', 'French', 'International']</td>\n",
       "      <td>5570.0</td>\n",
       "      <td>3.5</td>\n",
       "      <td>$$ - $$$</td>\n",
       "      <td>194.0</td>\n",
       "      <td>[['Good food at your doorstep', 'A good hotel ...</td>\n",
       "      <td>/Restaurant_Review-g187147-d1912643-Reviews-R_...</td>\n",
       "      <td>d1912643</td>\n",
       "    </tr>\n",
       "    <tr>\n",
       "      <th>1</th>\n",
       "      <td>id_1535</td>\n",
       "      <td>Stockholm</td>\n",
       "      <td>NaN</td>\n",
       "      <td>1537.0</td>\n",
       "      <td>4.0</td>\n",
       "      <td>NaN</td>\n",
       "      <td>10.0</td>\n",
       "      <td>[['Unique cuisine', 'Delicious Nepalese food']...</td>\n",
       "      <td>/Restaurant_Review-g189852-d7992032-Reviews-Bu...</td>\n",
       "      <td>d7992032</td>\n",
       "    </tr>\n",
       "    <tr>\n",
       "      <th>2</th>\n",
       "      <td>id_352</td>\n",
       "      <td>London</td>\n",
       "      <td>['Japanese', 'Sushi', 'Asian', 'Grill', 'Veget...</td>\n",
       "      <td>353.0</td>\n",
       "      <td>4.5</td>\n",
       "      <td>$$$$</td>\n",
       "      <td>688.0</td>\n",
       "      <td>[['Catch up with friends', 'Not exceptional'],...</td>\n",
       "      <td>/Restaurant_Review-g186338-d8632781-Reviews-RO...</td>\n",
       "      <td>d8632781</td>\n",
       "    </tr>\n",
       "    <tr>\n",
       "      <th>3</th>\n",
       "      <td>id_3456</td>\n",
       "      <td>Berlin</td>\n",
       "      <td>NaN</td>\n",
       "      <td>3458.0</td>\n",
       "      <td>5.0</td>\n",
       "      <td>NaN</td>\n",
       "      <td>3.0</td>\n",
       "      <td>[[], []]</td>\n",
       "      <td>/Restaurant_Review-g187323-d1358776-Reviews-Es...</td>\n",
       "      <td>d1358776</td>\n",
       "    </tr>\n",
       "    <tr>\n",
       "      <th>4</th>\n",
       "      <td>id_615</td>\n",
       "      <td>Munich</td>\n",
       "      <td>['German', 'Central European', 'Vegetarian Fri...</td>\n",
       "      <td>621.0</td>\n",
       "      <td>4.0</td>\n",
       "      <td>$$ - $$$</td>\n",
       "      <td>84.0</td>\n",
       "      <td>[['Best place to try a Bavarian food', 'Nice b...</td>\n",
       "      <td>/Restaurant_Review-g187309-d6864963-Reviews-Au...</td>\n",
       "      <td>d6864963</td>\n",
       "    </tr>\n",
       "  </tbody>\n",
       "</table>\n",
       "</div>"
      ],
      "text/plain": [
       "  Restaurant_id       City                                      Cuisine Style  \\\n",
       "0       id_5569      Paris            ['European', 'French', 'International']   \n",
       "1       id_1535  Stockholm                                                NaN   \n",
       "2        id_352     London  ['Japanese', 'Sushi', 'Asian', 'Grill', 'Veget...   \n",
       "3       id_3456     Berlin                                                NaN   \n",
       "4        id_615     Munich  ['German', 'Central European', 'Vegetarian Fri...   \n",
       "\n",
       "   Ranking  Rating Price Range  Number of Reviews  \\\n",
       "0   5570.0     3.5    $$ - $$$              194.0   \n",
       "1   1537.0     4.0         NaN               10.0   \n",
       "2    353.0     4.5        $$$$              688.0   \n",
       "3   3458.0     5.0         NaN                3.0   \n",
       "4    621.0     4.0    $$ - $$$               84.0   \n",
       "\n",
       "                                             Reviews  \\\n",
       "0  [['Good food at your doorstep', 'A good hotel ...   \n",
       "1  [['Unique cuisine', 'Delicious Nepalese food']...   \n",
       "2  [['Catch up with friends', 'Not exceptional'],...   \n",
       "3                                           [[], []]   \n",
       "4  [['Best place to try a Bavarian food', 'Nice b...   \n",
       "\n",
       "                                              URL_TA     ID_TA  \n",
       "0  /Restaurant_Review-g187147-d1912643-Reviews-R_...  d1912643  \n",
       "1  /Restaurant_Review-g189852-d7992032-Reviews-Bu...  d7992032  \n",
       "2  /Restaurant_Review-g186338-d8632781-Reviews-RO...  d8632781  \n",
       "3  /Restaurant_Review-g187323-d1358776-Reviews-Es...  d1358776  \n",
       "4  /Restaurant_Review-g187309-d6864963-Reviews-Au...  d6864963  "
      ]
     },
     "metadata": {},
     "output_type": "display_data"
    },
    {
     "name": "stdout",
     "output_type": "stream",
     "text": [
      "<class 'pandas.core.frame.DataFrame'>\n",
      "RangeIndex: 40000 entries, 0 to 39999\n",
      "Data columns (total 10 columns):\n",
      " #   Column             Non-Null Count  Dtype  \n",
      "---  ------             --------------  -----  \n",
      " 0   Restaurant_id      40000 non-null  object \n",
      " 1   City               40000 non-null  object \n",
      " 2   Cuisine Style      30717 non-null  object \n",
      " 3   Ranking            40000 non-null  float64\n",
      " 4   Rating             40000 non-null  float64\n",
      " 5   Price Range        26114 non-null  object \n",
      " 6   Number of Reviews  37457 non-null  float64\n",
      " 7   Reviews            40000 non-null  object \n",
      " 8   URL_TA             40000 non-null  object \n",
      " 9   ID_TA              40000 non-null  object \n",
      "dtypes: float64(3), object(7)\n",
      "memory usage: 3.1+ MB\n"
     ]
    },
    {
     "data": {
      "text/plain": [
       "None"
      ]
     },
     "metadata": {},
     "output_type": "display_data"
    }
   ],
   "source": [
    "import pandas as pd\n",
    "\n",
    "data = pd.read_csv('data/main_task.csv')\n",
    "display(data.head())\n",
    "display(data.info())"
   ]
  },
  {
   "cell_type": "code",
   "execution_count": 184,
   "metadata": {
    "scrolled": true
   },
   "outputs": [
    {
     "name": "stdout",
     "output_type": "stream",
     "text": [
      "<class 'str'>\n",
      "<class 'str'>\n",
      "<class 'str'>\n",
      "<class 'numpy.float64'>\n",
      "<class 'numpy.float64'>\n",
      "<class 'str'>\n",
      "<class 'numpy.float64'>\n",
      "<class 'str'>\n",
      "<class 'str'>\n",
      "<class 'str'>\n",
      "<class 'pandas._libs.tslibs.timestamps.Timestamp'>\n",
      "<class 'pandas._libs.tslibs.timestamps.Timestamp'>\n",
      "<class 'pandas._libs.tslibs.timedeltas.Timedelta'>\n"
     ]
    }
   ],
   "source": [
    "for column in data.columns.to_list():\n",
    "    print(type(data[column].loc[0]))"
   ]
  },
  {
   "cell_type": "code",
   "execution_count": 8,
   "metadata": {},
   "outputs": [
    {
     "data": {
      "text/plain": [
       "array(['$$ - $$$', nan, '$$$$', '$'], dtype=object)"
      ]
     },
     "execution_count": 8,
     "metadata": {},
     "output_type": "execute_result"
    }
   ],
   "source": [
    "data['Price Range'].unique()"
   ]
  },
  {
   "cell_type": "code",
   "execution_count": 192,
   "metadata": {},
   "outputs": [],
   "source": [
    "def convert_price(price_range):\n",
    "    if price_range == '$':\n",
    "        return 1\n",
    "    elif price_range == '$$ - $$$':\n",
    "        return 2\n",
    "    elif price_range == '$$$$':\n",
    "        return 3\n",
    "    else:\n",
    "        return 0\n",
    "        "
   ]
  },
  {
   "cell_type": "code",
   "execution_count": 193,
   "metadata": {
    "scrolled": true
   },
   "outputs": [
    {
     "data": {
      "text/plain": [
       "2    18412\n",
       "0    13886\n",
       "1     6279\n",
       "3     1423\n",
       "Name: Price Range, dtype: int64"
      ]
     },
     "execution_count": 193,
     "metadata": {},
     "output_type": "execute_result"
    }
   ],
   "source": [
    "data['Price Range'] = data['Price Range'].apply(convert_price)\n",
    "data['Price Range'].value_counts()"
   ]
  },
  {
   "cell_type": "code",
   "execution_count": 204,
   "metadata": {},
   "outputs": [
    {
     "data": {
      "text/html": [
       "<div>\n",
       "<style scoped>\n",
       "    .dataframe tbody tr th:only-of-type {\n",
       "        vertical-align: middle;\n",
       "    }\n",
       "\n",
       "    .dataframe tbody tr th {\n",
       "        vertical-align: top;\n",
       "    }\n",
       "\n",
       "    .dataframe thead th {\n",
       "        text-align: right;\n",
       "    }\n",
       "</style>\n",
       "<table border=\"1\" class=\"dataframe\">\n",
       "  <thead>\n",
       "    <tr style=\"text-align: right;\">\n",
       "      <th></th>\n",
       "      <th>Restaurant_id</th>\n",
       "      <th>City</th>\n",
       "      <th>Cuisine Style</th>\n",
       "      <th>Ranking</th>\n",
       "      <th>Rating</th>\n",
       "      <th>Price Range</th>\n",
       "      <th>Number of Reviews</th>\n",
       "      <th>Reviews</th>\n",
       "      <th>URL_TA</th>\n",
       "      <th>ID_TA</th>\n",
       "    </tr>\n",
       "  </thead>\n",
       "  <tbody>\n",
       "    <tr>\n",
       "      <th>7</th>\n",
       "      <td>id_825</td>\n",
       "      <td>Bratislava</td>\n",
       "      <td>['Italian']</td>\n",
       "      <td>826.0</td>\n",
       "      <td>3.0</td>\n",
       "      <td>0</td>\n",
       "      <td>9.0</td>\n",
       "      <td>[['Wasting of money', 'excellent cuisine'], ['...</td>\n",
       "      <td>/Restaurant_Review-g274924-d3199765-Reviews-Ri...</td>\n",
       "      <td>d3199765</td>\n",
       "    </tr>\n",
       "    <tr>\n",
       "      <th>115</th>\n",
       "      <td>id_886</td>\n",
       "      <td>Bratislava</td>\n",
       "      <td>NaN</td>\n",
       "      <td>888.0</td>\n",
       "      <td>1.0</td>\n",
       "      <td>0</td>\n",
       "      <td>3.0</td>\n",
       "      <td>[[], []]</td>\n",
       "      <td>/Restaurant_Review-g274924-d7995801-Reviews-Sl...</td>\n",
       "      <td>d7995801</td>\n",
       "    </tr>\n",
       "    <tr>\n",
       "      <th>133</th>\n",
       "      <td>id_873</td>\n",
       "      <td>Bratislava</td>\n",
       "      <td>['Greek']</td>\n",
       "      <td>874.0</td>\n",
       "      <td>3.0</td>\n",
       "      <td>0</td>\n",
       "      <td>3.0</td>\n",
       "      <td>[['Great for lunch menu'], ['08/04/2014']]</td>\n",
       "      <td>/Restaurant_Review-g274924-d4770241-Reviews-Ol...</td>\n",
       "      <td>d4770241</td>\n",
       "    </tr>\n",
       "    <tr>\n",
       "      <th>154</th>\n",
       "      <td>id_252</td>\n",
       "      <td>Bratislava</td>\n",
       "      <td>NaN</td>\n",
       "      <td>253.0</td>\n",
       "      <td>4.0</td>\n",
       "      <td>0</td>\n",
       "      <td>10.0</td>\n",
       "      <td>[['Perfect Sunday morning', 'Great coffee'], [...</td>\n",
       "      <td>/Restaurant_Review-g274924-d12111665-Reviews-V...</td>\n",
       "      <td>d12111665</td>\n",
       "    </tr>\n",
       "    <tr>\n",
       "      <th>205</th>\n",
       "      <td>id_451</td>\n",
       "      <td>Bratislava</td>\n",
       "      <td>['American', 'Bar', 'European', 'Pub', 'Intern...</td>\n",
       "      <td>452.0</td>\n",
       "      <td>3.0</td>\n",
       "      <td>2</td>\n",
       "      <td>178.0</td>\n",
       "      <td>[['Hard Rock on a budget', 'Quality of the mea...</td>\n",
       "      <td>/Restaurant_Review-g274924-d2085183-Reviews-In...</td>\n",
       "      <td>d2085183</td>\n",
       "    </tr>\n",
       "    <tr>\n",
       "      <th>...</th>\n",
       "      <td>...</td>\n",
       "      <td>...</td>\n",
       "      <td>...</td>\n",
       "      <td>...</td>\n",
       "      <td>...</td>\n",
       "      <td>...</td>\n",
       "      <td>...</td>\n",
       "      <td>...</td>\n",
       "      <td>...</td>\n",
       "      <td>...</td>\n",
       "    </tr>\n",
       "    <tr>\n",
       "      <th>39094</th>\n",
       "      <td>id_587</td>\n",
       "      <td>Bratislava</td>\n",
       "      <td>['Cafe', 'Fast Food']</td>\n",
       "      <td>588.0</td>\n",
       "      <td>4.0</td>\n",
       "      <td>0</td>\n",
       "      <td>NaN</td>\n",
       "      <td>[[], []]</td>\n",
       "      <td>/Restaurant_Review-g274924-d4770268-Reviews-Ca...</td>\n",
       "      <td>d4770268</td>\n",
       "    </tr>\n",
       "    <tr>\n",
       "      <th>39219</th>\n",
       "      <td>id_26</td>\n",
       "      <td>Bratislava</td>\n",
       "      <td>['Bar', 'European', 'Pub', 'Vegetarian Friendly']</td>\n",
       "      <td>27.0</td>\n",
       "      <td>4.5</td>\n",
       "      <td>1</td>\n",
       "      <td>311.0</td>\n",
       "      <td>[['Great bar', 'Great bar'], ['02/23/2018', '0...</td>\n",
       "      <td>/Restaurant_Review-g274924-d4769912-Reviews-17...</td>\n",
       "      <td>d4769912</td>\n",
       "    </tr>\n",
       "    <tr>\n",
       "      <th>39338</th>\n",
       "      <td>id_641</td>\n",
       "      <td>Bratislava</td>\n",
       "      <td>['European']</td>\n",
       "      <td>642.0</td>\n",
       "      <td>3.5</td>\n",
       "      <td>2</td>\n",
       "      <td>22.0</td>\n",
       "      <td>[['excellent breakfast spread', 'One of the be...</td>\n",
       "      <td>/Restaurant_Review-g274924-d4770251-Reviews-Au...</td>\n",
       "      <td>d4770251</td>\n",
       "    </tr>\n",
       "    <tr>\n",
       "      <th>39621</th>\n",
       "      <td>id_478</td>\n",
       "      <td>Bratislava</td>\n",
       "      <td>['International']</td>\n",
       "      <td>479.0</td>\n",
       "      <td>4.0</td>\n",
       "      <td>0</td>\n",
       "      <td>6.0</td>\n",
       "      <td>[['Lovely restaurant with lots of history', 'N...</td>\n",
       "      <td>/Restaurant_Review-g274924-d2722170-Reviews-Ca...</td>\n",
       "      <td>d2722170</td>\n",
       "    </tr>\n",
       "    <tr>\n",
       "      <th>39947</th>\n",
       "      <td>id_276</td>\n",
       "      <td>Bratislava</td>\n",
       "      <td>NaN</td>\n",
       "      <td>277.0</td>\n",
       "      <td>5.0</td>\n",
       "      <td>0</td>\n",
       "      <td>9.0</td>\n",
       "      <td>[['A great lunch stop', 'Not expensive and tas...</td>\n",
       "      <td>/Restaurant_Review-g274924-d4769868-Reviews-St...</td>\n",
       "      <td>d4769868</td>\n",
       "    </tr>\n",
       "  </tbody>\n",
       "</table>\n",
       "<p>301 rows × 10 columns</p>\n",
       "</div>"
      ],
      "text/plain": [
       "      Restaurant_id        City  \\\n",
       "7            id_825  Bratislava   \n",
       "115          id_886  Bratislava   \n",
       "133          id_873  Bratislava   \n",
       "154          id_252  Bratislava   \n",
       "205          id_451  Bratislava   \n",
       "...             ...         ...   \n",
       "39094        id_587  Bratislava   \n",
       "39219         id_26  Bratislava   \n",
       "39338        id_641  Bratislava   \n",
       "39621        id_478  Bratislava   \n",
       "39947        id_276  Bratislava   \n",
       "\n",
       "                                           Cuisine Style  Ranking  Rating  \\\n",
       "7                                            ['Italian']    826.0     3.0   \n",
       "115                                                  NaN    888.0     1.0   \n",
       "133                                            ['Greek']    874.0     3.0   \n",
       "154                                                  NaN    253.0     4.0   \n",
       "205    ['American', 'Bar', 'European', 'Pub', 'Intern...    452.0     3.0   \n",
       "...                                                  ...      ...     ...   \n",
       "39094                              ['Cafe', 'Fast Food']    588.0     4.0   \n",
       "39219  ['Bar', 'European', 'Pub', 'Vegetarian Friendly']     27.0     4.5   \n",
       "39338                                       ['European']    642.0     3.5   \n",
       "39621                                  ['International']    479.0     4.0   \n",
       "39947                                                NaN    277.0     5.0   \n",
       "\n",
       "       Price Range  Number of Reviews  \\\n",
       "7                0                9.0   \n",
       "115              0                3.0   \n",
       "133              0                3.0   \n",
       "154              0               10.0   \n",
       "205              2              178.0   \n",
       "...            ...                ...   \n",
       "39094            0                NaN   \n",
       "39219            1              311.0   \n",
       "39338            2               22.0   \n",
       "39621            0                6.0   \n",
       "39947            0                9.0   \n",
       "\n",
       "                                                 Reviews  \\\n",
       "7      [['Wasting of money', 'excellent cuisine'], ['...   \n",
       "115                                             [[], []]   \n",
       "133           [['Great for lunch menu'], ['08/04/2014']]   \n",
       "154    [['Perfect Sunday morning', 'Great coffee'], [...   \n",
       "205    [['Hard Rock on a budget', 'Quality of the mea...   \n",
       "...                                                  ...   \n",
       "39094                                           [[], []]   \n",
       "39219  [['Great bar', 'Great bar'], ['02/23/2018', '0...   \n",
       "39338  [['excellent breakfast spread', 'One of the be...   \n",
       "39621  [['Lovely restaurant with lots of history', 'N...   \n",
       "39947  [['A great lunch stop', 'Not expensive and tas...   \n",
       "\n",
       "                                                  URL_TA      ID_TA  \n",
       "7      /Restaurant_Review-g274924-d3199765-Reviews-Ri...   d3199765  \n",
       "115    /Restaurant_Review-g274924-d7995801-Reviews-Sl...   d7995801  \n",
       "133    /Restaurant_Review-g274924-d4770241-Reviews-Ol...   d4770241  \n",
       "154    /Restaurant_Review-g274924-d12111665-Reviews-V...  d12111665  \n",
       "205    /Restaurant_Review-g274924-d2085183-Reviews-In...   d2085183  \n",
       "...                                                  ...        ...  \n",
       "39094  /Restaurant_Review-g274924-d4770268-Reviews-Ca...   d4770268  \n",
       "39219  /Restaurant_Review-g274924-d4769912-Reviews-17...   d4769912  \n",
       "39338  /Restaurant_Review-g274924-d4770251-Reviews-Au...   d4770251  \n",
       "39621  /Restaurant_Review-g274924-d2722170-Reviews-Ca...   d2722170  \n",
       "39947  /Restaurant_Review-g274924-d4769868-Reviews-St...   d4769868  \n",
       "\n",
       "[301 rows x 10 columns]"
      ]
     },
     "execution_count": 204,
     "metadata": {},
     "output_type": "execute_result"
    }
   ],
   "source": [
    "# data[((data['Price Range'] < 1) & (data['Reviews'] != '[[], []]'))]\n",
    "data[(data['City'] == 'Bratislava')]"
   ]
  },
  {
   "cell_type": "code",
   "execution_count": 43,
   "metadata": {},
   "outputs": [
    {
     "data": {
      "text/plain": [
       "2.6224"
      ]
     },
     "execution_count": 43,
     "metadata": {},
     "output_type": "execute_result"
    }
   ],
   "source": [
    "# data['Cuisine Style'].unique()\n",
    "style = set()\n",
    "all_style = []\n",
    "style_mean = 0\n",
    "count = 0\n",
    "for i in list(data['Cuisine Style']):\n",
    "    if str(i) != 'nan':\n",
    "#         print(i)\n",
    "#         print(i[2:-2].split(\"\\', \\'\"))\n",
    "        st = i[2:-2].split(\"\\', \\'\")\n",
    "        style_mean += len(st)\n",
    "        count += 1\n",
    "        all_style += st\n",
    "    else:\n",
    "        style_mean += 1\n",
    "        count += 1\n",
    "style_dict = dict()\n",
    "\n",
    "for x in all_style:\n",
    "    style_dict.setdefault(x, 0)\n",
    "    style_dict[x] += 1\n",
    "    \n",
    "style_mean = style_mean/count\n",
    "style_mean"
   ]
  },
  {
   "cell_type": "code",
   "execution_count": 177,
   "metadata": {},
   "outputs": [
    {
     "data": {
      "text/plain": [
       "1881"
      ]
     },
     "execution_count": 177,
     "metadata": {},
     "output_type": "execute_result"
    }
   ],
   "source": [
    "# data['dates'] = \n",
    "def last_reviews(st):\n",
    "    index = 2\n",
    "    list_dates = []\n",
    "    list_dates_step1 = st[3:-3].split(\"], [\") #[-1].split(\"\\', \\'\")\n",
    "    if len(list_dates_step1)>1:\n",
    "        list_dates_step2 = list_dates_step1[0][0:-1].split(\"\\', \\'\")\n",
    "#         print(len(list_dates_step1))\n",
    "        list_dates_step3 = list_dates_step1[1][1:].split(\"\\', \\'\")\n",
    "        list_dates = list_dates_step3[0]\n",
    "        \n",
    "    else:\n",
    "        \n",
    "        list_dates = ''\n",
    "    \n",
    "#     list_dates.append(list_dates_step3)\n",
    "#     print(list_dates)\n",
    "    return list_dates\n",
    "\n",
    "def prev_reviews(st):\n",
    "    list_dates = []\n",
    "    list_dates_step1 = st[3:-3].split(\"], [\") #[-1].split(\"\\', \\'\")\n",
    "    if len(list_dates_step1)>1:\n",
    "        list_dates_step3 = list_dates_step1[1][1:].split(\"\\', \\'\")\n",
    "        if len(list_dates_step3)>1:\n",
    "            list_dates = list_dates_step3[1]\n",
    "        else:\n",
    "            list_dates = ''\n",
    "    else:\n",
    "        list_dates = ''\n",
    "    \n",
    "#     list_dates.append(list_dates_step3)\n",
    "#     print(list_dates)\n",
    "    return list_dates\n",
    "len(data['Reviews'].apply(last_reviews).unique())\n",
    "\n"
   ]
  },
  {
   "cell_type": "code",
   "execution_count": 183,
   "metadata": {},
   "outputs": [
    {
     "data": {
      "text/plain": [
       "Timedelta('3207 days 00:00:00')"
      ]
     },
     "execution_count": 183,
     "metadata": {},
     "output_type": "execute_result"
    }
   ],
   "source": [
    "data['LastDate'] = pd.to_datetime(data['Reviews'].apply(last_reviews))\n",
    "data['PrevDate'] = pd.to_datetime(data['Reviews'].apply(prev_reviews))\n",
    "data['deltaDate'] = data['LastDate'] - data['PrevDate']\n",
    "data['deltaDate'].max()"
   ]
  },
  {
   "cell_type": "code",
   "execution_count": null,
   "metadata": {},
   "outputs": [],
   "source": [
    "cities = \n",
    "cities"
   ]
  }
 ],
 "metadata": {
  "kernelspec": {
   "display_name": "Python 3",
   "language": "python",
   "name": "python3"
  },
  "language_info": {
   "codemirror_mode": {
    "name": "ipython",
    "version": 3
   },
   "file_extension": ".py",
   "mimetype": "text/x-python",
   "name": "python",
   "nbconvert_exporter": "python",
   "pygments_lexer": "ipython3",
   "version": "3.7.1"
  },
  "varInspector": {
   "cols": {
    "lenName": 16,
    "lenType": 16,
    "lenVar": 40
   },
   "kernels_config": {
    "python": {
     "delete_cmd_postfix": "",
     "delete_cmd_prefix": "del ",
     "library": "var_list.py",
     "varRefreshCmd": "print(var_dic_list())"
    },
    "r": {
     "delete_cmd_postfix": ") ",
     "delete_cmd_prefix": "rm(",
     "library": "var_list.r",
     "varRefreshCmd": "cat(var_dic_list()) "
    }
   },
   "types_to_exclude": [
    "module",
    "function",
    "builtin_function_or_method",
    "instance",
    "_Feature"
   ],
   "window_display": false
  }
 },
 "nbformat": 4,
 "nbformat_minor": 4
}
