{
 "cells": [
  {
   "cell_type": "markdown",
   "metadata": {},
   "source": [
    "# Игра Угадай число"
   ]
  },
  {
   "cell_type": "code",
   "execution_count": 1,
   "metadata": {},
   "outputs": [],
   "source": [
    "from main import game_core_v1\n",
    "from main import game_core_v2\n",
    "from main import game_core_v3\n",
    "from main import game_core_v4\n",
    "from main import score_game"
   ]
  },
  {
   "cell_type": "markdown",
   "metadata": {},
   "source": [
    "## Интерактивная версия"
   ]
  },
  {
   "cell_type": "code",
   "execution_count": 2,
   "metadata": {
    "scrolled": true
   },
   "outputs": [
    {
     "name": "stdout",
     "output_type": "stream",
     "text": [
      "Загадайте число от 1 до 99:\n",
      "2\n",
      "Алгоритм угадал число за 6 попыток.\n"
     ]
    }
   ],
   "source": [
    "# Запрос числа пользователя в интервале от 1 до 99.\n",
    "number = int(input('Загадайте число от 1 до 99:\\n'))\n",
    "\n",
    "# Запуск\n",
    "score_count = game_core_v4(number)\n",
    "print(f'Алгоритм угадал число за {score_count} попыток.')"
   ]
  },
  {
   "cell_type": "markdown",
   "metadata": {},
   "source": [
    "## Тест эффективности"
   ]
  },
  {
   "cell_type": "code",
   "execution_count": 4,
   "metadata": {},
   "outputs": [
    {
     "name": "stdout",
     "output_type": "stream",
     "text": [
      "Тест game_core_v1: Ваш алгоритм угадывает число в среднем за 101 попыток\n",
      "Тест game_core_v2: Ваш алгоритм угадывает число в среднем за 50 попыток\n",
      "Тест game_core_v3: Ваш алгоритм угадывает число в среднем за 33 попыток\n",
      "Тест game_core_v4: Ваш алгоритм угадывает число в среднем за 5 попыток\n"
     ]
    },
    {
     "data": {
      "text/plain": [
       "5"
      ]
     },
     "execution_count": 4,
     "metadata": {},
     "output_type": "execute_result"
    }
   ],
   "source": [
    "print('Тест game_core_v1: ', end='')\n",
    "score_game(game_core_v1)\n",
    "\n",
    "print('Тест game_core_v2: ', end='')\n",
    "score_game(game_core_v2)\n",
    "\n",
    "print('Тест game_core_v3: ', end='')\n",
    "score_game(game_core_v3)\n",
    "\n",
    "print('Тест game_core_v4: ', end='')\n",
    "score_game(game_core_v4)"
   ]
  }
 ],
 "metadata": {
  "kernelspec": {
   "display_name": "Python 3",
   "language": "python",
   "name": "python3"
  },
  "language_info": {
   "codemirror_mode": {
    "name": "ipython",
    "version": 3
   },
   "file_extension": ".py",
   "mimetype": "text/x-python",
   "name": "python",
   "nbconvert_exporter": "python",
   "pygments_lexer": "ipython3",
   "version": "3.7.1"
  },
  "varInspector": {
   "cols": {
    "lenName": 16,
    "lenType": 16,
    "lenVar": 40
   },
   "kernels_config": {
    "python": {
     "delete_cmd_postfix": "",
     "delete_cmd_prefix": "del ",
     "library": "var_list.py",
     "varRefreshCmd": "print(var_dic_list())"
    },
    "r": {
     "delete_cmd_postfix": ") ",
     "delete_cmd_prefix": "rm(",
     "library": "var_list.r",
     "varRefreshCmd": "cat(var_dic_list()) "
    }
   },
   "types_to_exclude": [
    "module",
    "function",
    "builtin_function_or_method",
    "instance",
    "_Feature"
   ],
   "window_display": false
  }
 },
 "nbformat": 4,
 "nbformat_minor": 4
}
