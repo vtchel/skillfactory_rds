{
 "cells": [
  {
   "cell_type": "code",
   "execution_count": 1,
   "metadata": {
    "_cell_guid": "b1076dfc-b9ad-4769-8c92-a6c4dae69d19",
    "_uuid": "8f2839f25d086af736a60e9eeb907d3b93b6e0e5",
    "execution": {
     "iopub.execute_input": "2020-12-01T20:03:11.859391Z",
     "iopub.status.busy": "2020-12-01T20:03:11.858617Z",
     "iopub.status.idle": "2020-12-01T20:03:13.177135Z",
     "shell.execute_reply": "2020-12-01T20:03:13.176086Z"
    },
    "papermill": {
     "duration": 1.374924,
     "end_time": "2020-12-01T20:03:13.177302",
     "exception": false,
     "start_time": "2020-12-01T20:03:11.802378",
     "status": "completed"
    },
    "tags": []
   },
   "outputs": [
    {
     "name": "stdout",
     "output_type": "stream",
     "text": [
      "./data/test.csv\n",
      "./data/train-2.csv\n",
      "./data/train.csv\n"
     ]
    }
   ],
   "source": [
    "# This Python 3 environment comes with many helpful analytics libraries installed\n",
    "# It is defined by the kaggle/python Docker image: https://github.com/kaggle/docker-python\n",
    "# For example, here's several helpful packages to load\n",
    "\n",
    "import numpy as np # linear algebra\n",
    "import pandas as pd # data processing, CSV file I/O (e.g. pd.read_csv)\n",
    "import matplotlib.pyplot as plt\n",
    "from sklearn.model_selection import train_test_split\n",
    "from sklearn.linear_model import LogisticRegression\n",
    "from sklearn.tree import DecisionTreeClassifier\n",
    "from sklearn.preprocessing import LabelEncoder, OneHotEncoder, StandardScaler\n",
    "from sklearn.metrics import auc, roc_auc_score, roc_curve, f1_score, confusion_matrix, accuracy_score, precision_score, recall_score\n",
    "from sklearn.model_selection import GridSearchCV\n",
    "import seaborn as sns\n",
    "import warnings\n",
    "warnings.filterwarnings('ignore')\n",
    "\n",
    "# Input data files are available in the read-only \"../input/\" directory\n",
    "# For example, running this (by clicking run or pressing Shift+Enter) will list all files under the input directory\n",
    "\n",
    "import os\n",
    "for dirname, _, filenames in os.walk('./data'):\n",
    "    for filename in filenames:\n",
    "        print(os.path.join(dirname, filename))\n",
    "\n",
    "# You can write up to 20GB to the current directory (/kaggle/working/) that gets preserved as output when you create a version using \"Save & Run All\" \n",
    "# You can also write temporary files to /kaggle/temp/, but they won't be saved outside of the current session"
   ]
  },
  {
   "cell_type": "code",
   "execution_count": 2,
   "metadata": {
    "_cell_guid": "79c7e3d0-c299-4dcb-8224-4455121ee9b0",
    "_uuid": "d629ff2d2480ee46fbb7e2d37f6b5fab8052498a",
    "execution": {
     "iopub.execute_input": "2020-12-01T20:03:13.274746Z",
     "iopub.status.busy": "2020-12-01T20:03:13.273994Z",
     "iopub.status.idle": "2020-12-01T20:03:16.060689Z",
     "shell.execute_reply": "2020-12-01T20:03:16.059987Z"
    },
    "papermill": {
     "duration": 2.837188,
     "end_time": "2020-12-01T20:03:16.060824",
     "exception": false,
     "start_time": "2020-12-01T20:03:13.223636",
     "status": "completed"
    },
    "tags": []
   },
   "outputs": [
    {
     "name": "stdout",
     "output_type": "stream",
     "text": [
      "\u001b[33mDEPRECATION: Python 2.7 reached the end of its life on January 1st, 2020. Please upgrade your Python as Python 2.7 is no longer maintained. pip 21.0 will drop support for Python 2.7 in January 2021. More details about Python 2 support in pip, can be found at https://pip.pypa.io/en/latest/development/release-process/#python-2-support\u001b[0m\r\n"
     ]
    }
   ],
   "source": [
    "RANDOM_SEED = 42\n",
    "!pip freeze > requirements.txt\n",
    "CURRENT_DATE = pd.to_datetime('29/11/2020')\n",
    "current_dirname = './data'"
   ]
  },
  {
   "cell_type": "code",
   "execution_count": 3,
   "metadata": {
    "execution": {
     "iopub.execute_input": "2020-12-01T20:03:16.161593Z",
     "iopub.status.busy": "2020-12-01T20:03:16.160754Z",
     "iopub.status.idle": "2020-12-01T20:03:16.499055Z",
     "shell.execute_reply": "2020-12-01T20:03:16.498333Z"
    },
    "papermill": {
     "duration": 0.392816,
     "end_time": "2020-12-01T20:03:16.499174",
     "exception": false,
     "start_time": "2020-12-01T20:03:16.106358",
     "status": "completed"
    },
    "tags": []
   },
   "outputs": [
    {
     "name": "stdout",
     "output_type": "stream",
     "text": [
      "Размерность тренировочного датасета:  (73799, 19)\n"
     ]
    },
    {
     "data": {
      "text/html": [
       "<div>\n",
       "<style scoped>\n",
       "    .dataframe tbody tr th:only-of-type {\n",
       "        vertical-align: middle;\n",
       "    }\n",
       "\n",
       "    .dataframe tbody tr th {\n",
       "        vertical-align: top;\n",
       "    }\n",
       "\n",
       "    .dataframe thead th {\n",
       "        text-align: right;\n",
       "    }\n",
       "</style>\n",
       "<table border=\"1\" class=\"dataframe\">\n",
       "  <thead>\n",
       "    <tr style=\"text-align: right;\">\n",
       "      <th></th>\n",
       "      <th>client_id</th>\n",
       "      <th>app_date</th>\n",
       "      <th>education</th>\n",
       "      <th>sex</th>\n",
       "      <th>age</th>\n",
       "      <th>car</th>\n",
       "      <th>car_type</th>\n",
       "      <th>decline_app_cnt</th>\n",
       "      <th>good_work</th>\n",
       "      <th>score_bki</th>\n",
       "      <th>bki_request_cnt</th>\n",
       "      <th>region_rating</th>\n",
       "      <th>home_address</th>\n",
       "      <th>work_address</th>\n",
       "      <th>income</th>\n",
       "      <th>sna</th>\n",
       "      <th>first_time</th>\n",
       "      <th>foreign_passport</th>\n",
       "      <th>default</th>\n",
       "    </tr>\n",
       "  </thead>\n",
       "  <tbody>\n",
       "    <tr>\n",
       "      <th>0</th>\n",
       "      <td>25905</td>\n",
       "      <td>01FEB2014</td>\n",
       "      <td>SCH</td>\n",
       "      <td>M</td>\n",
       "      <td>62</td>\n",
       "      <td>Y</td>\n",
       "      <td>Y</td>\n",
       "      <td>0</td>\n",
       "      <td>0</td>\n",
       "      <td>-2.008753</td>\n",
       "      <td>1</td>\n",
       "      <td>50</td>\n",
       "      <td>1</td>\n",
       "      <td>2</td>\n",
       "      <td>18000</td>\n",
       "      <td>4</td>\n",
       "      <td>1</td>\n",
       "      <td>N</td>\n",
       "      <td>0</td>\n",
       "    </tr>\n",
       "    <tr>\n",
       "      <th>1</th>\n",
       "      <td>63161</td>\n",
       "      <td>12MAR2014</td>\n",
       "      <td>SCH</td>\n",
       "      <td>F</td>\n",
       "      <td>59</td>\n",
       "      <td>N</td>\n",
       "      <td>N</td>\n",
       "      <td>0</td>\n",
       "      <td>0</td>\n",
       "      <td>-1.532276</td>\n",
       "      <td>3</td>\n",
       "      <td>50</td>\n",
       "      <td>2</td>\n",
       "      <td>3</td>\n",
       "      <td>19000</td>\n",
       "      <td>4</td>\n",
       "      <td>1</td>\n",
       "      <td>N</td>\n",
       "      <td>0</td>\n",
       "    </tr>\n",
       "  </tbody>\n",
       "</table>\n",
       "</div>"
      ],
      "text/plain": [
       "   client_id   app_date education sex  age car car_type  decline_app_cnt  \\\n",
       "0      25905  01FEB2014       SCH   M   62   Y        Y                0   \n",
       "1      63161  12MAR2014       SCH   F   59   N        N                0   \n",
       "\n",
       "   good_work  score_bki  bki_request_cnt  region_rating  home_address  \\\n",
       "0          0  -2.008753                1             50             1   \n",
       "1          0  -1.532276                3             50             2   \n",
       "\n",
       "   work_address  income  sna  first_time foreign_passport  default  \n",
       "0             2   18000    4           1                N        0  \n",
       "1             3   19000    4           1                N        0  "
      ]
     },
     "metadata": {},
     "output_type": "display_data"
    },
    {
     "name": "stdout",
     "output_type": "stream",
     "text": [
      "Размерность тестового датасета:  (36349, 18)\n"
     ]
    },
    {
     "data": {
      "text/html": [
       "<div>\n",
       "<style scoped>\n",
       "    .dataframe tbody tr th:only-of-type {\n",
       "        vertical-align: middle;\n",
       "    }\n",
       "\n",
       "    .dataframe tbody tr th {\n",
       "        vertical-align: top;\n",
       "    }\n",
       "\n",
       "    .dataframe thead th {\n",
       "        text-align: right;\n",
       "    }\n",
       "</style>\n",
       "<table border=\"1\" class=\"dataframe\">\n",
       "  <thead>\n",
       "    <tr style=\"text-align: right;\">\n",
       "      <th></th>\n",
       "      <th>client_id</th>\n",
       "      <th>app_date</th>\n",
       "      <th>education</th>\n",
       "      <th>sex</th>\n",
       "      <th>age</th>\n",
       "      <th>car</th>\n",
       "      <th>car_type</th>\n",
       "      <th>decline_app_cnt</th>\n",
       "      <th>good_work</th>\n",
       "      <th>score_bki</th>\n",
       "      <th>bki_request_cnt</th>\n",
       "      <th>region_rating</th>\n",
       "      <th>home_address</th>\n",
       "      <th>work_address</th>\n",
       "      <th>income</th>\n",
       "      <th>sna</th>\n",
       "      <th>first_time</th>\n",
       "      <th>foreign_passport</th>\n",
       "    </tr>\n",
       "  </thead>\n",
       "  <tbody>\n",
       "    <tr>\n",
       "      <th>0</th>\n",
       "      <td>74835</td>\n",
       "      <td>22MAR2014</td>\n",
       "      <td>GRD</td>\n",
       "      <td>M</td>\n",
       "      <td>29</td>\n",
       "      <td>Y</td>\n",
       "      <td>Y</td>\n",
       "      <td>0</td>\n",
       "      <td>0</td>\n",
       "      <td>-2.271884</td>\n",
       "      <td>3</td>\n",
       "      <td>50</td>\n",
       "      <td>1</td>\n",
       "      <td>2</td>\n",
       "      <td>50000</td>\n",
       "      <td>1</td>\n",
       "      <td>4</td>\n",
       "      <td>N</td>\n",
       "    </tr>\n",
       "    <tr>\n",
       "      <th>1</th>\n",
       "      <td>17527</td>\n",
       "      <td>24JAN2014</td>\n",
       "      <td>SCH</td>\n",
       "      <td>F</td>\n",
       "      <td>39</td>\n",
       "      <td>N</td>\n",
       "      <td>N</td>\n",
       "      <td>5</td>\n",
       "      <td>0</td>\n",
       "      <td>-1.504999</td>\n",
       "      <td>2</td>\n",
       "      <td>50</td>\n",
       "      <td>1</td>\n",
       "      <td>2</td>\n",
       "      <td>5000</td>\n",
       "      <td>4</td>\n",
       "      <td>3</td>\n",
       "      <td>N</td>\n",
       "    </tr>\n",
       "  </tbody>\n",
       "</table>\n",
       "</div>"
      ],
      "text/plain": [
       "   client_id   app_date education sex  age car car_type  decline_app_cnt  \\\n",
       "0      74835  22MAR2014       GRD   M   29   Y        Y                0   \n",
       "1      17527  24JAN2014       SCH   F   39   N        N                5   \n",
       "\n",
       "   good_work  score_bki  bki_request_cnt  region_rating  home_address  \\\n",
       "0          0  -2.271884                3             50             1   \n",
       "1          0  -1.504999                2             50             1   \n",
       "\n",
       "   work_address  income  sna  first_time foreign_passport  \n",
       "0             2   50000    1           4                N  \n",
       "1             2    5000    4           3                N  "
      ]
     },
     "metadata": {},
     "output_type": "display_data"
    }
   ],
   "source": [
    "df_train = pd.read_csv(f'{current_dirname}/train.csv')\n",
    "df_test = pd.read_csv(f'{current_dirname}/test.csv')\n",
    "sample_submission = pd.read_csv(f'{current_dirname}/sample_submission.csv')\n",
    "pd.set_option('display.max_columns', None)\n",
    "print('Размерность тренировочного датасета: ', df_train.shape)\n",
    "display(df_train.head(2))\n",
    "print('Размерность тестового датасета: ', df_test.shape)\n",
    "display(df_test.head(2))"
   ]
  },
  {
   "cell_type": "code",
   "execution_count": 4,
   "metadata": {
    "execution": {
     "iopub.execute_input": "2020-12-01T20:03:16.602733Z",
     "iopub.status.busy": "2020-12-01T20:03:16.601144Z",
     "iopub.status.idle": "2020-12-01T20:03:16.675956Z",
     "shell.execute_reply": "2020-12-01T20:03:16.675307Z"
    },
    "papermill": {
     "duration": 0.129004,
     "end_time": "2020-12-01T20:03:16.676091",
     "exception": false,
     "start_time": "2020-12-01T20:03:16.547087",
     "status": "completed"
    },
    "tags": []
   },
   "outputs": [],
   "source": [
    "# объединяем трейн и тест в один датасет\n",
    "df_train['train'] = 1 # помечаем где у нас трейн\n",
    "df_test['train'] = 0 # помечаем где у нас тест\n",
    "\n",
    "df = df_train.append(df_test, sort=False).reset_index(drop=True) # объединяем датасеты\n"
   ]
  },
  {
   "cell_type": "code",
   "execution_count": 5,
   "metadata": {
    "execution": {
     "iopub.execute_input": "2020-12-01T20:03:16.777189Z",
     "iopub.status.busy": "2020-12-01T20:03:16.775814Z",
     "iopub.status.idle": "2020-12-01T20:03:16.895855Z",
     "shell.execute_reply": "2020-12-01T20:03:16.896818Z"
    },
    "papermill": {
     "duration": 0.173359,
     "end_time": "2020-12-01T20:03:16.897014",
     "exception": false,
     "start_time": "2020-12-01T20:03:16.723655",
     "status": "completed"
    },
    "tags": []
   },
   "outputs": [
    {
     "name": "stdout",
     "output_type": "stream",
     "text": [
      "<class 'pandas.core.frame.DataFrame'>\n",
      "RangeIndex: 110148 entries, 0 to 110147\n",
      "Data columns (total 20 columns):\n",
      " #   Column            Non-Null Count   Dtype  \n",
      "---  ------            --------------   -----  \n",
      " 0   client_id         110148 non-null  int64  \n",
      " 1   app_date          110148 non-null  object \n",
      " 2   education         109670 non-null  object \n",
      " 3   sex               110148 non-null  object \n",
      " 4   age               110148 non-null  int64  \n",
      " 5   car               110148 non-null  object \n",
      " 6   car_type          110148 non-null  object \n",
      " 7   decline_app_cnt   110148 non-null  int64  \n",
      " 8   good_work         110148 non-null  int64  \n",
      " 9   score_bki         110148 non-null  float64\n",
      " 10  bki_request_cnt   110148 non-null  int64  \n",
      " 11  region_rating     110148 non-null  int64  \n",
      " 12  home_address      110148 non-null  int64  \n",
      " 13  work_address      110148 non-null  int64  \n",
      " 14  income            110148 non-null  int64  \n",
      " 15  sna               110148 non-null  int64  \n",
      " 16  first_time        110148 non-null  int64  \n",
      " 17  foreign_passport  110148 non-null  object \n",
      " 18  default           73799 non-null   float64\n",
      " 19  train             110148 non-null  int64  \n",
      "dtypes: float64(2), int64(12), object(6)\n",
      "memory usage: 16.8+ MB\n"
     ]
    }
   ],
   "source": [
    "df.info()"
   ]
  },
  {
   "cell_type": "markdown",
   "metadata": {
    "papermill": {
     "duration": 0.048702,
     "end_time": "2020-12-01T20:03:16.995264",
     "exception": false,
     "start_time": "2020-12-01T20:03:16.946562",
     "status": "completed"
    },
    "tags": []
   },
   "source": [
    "Описание полей датасета:\n",
    "\n",
    "* client_id - идентификатор клиента\n",
    "* education - уровень образования\n",
    "* sex - пол заемщика\n",
    "* age - возраст заемщика\n",
    "* car - флаг наличия автомобиля\n",
    "* car_type - флаг автомобиля иномарки\n",
    "* decline_app_cnt - количество отказанных прошлых заявок\n",
    "* good_work - флаг наличия “хорошей” работы\n",
    "* bki_request_cnt - количество запросов в БКИ\n",
    "* home_address - категоризатор домашнего адреса\n",
    "* work_address - категоризатор рабочего адреса\n",
    "* income - доход заемщика\n",
    "* foreign_passport - наличие загранпаспорта\n",
    "* sna - связь заемщика с клиентами банка\n",
    "* first_time - давность наличия информации о заемщике\n",
    "* score_bki - скоринговый балл по данным из БКИ\n",
    "* region_rating - рейтинг региона\n",
    "* app_date - дата подачи заявки\n",
    "* default - флаг дефолта по кредиту"
   ]
  },
  {
   "cell_type": "code",
   "execution_count": 6,
   "metadata": {
    "execution": {
     "iopub.execute_input": "2020-12-01T20:03:17.103636Z",
     "iopub.status.busy": "2020-12-01T20:03:17.102378Z",
     "iopub.status.idle": "2020-12-01T20:03:17.195903Z",
     "shell.execute_reply": "2020-12-01T20:03:17.195143Z"
    },
    "papermill": {
     "duration": 0.152108,
     "end_time": "2020-12-01T20:03:17.196027",
     "exception": false,
     "start_time": "2020-12-01T20:03:17.043919",
     "status": "completed"
    },
    "tags": []
   },
   "outputs": [
    {
     "data": {
      "text/html": [
       "<div>\n",
       "<style scoped>\n",
       "    .dataframe tbody tr th:only-of-type {\n",
       "        vertical-align: middle;\n",
       "    }\n",
       "\n",
       "    .dataframe tbody tr th {\n",
       "        vertical-align: top;\n",
       "    }\n",
       "\n",
       "    .dataframe thead th {\n",
       "        text-align: right;\n",
       "    }\n",
       "</style>\n",
       "<table border=\"1\" class=\"dataframe\">\n",
       "  <thead>\n",
       "    <tr style=\"text-align: right;\">\n",
       "      <th></th>\n",
       "      <th>client_id</th>\n",
       "      <th>age</th>\n",
       "      <th>decline_app_cnt</th>\n",
       "      <th>good_work</th>\n",
       "      <th>score_bki</th>\n",
       "      <th>bki_request_cnt</th>\n",
       "      <th>region_rating</th>\n",
       "      <th>home_address</th>\n",
       "      <th>work_address</th>\n",
       "      <th>income</th>\n",
       "      <th>sna</th>\n",
       "      <th>first_time</th>\n",
       "      <th>default</th>\n",
       "      <th>train</th>\n",
       "    </tr>\n",
       "  </thead>\n",
       "  <tbody>\n",
       "    <tr>\n",
       "      <th>count</th>\n",
       "      <td>110148.000000</td>\n",
       "      <td>110148.000000</td>\n",
       "      <td>110148.000000</td>\n",
       "      <td>110148.000000</td>\n",
       "      <td>110148.000000</td>\n",
       "      <td>110148.000000</td>\n",
       "      <td>110148.000000</td>\n",
       "      <td>110148.000000</td>\n",
       "      <td>110148.000000</td>\n",
       "      <td>110148.000000</td>\n",
       "      <td>110148.000000</td>\n",
       "      <td>110148.000000</td>\n",
       "      <td>73799.000000</td>\n",
       "      <td>110148.000000</td>\n",
       "    </tr>\n",
       "    <tr>\n",
       "      <th>mean</th>\n",
       "      <td>55074.500000</td>\n",
       "      <td>39.249410</td>\n",
       "      <td>0.273205</td>\n",
       "      <td>0.165514</td>\n",
       "      <td>-1.904535</td>\n",
       "      <td>2.005002</td>\n",
       "      <td>56.751189</td>\n",
       "      <td>1.574945</td>\n",
       "      <td>2.497867</td>\n",
       "      <td>41012.648537</td>\n",
       "      <td>1.731588</td>\n",
       "      <td>2.765570</td>\n",
       "      <td>0.126994</td>\n",
       "      <td>0.669999</td>\n",
       "    </tr>\n",
       "    <tr>\n",
       "      <th>std</th>\n",
       "      <td>31797.133063</td>\n",
       "      <td>11.518063</td>\n",
       "      <td>0.799099</td>\n",
       "      <td>0.371645</td>\n",
       "      <td>0.499397</td>\n",
       "      <td>2.266926</td>\n",
       "      <td>13.065923</td>\n",
       "      <td>0.527562</td>\n",
       "      <td>0.687651</td>\n",
       "      <td>45399.735051</td>\n",
       "      <td>1.122652</td>\n",
       "      <td>1.010151</td>\n",
       "      <td>0.332968</td>\n",
       "      <td>0.470215</td>\n",
       "    </tr>\n",
       "    <tr>\n",
       "      <th>min</th>\n",
       "      <td>1.000000</td>\n",
       "      <td>21.000000</td>\n",
       "      <td>0.000000</td>\n",
       "      <td>0.000000</td>\n",
       "      <td>-3.624586</td>\n",
       "      <td>0.000000</td>\n",
       "      <td>20.000000</td>\n",
       "      <td>1.000000</td>\n",
       "      <td>1.000000</td>\n",
       "      <td>1000.000000</td>\n",
       "      <td>1.000000</td>\n",
       "      <td>1.000000</td>\n",
       "      <td>0.000000</td>\n",
       "      <td>0.000000</td>\n",
       "    </tr>\n",
       "    <tr>\n",
       "      <th>25%</th>\n",
       "      <td>27537.750000</td>\n",
       "      <td>30.000000</td>\n",
       "      <td>0.000000</td>\n",
       "      <td>0.000000</td>\n",
       "      <td>-2.260434</td>\n",
       "      <td>0.000000</td>\n",
       "      <td>50.000000</td>\n",
       "      <td>1.000000</td>\n",
       "      <td>2.000000</td>\n",
       "      <td>20000.000000</td>\n",
       "      <td>1.000000</td>\n",
       "      <td>2.000000</td>\n",
       "      <td>0.000000</td>\n",
       "      <td>0.000000</td>\n",
       "    </tr>\n",
       "    <tr>\n",
       "      <th>50%</th>\n",
       "      <td>55074.500000</td>\n",
       "      <td>37.000000</td>\n",
       "      <td>0.000000</td>\n",
       "      <td>0.000000</td>\n",
       "      <td>-1.920823</td>\n",
       "      <td>1.000000</td>\n",
       "      <td>50.000000</td>\n",
       "      <td>2.000000</td>\n",
       "      <td>3.000000</td>\n",
       "      <td>30000.000000</td>\n",
       "      <td>1.000000</td>\n",
       "      <td>3.000000</td>\n",
       "      <td>0.000000</td>\n",
       "      <td>1.000000</td>\n",
       "    </tr>\n",
       "    <tr>\n",
       "      <th>75%</th>\n",
       "      <td>82611.250000</td>\n",
       "      <td>48.000000</td>\n",
       "      <td>0.000000</td>\n",
       "      <td>0.000000</td>\n",
       "      <td>-1.567888</td>\n",
       "      <td>3.000000</td>\n",
       "      <td>60.000000</td>\n",
       "      <td>2.000000</td>\n",
       "      <td>3.000000</td>\n",
       "      <td>48000.000000</td>\n",
       "      <td>2.000000</td>\n",
       "      <td>4.000000</td>\n",
       "      <td>0.000000</td>\n",
       "      <td>1.000000</td>\n",
       "    </tr>\n",
       "    <tr>\n",
       "      <th>max</th>\n",
       "      <td>110148.000000</td>\n",
       "      <td>72.000000</td>\n",
       "      <td>33.000000</td>\n",
       "      <td>1.000000</td>\n",
       "      <td>0.199773</td>\n",
       "      <td>53.000000</td>\n",
       "      <td>80.000000</td>\n",
       "      <td>3.000000</td>\n",
       "      <td>3.000000</td>\n",
       "      <td>1000000.000000</td>\n",
       "      <td>4.000000</td>\n",
       "      <td>4.000000</td>\n",
       "      <td>1.000000</td>\n",
       "      <td>1.000000</td>\n",
       "    </tr>\n",
       "  </tbody>\n",
       "</table>\n",
       "</div>"
      ],
      "text/plain": [
       "           client_id            age  decline_app_cnt      good_work  \\\n",
       "count  110148.000000  110148.000000    110148.000000  110148.000000   \n",
       "mean    55074.500000      39.249410         0.273205       0.165514   \n",
       "std     31797.133063      11.518063         0.799099       0.371645   \n",
       "min         1.000000      21.000000         0.000000       0.000000   \n",
       "25%     27537.750000      30.000000         0.000000       0.000000   \n",
       "50%     55074.500000      37.000000         0.000000       0.000000   \n",
       "75%     82611.250000      48.000000         0.000000       0.000000   \n",
       "max    110148.000000      72.000000        33.000000       1.000000   \n",
       "\n",
       "           score_bki  bki_request_cnt  region_rating   home_address  \\\n",
       "count  110148.000000    110148.000000  110148.000000  110148.000000   \n",
       "mean       -1.904535         2.005002      56.751189       1.574945   \n",
       "std         0.499397         2.266926      13.065923       0.527562   \n",
       "min        -3.624586         0.000000      20.000000       1.000000   \n",
       "25%        -2.260434         0.000000      50.000000       1.000000   \n",
       "50%        -1.920823         1.000000      50.000000       2.000000   \n",
       "75%        -1.567888         3.000000      60.000000       2.000000   \n",
       "max         0.199773        53.000000      80.000000       3.000000   \n",
       "\n",
       "        work_address          income            sna     first_time  \\\n",
       "count  110148.000000   110148.000000  110148.000000  110148.000000   \n",
       "mean        2.497867    41012.648537       1.731588       2.765570   \n",
       "std         0.687651    45399.735051       1.122652       1.010151   \n",
       "min         1.000000     1000.000000       1.000000       1.000000   \n",
       "25%         2.000000    20000.000000       1.000000       2.000000   \n",
       "50%         3.000000    30000.000000       1.000000       3.000000   \n",
       "75%         3.000000    48000.000000       2.000000       4.000000   \n",
       "max         3.000000  1000000.000000       4.000000       4.000000   \n",
       "\n",
       "            default          train  \n",
       "count  73799.000000  110148.000000  \n",
       "mean       0.126994       0.669999  \n",
       "std        0.332968       0.470215  \n",
       "min        0.000000       0.000000  \n",
       "25%        0.000000       0.000000  \n",
       "50%        0.000000       1.000000  \n",
       "75%        0.000000       1.000000  \n",
       "max        1.000000       1.000000  "
      ]
     },
     "execution_count": 6,
     "metadata": {},
     "output_type": "execute_result"
    }
   ],
   "source": [
    "df.describe()"
   ]
  },
  {
   "cell_type": "code",
   "execution_count": 7,
   "metadata": {
    "execution": {
     "iopub.execute_input": "2020-12-01T20:03:17.300047Z",
     "iopub.status.busy": "2020-12-01T20:03:17.299237Z",
     "iopub.status.idle": "2020-12-01T20:03:17.308925Z",
     "shell.execute_reply": "2020-12-01T20:03:17.308053Z"
    },
    "papermill": {
     "duration": 0.063594,
     "end_time": "2020-12-01T20:03:17.309059",
     "exception": false,
     "start_time": "2020-12-01T20:03:17.245465",
     "status": "completed"
    },
    "tags": []
   },
   "outputs": [
    {
     "data": {
      "text/plain": [
       "110148"
      ]
     },
     "execution_count": 7,
     "metadata": {},
     "output_type": "execute_result"
    }
   ],
   "source": [
    "df.client_id.nunique()"
   ]
  },
  {
   "cell_type": "markdown",
   "metadata": {
    "papermill": {
     "duration": 0.049219,
     "end_time": "2020-12-01T20:03:17.408206",
     "exception": false,
     "start_time": "2020-12-01T20:03:17.358987",
     "status": "completed"
    },
    "tags": []
   },
   "source": [
    "Идентификатор клиента, уникальные записи, информационной нагрузки не несет. В модели не используется."
   ]
  },
  {
   "cell_type": "markdown",
   "metadata": {
    "papermill": {
     "duration": 0.049511,
     "end_time": "2020-12-01T20:03:17.507530",
     "exception": false,
     "start_time": "2020-12-01T20:03:17.458019",
     "status": "completed"
    },
    "tags": []
   },
   "source": [
    "# EDA"
   ]
  },
  {
   "cell_type": "markdown",
   "metadata": {
    "papermill": {
     "duration": 0.049594,
     "end_time": "2020-12-01T20:03:17.606709",
     "exception": false,
     "start_time": "2020-12-01T20:03:17.557115",
     "status": "completed"
    },
    "tags": []
   },
   "source": [
    "app_date - дата подачи заявки\n",
    "\n",
    "преобразуем в datatime формат"
   ]
  },
  {
   "cell_type": "code",
   "execution_count": 8,
   "metadata": {
    "execution": {
     "iopub.execute_input": "2020-12-01T20:03:17.720394Z",
     "iopub.status.busy": "2020-12-01T20:03:17.719674Z",
     "iopub.status.idle": "2020-12-01T20:03:17.750502Z",
     "shell.execute_reply": "2020-12-01T20:03:17.749861Z"
    },
    "papermill": {
     "duration": 0.094334,
     "end_time": "2020-12-01T20:03:17.750637",
     "exception": false,
     "start_time": "2020-12-01T20:03:17.656303",
     "status": "completed"
    },
    "tags": []
   },
   "outputs": [],
   "source": [
    "df.app_date = pd.to_datetime(df.app_date, format='%d%b%Y')"
   ]
  },
  {
   "cell_type": "code",
   "execution_count": 9,
   "metadata": {
    "execution": {
     "iopub.execute_input": "2020-12-01T20:03:17.855814Z",
     "iopub.status.busy": "2020-12-01T20:03:17.855001Z",
     "iopub.status.idle": "2020-12-01T20:03:17.860301Z",
     "shell.execute_reply": "2020-12-01T20:03:17.859556Z"
    },
    "papermill": {
     "duration": 0.060098,
     "end_time": "2020-12-01T20:03:17.860440",
     "exception": false,
     "start_time": "2020-12-01T20:03:17.800342",
     "status": "completed"
    },
    "tags": []
   },
   "outputs": [
    {
     "name": "stdout",
     "output_type": "stream",
     "text": [
      "2014-01-01 00:00:00\n"
     ]
    }
   ],
   "source": [
    "start_df_date = df.app_date.min()  # дата первой заяки в датасете\n",
    "print(start_df_date)"
   ]
  },
  {
   "cell_type": "markdown",
   "metadata": {
    "papermill": {
     "duration": 0.050823,
     "end_time": "2020-12-01T20:03:17.961967",
     "exception": false,
     "start_time": "2020-12-01T20:03:17.911144",
     "status": "completed"
    },
    "tags": []
   },
   "source": [
    "Посмотрим на распределение количества заявок по дням"
   ]
  },
  {
   "cell_type": "code",
   "execution_count": 10,
   "metadata": {
    "execution": {
     "iopub.execute_input": "2020-12-01T20:03:18.070112Z",
     "iopub.status.busy": "2020-12-01T20:03:18.069247Z",
     "iopub.status.idle": "2020-12-01T20:03:18.658098Z",
     "shell.execute_reply": "2020-12-01T20:03:18.657503Z"
    },
    "papermill": {
     "duration": 0.644237,
     "end_time": "2020-12-01T20:03:18.658226",
     "exception": false,
     "start_time": "2020-12-01T20:03:18.013989",
     "status": "completed"
    },
    "tags": []
   },
   "outputs": [
    {
     "data": {
      "text/plain": [
       "<matplotlib.axes._subplots.AxesSubplot at 0x7fe84740fb90>"
      ]
     },
     "execution_count": 10,
     "metadata": {},
     "output_type": "execute_result"
    },
    {
     "data": {
      "image/png": "[encoded data removed]",
      "text/plain": [
       "<Figure size 432x288 with 1 Axes>"
      ]
     },
     "metadata": {
      "needs_background": "light"
     },
     "output_type": "display_data"
    }
   ],
   "source": [
    "df.app_date.hist(bins=150)"
   ]
  },
  {
   "cell_type": "markdown",
   "metadata": {
    "papermill": {
     "duration": 0.0519,
     "end_time": "2020-12-01T20:03:18.769900",
     "exception": false,
     "start_time": "2020-12-01T20:03:18.718000",
     "status": "completed"
    },
    "tags": []
   },
   "source": [
    "Заявки в основном распределены равномерно, в начале января небольшой спад, видимо связан с праздничными днями.\n",
    "\n",
    "Введем 3 новых признака: количество дней от первой даты в датасете, день недели подачи заявки и месяц подачи заявки"
   ]
  },
  {
   "cell_type": "code",
   "execution_count": 11,
   "metadata": {
    "execution": {
     "iopub.execute_input": "2020-12-01T20:03:18.881211Z",
     "iopub.status.busy": "2020-12-01T20:03:18.880448Z",
     "iopub.status.idle": "2020-12-01T20:03:18.952730Z",
     "shell.execute_reply": "2020-12-01T20:03:18.953366Z"
    },
    "papermill": {
     "duration": 0.131596,
     "end_time": "2020-12-01T20:03:18.953543",
     "exception": false,
     "start_time": "2020-12-01T20:03:18.821947",
     "status": "completed"
    },
    "tags": []
   },
   "outputs": [
    {
     "data": {
      "text/html": [
       "<div>\n",
       "<style scoped>\n",
       "    .dataframe tbody tr th:only-of-type {\n",
       "        vertical-align: middle;\n",
       "    }\n",
       "\n",
       "    .dataframe tbody tr th {\n",
       "        vertical-align: top;\n",
       "    }\n",
       "\n",
       "    .dataframe thead th {\n",
       "        text-align: right;\n",
       "    }\n",
       "</style>\n",
       "<table border=\"1\" class=\"dataframe\">\n",
       "  <thead>\n",
       "    <tr style=\"text-align: right;\">\n",
       "      <th></th>\n",
       "      <th>client_id</th>\n",
       "      <th>app_date</th>\n",
       "      <th>education</th>\n",
       "      <th>sex</th>\n",
       "      <th>age</th>\n",
       "      <th>car</th>\n",
       "      <th>car_type</th>\n",
       "      <th>decline_app_cnt</th>\n",
       "      <th>good_work</th>\n",
       "      <th>score_bki</th>\n",
       "      <th>bki_request_cnt</th>\n",
       "      <th>region_rating</th>\n",
       "      <th>home_address</th>\n",
       "      <th>work_address</th>\n",
       "      <th>income</th>\n",
       "      <th>sna</th>\n",
       "      <th>first_time</th>\n",
       "      <th>foreign_passport</th>\n",
       "      <th>default</th>\n",
       "      <th>train</th>\n",
       "      <th>app_day</th>\n",
       "      <th>app_month</th>\n",
       "      <th>app_weekday</th>\n",
       "    </tr>\n",
       "  </thead>\n",
       "  <tbody>\n",
       "    <tr>\n",
       "      <th>48243</th>\n",
       "      <td>72322</td>\n",
       "      <td>2014-03-20</td>\n",
       "      <td>UGR</td>\n",
       "      <td>F</td>\n",
       "      <td>61</td>\n",
       "      <td>N</td>\n",
       "      <td>N</td>\n",
       "      <td>0</td>\n",
       "      <td>0</td>\n",
       "      <td>-1.888096</td>\n",
       "      <td>4</td>\n",
       "      <td>70</td>\n",
       "      <td>1</td>\n",
       "      <td>1</td>\n",
       "      <td>18000</td>\n",
       "      <td>2</td>\n",
       "      <td>2</td>\n",
       "      <td>N</td>\n",
       "      <td>0.0</td>\n",
       "      <td>1</td>\n",
       "      <td>78</td>\n",
       "      <td>3</td>\n",
       "      <td>3</td>\n",
       "    </tr>\n",
       "    <tr>\n",
       "      <th>11026</th>\n",
       "      <td>41180</td>\n",
       "      <td>2014-02-17</td>\n",
       "      <td>PGR</td>\n",
       "      <td>M</td>\n",
       "      <td>28</td>\n",
       "      <td>Y</td>\n",
       "      <td>N</td>\n",
       "      <td>0</td>\n",
       "      <td>0</td>\n",
       "      <td>-2.712273</td>\n",
       "      <td>2</td>\n",
       "      <td>50</td>\n",
       "      <td>1</td>\n",
       "      <td>2</td>\n",
       "      <td>40000</td>\n",
       "      <td>1</td>\n",
       "      <td>1</td>\n",
       "      <td>N</td>\n",
       "      <td>0.0</td>\n",
       "      <td>1</td>\n",
       "      <td>47</td>\n",
       "      <td>2</td>\n",
       "      <td>0</td>\n",
       "    </tr>\n",
       "    <tr>\n",
       "      <th>50214</th>\n",
       "      <td>79519</td>\n",
       "      <td>2014-03-27</td>\n",
       "      <td>UGR</td>\n",
       "      <td>M</td>\n",
       "      <td>27</td>\n",
       "      <td>N</td>\n",
       "      <td>N</td>\n",
       "      <td>0</td>\n",
       "      <td>0</td>\n",
       "      <td>-2.466187</td>\n",
       "      <td>1</td>\n",
       "      <td>60</td>\n",
       "      <td>1</td>\n",
       "      <td>2</td>\n",
       "      <td>22000</td>\n",
       "      <td>1</td>\n",
       "      <td>3</td>\n",
       "      <td>N</td>\n",
       "      <td>0.0</td>\n",
       "      <td>1</td>\n",
       "      <td>85</td>\n",
       "      <td>3</td>\n",
       "      <td>3</td>\n",
       "    </tr>\n",
       "    <tr>\n",
       "      <th>55394</th>\n",
       "      <td>16653</td>\n",
       "      <td>2014-01-23</td>\n",
       "      <td>UGR</td>\n",
       "      <td>M</td>\n",
       "      <td>23</td>\n",
       "      <td>N</td>\n",
       "      <td>N</td>\n",
       "      <td>0</td>\n",
       "      <td>0</td>\n",
       "      <td>-2.316714</td>\n",
       "      <td>0</td>\n",
       "      <td>80</td>\n",
       "      <td>2</td>\n",
       "      <td>3</td>\n",
       "      <td>5000</td>\n",
       "      <td>1</td>\n",
       "      <td>3</td>\n",
       "      <td>Y</td>\n",
       "      <td>0.0</td>\n",
       "      <td>1</td>\n",
       "      <td>22</td>\n",
       "      <td>1</td>\n",
       "      <td>3</td>\n",
       "    </tr>\n",
       "    <tr>\n",
       "      <th>94303</th>\n",
       "      <td>23153</td>\n",
       "      <td>2014-01-30</td>\n",
       "      <td>GRD</td>\n",
       "      <td>F</td>\n",
       "      <td>28</td>\n",
       "      <td>N</td>\n",
       "      <td>N</td>\n",
       "      <td>0</td>\n",
       "      <td>0</td>\n",
       "      <td>-1.516873</td>\n",
       "      <td>2</td>\n",
       "      <td>50</td>\n",
       "      <td>1</td>\n",
       "      <td>2</td>\n",
       "      <td>25000</td>\n",
       "      <td>1</td>\n",
       "      <td>2</td>\n",
       "      <td>N</td>\n",
       "      <td>NaN</td>\n",
       "      <td>0</td>\n",
       "      <td>29</td>\n",
       "      <td>1</td>\n",
       "      <td>3</td>\n",
       "    </tr>\n",
       "  </tbody>\n",
       "</table>\n",
       "</div>"
      ],
      "text/plain": [
       "       client_id   app_date education sex  age car car_type  decline_app_cnt  \\\n",
       "48243      72322 2014-03-20       UGR   F   61   N        N                0   \n",
       "11026      41180 2014-02-17       PGR   M   28   Y        N                0   \n",
       "50214      79519 2014-03-27       UGR   M   27   N        N                0   \n",
       "55394      16653 2014-01-23       UGR   M   23   N        N                0   \n",
       "94303      23153 2014-01-30       GRD   F   28   N        N                0   \n",
       "\n",
       "       good_work  score_bki  bki_request_cnt  region_rating  home_address  \\\n",
       "48243          0  -1.888096                4             70             1   \n",
       "11026          0  -2.712273                2             50             1   \n",
       "50214          0  -2.466187                1             60             1   \n",
       "55394          0  -2.316714                0             80             2   \n",
       "94303          0  -1.516873                2             50             1   \n",
       "\n",
       "       work_address  income  sna  first_time foreign_passport  default  train  \\\n",
       "48243             1   18000    2           2                N      0.0      1   \n",
       "11026             2   40000    1           1                N      0.0      1   \n",
       "50214             2   22000    1           3                N      0.0      1   \n",
       "55394             3    5000    1           3                Y      0.0      1   \n",
       "94303             2   25000    1           2                N      NaN      0   \n",
       "\n",
       "       app_day  app_month  app_weekday  \n",
       "48243       78          3            3  \n",
       "11026       47          2            0  \n",
       "50214       85          3            3  \n",
       "55394       22          1            3  \n",
       "94303       29          1            3  "
      ]
     },
     "execution_count": 11,
     "metadata": {},
     "output_type": "execute_result"
    }
   ],
   "source": [
    "df['app_day'] = (df['app_date'] - start_df_date).dt.days\n",
    "df['app_month'] = df['app_date'].dt.month\n",
    "df['app_weekday'] = df['app_date'].dt.weekday\n",
    "df.sample(5)"
   ]
  },
  {
   "cell_type": "markdown",
   "metadata": {
    "papermill": {
     "duration": 0.052625,
     "end_time": "2020-12-01T20:03:19.060978",
     "exception": false,
     "start_time": "2020-12-01T20:03:19.008353",
     "status": "completed"
    },
    "tags": []
   },
   "source": [
    "Посмотрим на строковые данные"
   ]
  },
  {
   "cell_type": "code",
   "execution_count": 12,
   "metadata": {
    "execution": {
     "iopub.execute_input": "2020-12-01T20:03:19.196004Z",
     "iopub.status.busy": "2020-12-01T20:03:19.186950Z",
     "iopub.status.idle": "2020-12-01T20:03:19.231748Z",
     "shell.execute_reply": "2020-12-01T20:03:19.230738Z"
    },
    "papermill": {
     "duration": 0.117681,
     "end_time": "2020-12-01T20:03:19.231914",
     "exception": false,
     "start_time": "2020-12-01T20:03:19.114233",
     "status": "completed"
    },
    "tags": []
   },
   "outputs": [
    {
     "name": "stdout",
     "output_type": "stream",
     "text": [
      "Уникальные значения, education: ['SCH' 'GRD' 'UGR' 'PGR' 'ACD' nan]\n",
      "Уникальные значения, sex: ['M' 'F']\n",
      "Уникальные значения, car: ['Y' 'N']\n",
      "Уникальные значения, car_type: ['Y' 'N']\n",
      "Уникальные значения, foreign_passport: ['N' 'Y']\n"
     ]
    }
   ],
   "source": [
    "# посмотрим на значения в строковых полях\n",
    "for column in df.columns:\n",
    "    if df[column].dtype == 'object':\n",
    "        print('Уникальные значения, {0}: {1}'.format(column,df[column].unique()))"
   ]
  },
  {
   "cell_type": "markdown",
   "metadata": {
    "papermill": {
     "duration": 0.053215,
     "end_time": "2020-12-01T20:03:19.339212",
     "exception": false,
     "start_time": "2020-12-01T20:03:19.285997",
     "status": "completed"
    },
    "tags": []
   },
   "source": [
    "В education есть пропуски, посмотрим подробнее"
   ]
  },
  {
   "cell_type": "code",
   "execution_count": 13,
   "metadata": {
    "execution": {
     "iopub.execute_input": "2020-12-01T20:03:19.557039Z",
     "iopub.status.busy": "2020-12-01T20:03:19.550988Z",
     "iopub.status.idle": "2020-12-01T20:03:19.763045Z",
     "shell.execute_reply": "2020-12-01T20:03:19.763631Z"
    },
    "papermill": {
     "duration": 0.37058,
     "end_time": "2020-12-01T20:03:19.763800",
     "exception": false,
     "start_time": "2020-12-01T20:03:19.393220",
     "status": "completed"
    },
    "tags": []
   },
   "outputs": [
    {
     "data": {
      "text/plain": [
       "<matplotlib.axes._subplots.AxesSubplot at 0x7fe84702be90>"
      ]
     },
     "execution_count": 13,
     "metadata": {},
     "output_type": "execute_result"
    },
    {
     "data": {
      "image/png": "[encoded data removed]",
      "text/plain": [
       "<Figure size 432x288 with 1 Axes>"
      ]
     },
     "metadata": {
      "needs_background": "light"
     },
     "output_type": "display_data"
    }
   ],
   "source": [
    "df.education.hist()"
   ]
  },
  {
   "cell_type": "markdown",
   "metadata": {
    "papermill": {
     "duration": 0.054941,
     "end_time": "2020-12-01T20:03:19.874083",
     "exception": false,
     "start_time": "2020-12-01T20:03:19.819142",
     "status": "completed"
    },
    "tags": []
   },
   "source": [
    "Заменим NaN на наиболее часто встречающееся и создадим признак обозначающий незаполненный education"
   ]
  },
  {
   "cell_type": "code",
   "execution_count": 14,
   "metadata": {
    "execution": {
     "iopub.execute_input": "2020-12-01T20:03:20.015633Z",
     "iopub.status.busy": "2020-12-01T20:03:20.002804Z",
     "iopub.status.idle": "2020-12-01T20:03:20.020841Z",
     "shell.execute_reply": "2020-12-01T20:03:20.020045Z"
    },
    "papermill": {
     "duration": 0.091715,
     "end_time": "2020-12-01T20:03:20.020971",
     "exception": false,
     "start_time": "2020-12-01T20:03:19.929256",
     "status": "completed"
    },
    "tags": []
   },
   "outputs": [],
   "source": [
    "df['education_is_nan'] = pd.isna(df['education']).astype('uint8')\n",
    "df.education.fillna('SCH', inplace = True)"
   ]
  },
  {
   "cell_type": "markdown",
   "metadata": {
    "papermill": {
     "duration": 0.055163,
     "end_time": "2020-12-01T20:03:20.131597",
     "exception": false,
     "start_time": "2020-12-01T20:03:20.076434",
     "status": "completed"
    },
    "tags": []
   },
   "source": [
    "Разобьем данные на бинарные, категориальные и числовые"
   ]
  },
  {
   "cell_type": "code",
   "execution_count": 15,
   "metadata": {
    "execution": {
     "iopub.execute_input": "2020-12-01T20:03:20.250295Z",
     "iopub.status.busy": "2020-12-01T20:03:20.249164Z",
     "iopub.status.idle": "2020-12-01T20:03:20.252497Z",
     "shell.execute_reply": "2020-12-01T20:03:20.251901Z"
    },
    "papermill": {
     "duration": 0.064918,
     "end_time": "2020-12-01T20:03:20.252622",
     "exception": false,
     "start_time": "2020-12-01T20:03:20.187704",
     "status": "completed"
    },
    "tags": []
   },
   "outputs": [],
   "source": [
    "# бинарные\n",
    "bin_cols = ['sex', 'car', 'car_type', 'foreign_passport', 'good_work', 'education_is_nan']\n",
    "# катеригориальные\n",
    "cat_cols = ['education', 'home_address', 'work_address', 'region_rating', 'sna', 'first_time', 'app_weekday', 'app_month']\n",
    "\n",
    "# числовые\n",
    "num_cols = ['age', 'income', 'bki_request_cnt']"
   ]
  },
  {
   "cell_type": "code",
   "execution_count": 16,
   "metadata": {
    "execution": {
     "iopub.execute_input": "2020-12-01T20:03:20.409931Z",
     "iopub.status.busy": "2020-12-01T20:03:20.408706Z",
     "iopub.status.idle": "2020-12-01T20:03:20.569573Z",
     "shell.execute_reply": "2020-12-01T20:03:20.568974Z"
    },
    "papermill": {
     "duration": 0.261632,
     "end_time": "2020-12-01T20:03:20.569689",
     "exception": false,
     "start_time": "2020-12-01T20:03:20.308057",
     "status": "completed"
    },
    "tags": []
   },
   "outputs": [
    {
     "data": {
      "text/html": [
       "<div>\n",
       "<style scoped>\n",
       "    .dataframe tbody tr th:only-of-type {\n",
       "        vertical-align: middle;\n",
       "    }\n",
       "\n",
       "    .dataframe tbody tr th {\n",
       "        vertical-align: top;\n",
       "    }\n",
       "\n",
       "    .dataframe thead th {\n",
       "        text-align: right;\n",
       "    }\n",
       "</style>\n",
       "<table border=\"1\" class=\"dataframe\">\n",
       "  <thead>\n",
       "    <tr style=\"text-align: right;\">\n",
       "      <th></th>\n",
       "      <th>client_id</th>\n",
       "      <th>app_date</th>\n",
       "      <th>education</th>\n",
       "      <th>sex</th>\n",
       "      <th>age</th>\n",
       "      <th>car</th>\n",
       "      <th>car_type</th>\n",
       "      <th>decline_app_cnt</th>\n",
       "      <th>good_work</th>\n",
       "      <th>score_bki</th>\n",
       "      <th>bki_request_cnt</th>\n",
       "      <th>region_rating</th>\n",
       "      <th>home_address</th>\n",
       "      <th>work_address</th>\n",
       "      <th>income</th>\n",
       "      <th>sna</th>\n",
       "      <th>first_time</th>\n",
       "      <th>foreign_passport</th>\n",
       "      <th>default</th>\n",
       "      <th>train</th>\n",
       "      <th>app_day</th>\n",
       "      <th>app_month</th>\n",
       "      <th>app_weekday</th>\n",
       "      <th>education_is_nan</th>\n",
       "    </tr>\n",
       "  </thead>\n",
       "  <tbody>\n",
       "    <tr>\n",
       "      <th>0</th>\n",
       "      <td>25905</td>\n",
       "      <td>2014-02-01</td>\n",
       "      <td>SCH</td>\n",
       "      <td>1</td>\n",
       "      <td>62</td>\n",
       "      <td>1</td>\n",
       "      <td>1</td>\n",
       "      <td>0</td>\n",
       "      <td>0</td>\n",
       "      <td>-2.008753</td>\n",
       "      <td>1</td>\n",
       "      <td>50</td>\n",
       "      <td>1</td>\n",
       "      <td>2</td>\n",
       "      <td>18000</td>\n",
       "      <td>4</td>\n",
       "      <td>1</td>\n",
       "      <td>0</td>\n",
       "      <td>0.0</td>\n",
       "      <td>1</td>\n",
       "      <td>31</td>\n",
       "      <td>2</td>\n",
       "      <td>5</td>\n",
       "      <td>0</td>\n",
       "    </tr>\n",
       "    <tr>\n",
       "      <th>1</th>\n",
       "      <td>63161</td>\n",
       "      <td>2014-03-12</td>\n",
       "      <td>SCH</td>\n",
       "      <td>0</td>\n",
       "      <td>59</td>\n",
       "      <td>0</td>\n",
       "      <td>0</td>\n",
       "      <td>0</td>\n",
       "      <td>0</td>\n",
       "      <td>-1.532276</td>\n",
       "      <td>3</td>\n",
       "      <td>50</td>\n",
       "      <td>2</td>\n",
       "      <td>3</td>\n",
       "      <td>19000</td>\n",
       "      <td>4</td>\n",
       "      <td>1</td>\n",
       "      <td>0</td>\n",
       "      <td>0.0</td>\n",
       "      <td>1</td>\n",
       "      <td>70</td>\n",
       "      <td>3</td>\n",
       "      <td>2</td>\n",
       "      <td>0</td>\n",
       "    </tr>\n",
       "    <tr>\n",
       "      <th>2</th>\n",
       "      <td>25887</td>\n",
       "      <td>2014-02-01</td>\n",
       "      <td>SCH</td>\n",
       "      <td>1</td>\n",
       "      <td>25</td>\n",
       "      <td>1</td>\n",
       "      <td>0</td>\n",
       "      <td>2</td>\n",
       "      <td>0</td>\n",
       "      <td>-1.408142</td>\n",
       "      <td>1</td>\n",
       "      <td>80</td>\n",
       "      <td>1</td>\n",
       "      <td>2</td>\n",
       "      <td>30000</td>\n",
       "      <td>1</td>\n",
       "      <td>4</td>\n",
       "      <td>1</td>\n",
       "      <td>0.0</td>\n",
       "      <td>1</td>\n",
       "      <td>31</td>\n",
       "      <td>2</td>\n",
       "      <td>5</td>\n",
       "      <td>0</td>\n",
       "    </tr>\n",
       "    <tr>\n",
       "      <th>3</th>\n",
       "      <td>16222</td>\n",
       "      <td>2014-01-23</td>\n",
       "      <td>SCH</td>\n",
       "      <td>0</td>\n",
       "      <td>53</td>\n",
       "      <td>0</td>\n",
       "      <td>0</td>\n",
       "      <td>0</td>\n",
       "      <td>0</td>\n",
       "      <td>-2.057471</td>\n",
       "      <td>2</td>\n",
       "      <td>50</td>\n",
       "      <td>2</td>\n",
       "      <td>3</td>\n",
       "      <td>10000</td>\n",
       "      <td>1</td>\n",
       "      <td>3</td>\n",
       "      <td>0</td>\n",
       "      <td>0.0</td>\n",
       "      <td>1</td>\n",
       "      <td>22</td>\n",
       "      <td>1</td>\n",
       "      <td>3</td>\n",
       "      <td>0</td>\n",
       "    </tr>\n",
       "    <tr>\n",
       "      <th>4</th>\n",
       "      <td>101655</td>\n",
       "      <td>2014-04-18</td>\n",
       "      <td>GRD</td>\n",
       "      <td>1</td>\n",
       "      <td>48</td>\n",
       "      <td>0</td>\n",
       "      <td>0</td>\n",
       "      <td>0</td>\n",
       "      <td>1</td>\n",
       "      <td>-1.244723</td>\n",
       "      <td>1</td>\n",
       "      <td>60</td>\n",
       "      <td>2</td>\n",
       "      <td>3</td>\n",
       "      <td>30000</td>\n",
       "      <td>1</td>\n",
       "      <td>4</td>\n",
       "      <td>1</td>\n",
       "      <td>0.0</td>\n",
       "      <td>1</td>\n",
       "      <td>107</td>\n",
       "      <td>4</td>\n",
       "      <td>4</td>\n",
       "      <td>0</td>\n",
       "    </tr>\n",
       "  </tbody>\n",
       "</table>\n",
       "</div>"
      ],
      "text/plain": [
       "   client_id   app_date education  sex  age  car  car_type  decline_app_cnt  \\\n",
       "0      25905 2014-02-01       SCH    1   62    1         1                0   \n",
       "1      63161 2014-03-12       SCH    0   59    0         0                0   \n",
       "2      25887 2014-02-01       SCH    1   25    1         0                2   \n",
       "3      16222 2014-01-23       SCH    0   53    0         0                0   \n",
       "4     101655 2014-04-18       GRD    1   48    0         0                0   \n",
       "\n",
       "   good_work  score_bki  bki_request_cnt  region_rating  home_address  \\\n",
       "0          0  -2.008753                1             50             1   \n",
       "1          0  -1.532276                3             50             2   \n",
       "2          0  -1.408142                1             80             1   \n",
       "3          0  -2.057471                2             50             2   \n",
       "4          1  -1.244723                1             60             2   \n",
       "\n",
       "   work_address  income  sna  first_time  foreign_passport  default  train  \\\n",
       "0             2   18000    4           1                 0      0.0      1   \n",
       "1             3   19000    4           1                 0      0.0      1   \n",
       "2             2   30000    1           4                 1      0.0      1   \n",
       "3             3   10000    1           3                 0      0.0      1   \n",
       "4             3   30000    1           4                 1      0.0      1   \n",
       "\n",
       "   app_day  app_month  app_weekday  education_is_nan  \n",
       "0       31          2            5                 0  \n",
       "1       70          3            2                 0  \n",
       "2       31          2            5                 0  \n",
       "3       22          1            3                 0  \n",
       "4      107          4            4                 0  "
      ]
     },
     "execution_count": 16,
     "metadata": {},
     "output_type": "execute_result"
    }
   ],
   "source": [
    "# Для бинарных признаков мы будем использовать LabelEncoder\n",
    "label_encoder = LabelEncoder()\n",
    "\n",
    "for column in bin_cols:\n",
    "    df[column] = label_encoder.fit_transform(df[column])\n",
    "    \n",
    "# убедимся в преобразовании    \n",
    "df.head()"
   ]
  },
  {
   "cell_type": "markdown",
   "metadata": {
    "papermill": {
     "duration": 0.055747,
     "end_time": "2020-12-01T20:03:20.681794",
     "exception": false,
     "start_time": "2020-12-01T20:03:20.626047",
     "status": "completed"
    },
    "tags": []
   },
   "source": [
    "Числовые признаки"
   ]
  },
  {
   "cell_type": "markdown",
   "metadata": {
    "papermill": {
     "duration": 0.055449,
     "end_time": "2020-12-01T20:03:20.793323",
     "exception": false,
     "start_time": "2020-12-01T20:03:20.737874",
     "status": "completed"
    },
    "tags": []
   },
   "source": [
    "age - возраст"
   ]
  },
  {
   "cell_type": "code",
   "execution_count": 17,
   "metadata": {
    "execution": {
     "iopub.execute_input": "2020-12-01T20:03:20.919314Z",
     "iopub.status.busy": "2020-12-01T20:03:20.915691Z",
     "iopub.status.idle": "2020-12-01T20:03:21.103397Z",
     "shell.execute_reply": "2020-12-01T20:03:21.102661Z"
    },
    "papermill": {
     "duration": 0.254295,
     "end_time": "2020-12-01T20:03:21.103567",
     "exception": false,
     "start_time": "2020-12-01T20:03:20.849272",
     "status": "completed"
    },
    "tags": []
   },
   "outputs": [
    {
     "data": {
      "text/plain": [
       "<matplotlib.axes._subplots.AxesSubplot at 0x7fe847021b50>"
      ]
     },
     "execution_count": 17,
     "metadata": {},
     "output_type": "execute_result"
    },
    {
     "data": {
      "image/png": "[encoded data removed]",
      "text/plain": [
       "<Figure size 432x288 with 1 Axes>"
      ]
     },
     "metadata": {
      "needs_background": "light"
     },
     "output_type": "display_data"
    }
   ],
   "source": [
    "df.age.hist()"
   ]
  },
  {
   "cell_type": "markdown",
   "metadata": {
    "papermill": {
     "duration": 0.057962,
     "end_time": "2020-12-01T20:03:21.220024",
     "exception": false,
     "start_time": "2020-12-01T20:03:21.162062",
     "status": "completed"
    },
    "tags": []
   },
   "source": [
    "Распределение смещено вправо, сначала резкий рост заявок в зависимости от возраста, затем постепенное снижение. Попробуем логарифмировать для устранения смещения"
   ]
  },
  {
   "cell_type": "code",
   "execution_count": 18,
   "metadata": {
    "execution": {
     "iopub.execute_input": "2020-12-01T20:03:21.342287Z",
     "iopub.status.busy": "2020-12-01T20:03:21.341533Z",
     "iopub.status.idle": "2020-12-01T20:03:21.562389Z",
     "shell.execute_reply": "2020-12-01T20:03:21.561641Z"
    },
    "papermill": {
     "duration": 0.284283,
     "end_time": "2020-12-01T20:03:21.562533",
     "exception": false,
     "start_time": "2020-12-01T20:03:21.278250",
     "status": "completed"
    },
    "tags": []
   },
   "outputs": [
    {
     "data": {
      "text/plain": [
       "<matplotlib.axes._subplots.AxesSubplot at 0x7fe846f66910>"
      ]
     },
     "execution_count": 18,
     "metadata": {},
     "output_type": "execute_result"
    },
    {
     "data": {
      "image/png": "[encoded data removed]",
      "text/plain": [
       "<Figure size 432x288 with 1 Axes>"
      ]
     },
     "metadata": {
      "needs_background": "light"
     },
     "output_type": "display_data"
    }
   ],
   "source": [
    "df.age = np.log(df.age + 1)\n",
    "df.age.hist()"
   ]
  },
  {
   "cell_type": "markdown",
   "metadata": {
    "papermill": {
     "duration": 0.058761,
     "end_time": "2020-12-01T20:03:21.680047",
     "exception": false,
     "start_time": "2020-12-01T20:03:21.621286",
     "status": "completed"
    },
    "tags": []
   },
   "source": [
    "Распределение нормализовалось"
   ]
  },
  {
   "cell_type": "markdown",
   "metadata": {
    "papermill": {
     "duration": 0.058588,
     "end_time": "2020-12-01T20:03:21.797685",
     "exception": false,
     "start_time": "2020-12-01T20:03:21.739097",
     "status": "completed"
    },
    "tags": []
   },
   "source": [
    "decline_app_cnt - количество отклоненных заявок"
   ]
  },
  {
   "cell_type": "code",
   "execution_count": 19,
   "metadata": {
    "execution": {
     "iopub.execute_input": "2020-12-01T20:03:21.926470Z",
     "iopub.status.busy": "2020-12-01T20:03:21.925598Z",
     "iopub.status.idle": "2020-12-01T20:03:22.109519Z",
     "shell.execute_reply": "2020-12-01T20:03:22.108920Z"
    },
    "papermill": {
     "duration": 0.253148,
     "end_time": "2020-12-01T20:03:22.109659",
     "exception": false,
     "start_time": "2020-12-01T20:03:21.856511",
     "status": "completed"
    },
    "tags": []
   },
   "outputs": [
    {
     "data": {
      "text/plain": [
       "0     91471\n",
       "1     12500\n",
       "2      3622\n",
       "3      1365\n",
       "4       606\n",
       "5       255\n",
       "6       156\n",
       "7        58\n",
       "8        37\n",
       "9        29\n",
       "10       16\n",
       "11       10\n",
       "12        5\n",
       "13        4\n",
       "14        3\n",
       "16        3\n",
       "30        1\n",
       "15        1\n",
       "19        1\n",
       "20        1\n",
       "21        1\n",
       "22        1\n",
       "24        1\n",
       "33        1\n",
       "Name: decline_app_cnt, dtype: int64"
      ]
     },
     "execution_count": 19,
     "metadata": {},
     "output_type": "execute_result"
    },
    {
     "data": {
      "image/png": "[encoded data removed]",
      "text/plain": [
       "<Figure size 432x288 with 1 Axes>"
      ]
     },
     "metadata": {
      "needs_background": "light"
     },
     "output_type": "display_data"
    }
   ],
   "source": [
    "df.decline_app_cnt.hist()\n",
    "df.decline_app_cnt.value_counts()"
   ]
  },
  {
   "cell_type": "code",
   "execution_count": 20,
   "metadata": {
    "execution": {
     "iopub.execute_input": "2020-12-01T20:03:22.240709Z",
     "iopub.status.busy": "2020-12-01T20:03:22.239361Z",
     "iopub.status.idle": "2020-12-01T20:03:22.253994Z",
     "shell.execute_reply": "2020-12-01T20:03:22.253221Z"
    },
    "papermill": {
     "duration": 0.083534,
     "end_time": "2020-12-01T20:03:22.254119",
     "exception": false,
     "start_time": "2020-12-01T20:03:22.170585",
     "status": "completed"
    },
    "tags": []
   },
   "outputs": [
    {
     "data": {
      "text/plain": [
       "count            110148.000000\n",
       "mean                  0.273205\n",
       "std                   0.799099\n",
       "min                   0.000000\n",
       "25%                   0.000000\n",
       "50%                   0.000000\n",
       "75%                   0.000000\n",
       "max                  33.000000\n",
       "iqr                   0.000000\n",
       "low_interval          0.000000\n",
       "high_interval         0.000000\n",
       "Name: decline_app_cnt, dtype: float64"
      ]
     },
     "execution_count": 20,
     "metadata": {},
     "output_type": "execute_result"
    }
   ],
   "source": [
    "def get_stat(data):\n",
    "    describe = data.describe()\n",
    "    describe['iqr'] = describe['75%'] - describe['25%']\n",
    "    describe['low_interval'] = describe['25%'] - 1.5 * describe['iqr']\n",
    "    describe['high_interval'] = describe['75%'] + 1.5 * describe['iqr']\n",
    "    return describe\n",
    "\n",
    "get_stat(df.decline_app_cnt)"
   ]
  },
  {
   "cell_type": "markdown",
   "metadata": {
    "papermill": {
     "duration": 0.061019,
     "end_time": "2020-12-01T20:03:22.376380",
     "exception": false,
     "start_time": "2020-12-01T20:03:22.315361",
     "status": "completed"
    },
    "tags": []
   },
   "source": [
    "У большинства клиентов небыло отказов в кредите, логарифмируем и посмотрим на выбросы"
   ]
  },
  {
   "cell_type": "code",
   "execution_count": 21,
   "metadata": {
    "execution": {
     "iopub.execute_input": "2020-12-01T20:03:22.507340Z",
     "iopub.status.busy": "2020-12-01T20:03:22.506283Z",
     "iopub.status.idle": "2020-12-01T20:03:22.718054Z",
     "shell.execute_reply": "2020-12-01T20:03:22.717271Z"
    },
    "papermill": {
     "duration": 0.280941,
     "end_time": "2020-12-01T20:03:22.718180",
     "exception": false,
     "start_time": "2020-12-01T20:03:22.437239",
     "status": "completed"
    },
    "tags": []
   },
   "outputs": [
    {
     "data": {
      "text/plain": [
       "count            12585.000000\n",
       "mean                 0.893980\n",
       "std                  0.331151\n",
       "min                  0.693147\n",
       "25%                  0.693147\n",
       "50%                  0.693147\n",
       "75%                  1.098612\n",
       "max                  3.526361\n",
       "iqr                  0.405465\n",
       "low_interval         0.084950\n",
       "high_interval        1.706810\n",
       "Name: decline_app_cnt_log, dtype: float64"
      ]
     },
     "metadata": {},
     "output_type": "display_data"
    },
    {
     "data": {
      "image/png": "[encoded data removed]",
      "text/plain": [
       "<Figure size 432x288 with 1 Axes>"
      ]
     },
     "metadata": {
      "needs_background": "light"
     },
     "output_type": "display_data"
    }
   ],
   "source": [
    "df['decline_app_cnt_log'] = np.log(df.decline_app_cnt + 1)\n",
    "ax = sns.boxplot(data=df.decline_app_cnt_log, orient=\"h\", palette=\"Set2\")\n",
    "decline_app_cnt_log_stat = get_stat(df[((df['decline_app_cnt_log'] > 0) & (df['train'] > 0))]['decline_app_cnt_log'])\n",
    "display(decline_app_cnt_log_stat)"
   ]
  },
  {
   "cell_type": "markdown",
   "metadata": {
    "papermill": {
     "duration": 0.062012,
     "end_time": "2020-12-01T20:03:22.843074",
     "exception": false,
     "start_time": "2020-12-01T20:03:22.781062",
     "status": "completed"
    },
    "tags": []
   },
   "source": [
    "Значения выходящие за границу приравняем границе, последнее значение - это 4 и более запросов"
   ]
  },
  {
   "cell_type": "code",
   "execution_count": 22,
   "metadata": {
    "execution": {
     "iopub.execute_input": "2020-12-01T20:03:22.978167Z",
     "iopub.status.busy": "2020-12-01T20:03:22.977384Z",
     "iopub.status.idle": "2020-12-01T20:03:26.256746Z",
     "shell.execute_reply": "2020-12-01T20:03:26.256000Z"
    },
    "papermill": {
     "duration": 3.351299,
     "end_time": "2020-12-01T20:03:26.256870",
     "exception": false,
     "start_time": "2020-12-01T20:03:22.905571",
     "status": "completed"
    },
    "tags": []
   },
   "outputs": [
    {
     "data": {
      "text/plain": [
       "0.693147    12500\n",
       "1.098612     3622\n",
       "1.386294     1365\n",
       "1.609438      606\n",
       "1.706810      584\n",
       "Name: decline_app_cnt_log, dtype: int64"
      ]
     },
     "execution_count": 22,
     "metadata": {},
     "output_type": "execute_result"
    }
   ],
   "source": [
    "df['decline_app_cnt_log'] = df[['decline_app_cnt_log', 'train']].apply(lambda x: decline_app_cnt_log_stat['high_interval'] if ((x['decline_app_cnt_log'] > decline_app_cnt_log_stat['high_interval'])) else x['decline_app_cnt_log'], axis=1)\n",
    "decline_app_cnt_log_stat = get_stat(df[((df['decline_app_cnt_log'] > 0) & (df['train'] > 0))]['decline_app_cnt_log'])\n",
    "df[(df['decline_app_cnt'] > 0)]['decline_app_cnt_log'].value_counts()\n"
   ]
  },
  {
   "cell_type": "code",
   "execution_count": 23,
   "metadata": {
    "execution": {
     "iopub.execute_input": "2020-12-01T20:03:26.389556Z",
     "iopub.status.busy": "2020-12-01T20:03:26.388768Z",
     "iopub.status.idle": "2020-12-01T20:03:26.392172Z",
     "shell.execute_reply": "2020-12-01T20:03:26.391444Z"
    },
    "papermill": {
     "duration": 0.071627,
     "end_time": "2020-12-01T20:03:26.392300",
     "exception": false,
     "start_time": "2020-12-01T20:03:26.320673",
     "status": "completed"
    },
    "tags": []
   },
   "outputs": [],
   "source": [
    "# добавить новый признак в числовые значения\n",
    "num_cols.append('decline_app_cnt_log')"
   ]
  },
  {
   "cell_type": "markdown",
   "metadata": {
    "papermill": {
     "duration": 0.064435,
     "end_time": "2020-12-01T20:03:26.520714",
     "exception": false,
     "start_time": "2020-12-01T20:03:26.456279",
     "status": "completed"
    },
    "tags": []
   },
   "source": [
    "score_bki - скоринговый балл по данным из БКИ"
   ]
  },
  {
   "cell_type": "code",
   "execution_count": 24,
   "metadata": {
    "execution": {
     "iopub.execute_input": "2020-12-01T20:03:26.666094Z",
     "iopub.status.busy": "2020-12-01T20:03:26.664572Z",
     "iopub.status.idle": "2020-12-01T20:03:26.873443Z",
     "shell.execute_reply": "2020-12-01T20:03:26.872685Z"
    },
    "papermill": {
     "duration": 0.289099,
     "end_time": "2020-12-01T20:03:26.873570",
     "exception": false,
     "start_time": "2020-12-01T20:03:26.584471",
     "status": "completed"
    },
    "tags": []
   },
   "outputs": [
    {
     "data": {
      "text/plain": [
       "count            110148.000000\n",
       "mean                 -1.904535\n",
       "std                   0.499397\n",
       "min                  -3.624586\n",
       "25%                  -2.260434\n",
       "50%                  -1.920823\n",
       "75%                  -1.567888\n",
       "max                   0.199773\n",
       "iqr                   0.692546\n",
       "low_interval         -3.299252\n",
       "high_interval        -0.529070\n",
       "Name: score_bki, dtype: float64"
      ]
     },
     "execution_count": 24,
     "metadata": {},
     "output_type": "execute_result"
    },
    {
     "data": {
      "image/png": "[encoded data removed]",
      "text/plain": [
       "<Figure size 432x288 with 1 Axes>"
      ]
     },
     "metadata": {
      "needs_background": "light"
     },
     "output_type": "display_data"
    }
   ],
   "source": [
    "num_cols.append('score_bki')\n",
    "df.score_bki.hist()\n",
    "get_stat(df.score_bki)"
   ]
  },
  {
   "cell_type": "code",
   "execution_count": 25,
   "metadata": {
    "execution": {
     "iopub.execute_input": "2020-12-01T20:03:27.026279Z",
     "iopub.status.busy": "2020-12-01T20:03:27.025154Z",
     "iopub.status.idle": "2020-12-01T20:03:27.150154Z",
     "shell.execute_reply": "2020-12-01T20:03:27.149424Z"
    },
    "papermill": {
     "duration": 0.211492,
     "end_time": "2020-12-01T20:03:27.150287",
     "exception": false,
     "start_time": "2020-12-01T20:03:26.938795",
     "status": "completed"
    },
    "tags": []
   },
   "outputs": [
    {
     "data": {
      "image/png": "[encoded data removed]",
      "text/plain": [
       "<Figure size 432x288 with 1 Axes>"
      ]
     },
     "metadata": {
      "needs_background": "light"
     },
     "output_type": "display_data"
    }
   ],
   "source": [
    "ax = sns.boxplot(data=df.score_bki, orient=\"h\", palette=\"Set2\")"
   ]
  },
  {
   "cell_type": "code",
   "execution_count": 26,
   "metadata": {
    "execution": {
     "iopub.execute_input": "2020-12-01T20:03:27.335971Z",
     "iopub.status.busy": "2020-12-01T20:03:27.335118Z",
     "iopub.status.idle": "2020-12-01T20:03:27.349810Z",
     "shell.execute_reply": "2020-12-01T20:03:27.350326Z"
    },
    "papermill": {
     "duration": 0.086578,
     "end_time": "2020-12-01T20:03:27.350499",
     "exception": false,
     "start_time": "2020-12-01T20:03:27.263921",
     "status": "completed"
    },
    "tags": []
   },
   "outputs": [
    {
     "data": {
      "text/plain": [
       "count            110148.000000\n",
       "mean                 -1.904535\n",
       "std                   0.499397\n",
       "min                  -3.624586\n",
       "25%                  -2.260434\n",
       "50%                  -1.920823\n",
       "75%                  -1.567888\n",
       "max                   0.199773\n",
       "iqr                   0.692546\n",
       "low_interval         -3.299252\n",
       "high_interval        -0.529070\n",
       "Name: score_bki, dtype: float64"
      ]
     },
     "execution_count": 26,
     "metadata": {},
     "output_type": "execute_result"
    }
   ],
   "source": [
    "get_stat(df.score_bki)"
   ]
  },
  {
   "cell_type": "markdown",
   "metadata": {
    "papermill": {
     "duration": 0.066209,
     "end_time": "2020-12-01T20:03:27.483059",
     "exception": false,
     "start_time": "2020-12-01T20:03:27.416850",
     "status": "completed"
    },
    "tags": []
   },
   "source": [
    "Распределение нормальное, пока оставим как есть"
   ]
  },
  {
   "cell_type": "markdown",
   "metadata": {
    "papermill": {
     "duration": 0.06635,
     "end_time": "2020-12-01T20:03:27.615955",
     "exception": false,
     "start_time": "2020-12-01T20:03:27.549605",
     "status": "completed"
    },
    "tags": []
   },
   "source": [
    "income - доход заемщика"
   ]
  },
  {
   "cell_type": "code",
   "execution_count": 27,
   "metadata": {
    "execution": {
     "iopub.execute_input": "2020-12-01T20:03:27.858159Z",
     "iopub.status.busy": "2020-12-01T20:03:27.854678Z",
     "iopub.status.idle": "2020-12-01T20:03:28.034152Z",
     "shell.execute_reply": "2020-12-01T20:03:28.033561Z"
    },
    "papermill": {
     "duration": 0.350683,
     "end_time": "2020-12-01T20:03:28.034280",
     "exception": false,
     "start_time": "2020-12-01T20:03:27.683597",
     "status": "completed"
    },
    "tags": []
   },
   "outputs": [
    {
     "data": {
      "text/plain": [
       "<matplotlib.axes._subplots.AxesSubplot at 0x7fe84692c2d0>"
      ]
     },
     "execution_count": 27,
     "metadata": {},
     "output_type": "execute_result"
    },
    {
     "data": {
      "image/png": "[encoded data removed]",
      "text/plain": [
       "<Figure size 432x288 with 1 Axes>"
      ]
     },
     "metadata": {
      "needs_background": "light"
     },
     "output_type": "display_data"
    }
   ],
   "source": [
    "df.income.hist()"
   ]
  },
  {
   "cell_type": "code",
   "execution_count": 28,
   "metadata": {
    "execution": {
     "iopub.execute_input": "2020-12-01T20:03:28.176742Z",
     "iopub.status.busy": "2020-12-01T20:03:28.175759Z",
     "iopub.status.idle": "2020-12-01T20:03:28.369656Z",
     "shell.execute_reply": "2020-12-01T20:03:28.368887Z"
    },
    "papermill": {
     "duration": 0.267013,
     "end_time": "2020-12-01T20:03:28.369782",
     "exception": false,
     "start_time": "2020-12-01T20:03:28.102769",
     "status": "completed"
    },
    "tags": []
   },
   "outputs": [
    {
     "data": {
      "text/plain": [
       "<matplotlib.axes._subplots.AxesSubplot at 0x7fe846a22a90>"
      ]
     },
     "execution_count": 28,
     "metadata": {},
     "output_type": "execute_result"
    },
    {
     "data": {
      "image/png": "[encoded data removed]",
      "text/plain": [
       "<Figure size 432x288 with 1 Axes>"
      ]
     },
     "metadata": {
      "needs_background": "light"
     },
     "output_type": "display_data"
    }
   ],
   "source": [
    "np.log(df.income).hist()"
   ]
  },
  {
   "cell_type": "code",
   "execution_count": 29,
   "metadata": {
    "execution": {
     "iopub.execute_input": "2020-12-01T20:03:28.514120Z",
     "iopub.status.busy": "2020-12-01T20:03:28.513285Z",
     "iopub.status.idle": "2020-12-01T20:03:28.531166Z",
     "shell.execute_reply": "2020-12-01T20:03:28.530529Z"
    },
    "papermill": {
     "duration": 0.092428,
     "end_time": "2020-12-01T20:03:28.531300",
     "exception": false,
     "start_time": "2020-12-01T20:03:28.438872",
     "status": "completed"
    },
    "tags": []
   },
   "outputs": [],
   "source": [
    "df.income = np.log(df.income)"
   ]
  },
  {
   "cell_type": "code",
   "execution_count": 30,
   "metadata": {
    "execution": {
     "iopub.execute_input": "2020-12-01T20:03:28.697393Z",
     "iopub.status.busy": "2020-12-01T20:03:28.689865Z",
     "iopub.status.idle": "2020-12-01T20:03:28.789931Z",
     "shell.execute_reply": "2020-12-01T20:03:28.789188Z"
    },
    "papermill": {
     "duration": 0.188927,
     "end_time": "2020-12-01T20:03:28.790053",
     "exception": false,
     "start_time": "2020-12-01T20:03:28.601126",
     "status": "completed"
    },
    "tags": []
   },
   "outputs": [
    {
     "data": {
      "text/plain": [
       "array([1, 2, 3, 4, 5])"
      ]
     },
     "execution_count": 30,
     "metadata": {},
     "output_type": "execute_result"
    }
   ],
   "source": [
    "# Преобразуем education в целочисленный формат\n",
    "# df['education'] = label_encoder.fit_transform(df['education'])\n",
    "# df.education.unique()\n",
    "dic_value_edu = {'SCH':1,'GRD':2, 'UGR':3, 'PGR':4, 'ACD':5}\n",
    "df['education'] = df['education'].replace(to_replace=dic_value_edu)\n",
    "df.education.unique()"
   ]
  },
  {
   "cell_type": "code",
   "execution_count": 31,
   "metadata": {
    "execution": {
     "iopub.execute_input": "2020-12-01T20:03:28.937888Z",
     "iopub.status.busy": "2020-12-01T20:03:28.937085Z",
     "iopub.status.idle": "2020-12-01T20:03:29.016201Z",
     "shell.execute_reply": "2020-12-01T20:03:29.015513Z"
    },
    "papermill": {
     "duration": 0.155543,
     "end_time": "2020-12-01T20:03:29.016316",
     "exception": false,
     "start_time": "2020-12-01T20:03:28.860773",
     "status": "completed"
    },
    "tags": []
   },
   "outputs": [
    {
     "data": {
      "text/html": [
       "<div>\n",
       "<style scoped>\n",
       "    .dataframe tbody tr th:only-of-type {\n",
       "        vertical-align: middle;\n",
       "    }\n",
       "\n",
       "    .dataframe tbody tr th {\n",
       "        vertical-align: top;\n",
       "    }\n",
       "\n",
       "    .dataframe thead th {\n",
       "        text-align: right;\n",
       "    }\n",
       "</style>\n",
       "<table border=\"1\" class=\"dataframe\">\n",
       "  <thead>\n",
       "    <tr style=\"text-align: right;\">\n",
       "      <th></th>\n",
       "      <th>education_1.0</th>\n",
       "      <th>education_2.0</th>\n",
       "      <th>education_3.0</th>\n",
       "      <th>education_4.0</th>\n",
       "      <th>education_5.0</th>\n",
       "      <th>education_nan</th>\n",
       "      <th>home_address_1.0</th>\n",
       "      <th>home_address_2.0</th>\n",
       "      <th>home_address_3.0</th>\n",
       "      <th>home_address_nan</th>\n",
       "      <th>work_address_1.0</th>\n",
       "      <th>work_address_2.0</th>\n",
       "      <th>work_address_3.0</th>\n",
       "      <th>work_address_nan</th>\n",
       "      <th>region_rating_20.0</th>\n",
       "      <th>region_rating_30.0</th>\n",
       "      <th>region_rating_40.0</th>\n",
       "      <th>region_rating_50.0</th>\n",
       "      <th>region_rating_60.0</th>\n",
       "      <th>region_rating_70.0</th>\n",
       "      <th>region_rating_80.0</th>\n",
       "      <th>region_rating_nan</th>\n",
       "      <th>sna_1.0</th>\n",
       "      <th>sna_2.0</th>\n",
       "      <th>sna_3.0</th>\n",
       "      <th>sna_4.0</th>\n",
       "      <th>sna_nan</th>\n",
       "      <th>first_time_1.0</th>\n",
       "      <th>first_time_2.0</th>\n",
       "      <th>first_time_3.0</th>\n",
       "      <th>first_time_4.0</th>\n",
       "      <th>first_time_nan</th>\n",
       "      <th>app_weekday_0.0</th>\n",
       "      <th>app_weekday_1.0</th>\n",
       "      <th>app_weekday_2.0</th>\n",
       "      <th>app_weekday_3.0</th>\n",
       "      <th>app_weekday_4.0</th>\n",
       "      <th>app_weekday_5.0</th>\n",
       "      <th>app_weekday_6.0</th>\n",
       "      <th>app_weekday_nan</th>\n",
       "      <th>app_month_1.0</th>\n",
       "      <th>app_month_2.0</th>\n",
       "      <th>app_month_3.0</th>\n",
       "      <th>app_month_4.0</th>\n",
       "      <th>app_month_nan</th>\n",
       "    </tr>\n",
       "  </thead>\n",
       "  <tbody>\n",
       "    <tr>\n",
       "      <th>0</th>\n",
       "      <td>1</td>\n",
       "      <td>0</td>\n",
       "      <td>0</td>\n",
       "      <td>0</td>\n",
       "      <td>0</td>\n",
       "      <td>0</td>\n",
       "      <td>1</td>\n",
       "      <td>0</td>\n",
       "      <td>0</td>\n",
       "      <td>0</td>\n",
       "      <td>0</td>\n",
       "      <td>1</td>\n",
       "      <td>0</td>\n",
       "      <td>0</td>\n",
       "      <td>0</td>\n",
       "      <td>0</td>\n",
       "      <td>0</td>\n",
       "      <td>1</td>\n",
       "      <td>0</td>\n",
       "      <td>0</td>\n",
       "      <td>0</td>\n",
       "      <td>0</td>\n",
       "      <td>0</td>\n",
       "      <td>0</td>\n",
       "      <td>0</td>\n",
       "      <td>1</td>\n",
       "      <td>0</td>\n",
       "      <td>1</td>\n",
       "      <td>0</td>\n",
       "      <td>0</td>\n",
       "      <td>0</td>\n",
       "      <td>0</td>\n",
       "      <td>0</td>\n",
       "      <td>0</td>\n",
       "      <td>0</td>\n",
       "      <td>0</td>\n",
       "      <td>0</td>\n",
       "      <td>1</td>\n",
       "      <td>0</td>\n",
       "      <td>0</td>\n",
       "      <td>0</td>\n",
       "      <td>1</td>\n",
       "      <td>0</td>\n",
       "      <td>0</td>\n",
       "      <td>0</td>\n",
       "    </tr>\n",
       "    <tr>\n",
       "      <th>1</th>\n",
       "      <td>1</td>\n",
       "      <td>0</td>\n",
       "      <td>0</td>\n",
       "      <td>0</td>\n",
       "      <td>0</td>\n",
       "      <td>0</td>\n",
       "      <td>0</td>\n",
       "      <td>1</td>\n",
       "      <td>0</td>\n",
       "      <td>0</td>\n",
       "      <td>0</td>\n",
       "      <td>0</td>\n",
       "      <td>1</td>\n",
       "      <td>0</td>\n",
       "      <td>0</td>\n",
       "      <td>0</td>\n",
       "      <td>0</td>\n",
       "      <td>1</td>\n",
       "      <td>0</td>\n",
       "      <td>0</td>\n",
       "      <td>0</td>\n",
       "      <td>0</td>\n",
       "      <td>0</td>\n",
       "      <td>0</td>\n",
       "      <td>0</td>\n",
       "      <td>1</td>\n",
       "      <td>0</td>\n",
       "      <td>1</td>\n",
       "      <td>0</td>\n",
       "      <td>0</td>\n",
       "      <td>0</td>\n",
       "      <td>0</td>\n",
       "      <td>0</td>\n",
       "      <td>0</td>\n",
       "      <td>1</td>\n",
       "      <td>0</td>\n",
       "      <td>0</td>\n",
       "      <td>0</td>\n",
       "      <td>0</td>\n",
       "      <td>0</td>\n",
       "      <td>0</td>\n",
       "      <td>0</td>\n",
       "      <td>1</td>\n",
       "      <td>0</td>\n",
       "      <td>0</td>\n",
       "    </tr>\n",
       "    <tr>\n",
       "      <th>2</th>\n",
       "      <td>1</td>\n",
       "      <td>0</td>\n",
       "      <td>0</td>\n",
       "      <td>0</td>\n",
       "      <td>0</td>\n",
       "      <td>0</td>\n",
       "      <td>1</td>\n",
       "      <td>0</td>\n",
       "      <td>0</td>\n",
       "      <td>0</td>\n",
       "      <td>0</td>\n",
       "      <td>1</td>\n",
       "      <td>0</td>\n",
       "      <td>0</td>\n",
       "      <td>0</td>\n",
       "      <td>0</td>\n",
       "      <td>0</td>\n",
       "      <td>0</td>\n",
       "      <td>0</td>\n",
       "      <td>0</td>\n",
       "      <td>1</td>\n",
       "      <td>0</td>\n",
       "      <td>1</td>\n",
       "      <td>0</td>\n",
       "      <td>0</td>\n",
       "      <td>0</td>\n",
       "      <td>0</td>\n",
       "      <td>0</td>\n",
       "      <td>0</td>\n",
       "      <td>0</td>\n",
       "      <td>1</td>\n",
       "      <td>0</td>\n",
       "      <td>0</td>\n",
       "      <td>0</td>\n",
       "      <td>0</td>\n",
       "      <td>0</td>\n",
       "      <td>0</td>\n",
       "      <td>1</td>\n",
       "      <td>0</td>\n",
       "      <td>0</td>\n",
       "      <td>0</td>\n",
       "      <td>1</td>\n",
       "      <td>0</td>\n",
       "      <td>0</td>\n",
       "      <td>0</td>\n",
       "    </tr>\n",
       "    <tr>\n",
       "      <th>3</th>\n",
       "      <td>1</td>\n",
       "      <td>0</td>\n",
       "      <td>0</td>\n",
       "      <td>0</td>\n",
       "      <td>0</td>\n",
       "      <td>0</td>\n",
       "      <td>0</td>\n",
       "      <td>1</td>\n",
       "      <td>0</td>\n",
       "      <td>0</td>\n",
       "      <td>0</td>\n",
       "      <td>0</td>\n",
       "      <td>1</td>\n",
       "      <td>0</td>\n",
       "      <td>0</td>\n",
       "      <td>0</td>\n",
       "      <td>0</td>\n",
       "      <td>1</td>\n",
       "      <td>0</td>\n",
       "      <td>0</td>\n",
       "      <td>0</td>\n",
       "      <td>0</td>\n",
       "      <td>1</td>\n",
       "      <td>0</td>\n",
       "      <td>0</td>\n",
       "      <td>0</td>\n",
       "      <td>0</td>\n",
       "      <td>0</td>\n",
       "      <td>0</td>\n",
       "      <td>1</td>\n",
       "      <td>0</td>\n",
       "      <td>0</td>\n",
       "      <td>0</td>\n",
       "      <td>0</td>\n",
       "      <td>0</td>\n",
       "      <td>1</td>\n",
       "      <td>0</td>\n",
       "      <td>0</td>\n",
       "      <td>0</td>\n",
       "      <td>0</td>\n",
       "      <td>1</td>\n",
       "      <td>0</td>\n",
       "      <td>0</td>\n",
       "      <td>0</td>\n",
       "      <td>0</td>\n",
       "    </tr>\n",
       "    <tr>\n",
       "      <th>4</th>\n",
       "      <td>0</td>\n",
       "      <td>1</td>\n",
       "      <td>0</td>\n",
       "      <td>0</td>\n",
       "      <td>0</td>\n",
       "      <td>0</td>\n",
       "      <td>0</td>\n",
       "      <td>1</td>\n",
       "      <td>0</td>\n",
       "      <td>0</td>\n",
       "      <td>0</td>\n",
       "      <td>0</td>\n",
       "      <td>1</td>\n",
       "      <td>0</td>\n",
       "      <td>0</td>\n",
       "      <td>0</td>\n",
       "      <td>0</td>\n",
       "      <td>0</td>\n",
       "      <td>1</td>\n",
       "      <td>0</td>\n",
       "      <td>0</td>\n",
       "      <td>0</td>\n",
       "      <td>1</td>\n",
       "      <td>0</td>\n",
       "      <td>0</td>\n",
       "      <td>0</td>\n",
       "      <td>0</td>\n",
       "      <td>0</td>\n",
       "      <td>0</td>\n",
       "      <td>0</td>\n",
       "      <td>1</td>\n",
       "      <td>0</td>\n",
       "      <td>0</td>\n",
       "      <td>0</td>\n",
       "      <td>0</td>\n",
       "      <td>0</td>\n",
       "      <td>1</td>\n",
       "      <td>0</td>\n",
       "      <td>0</td>\n",
       "      <td>0</td>\n",
       "      <td>0</td>\n",
       "      <td>0</td>\n",
       "      <td>0</td>\n",
       "      <td>1</td>\n",
       "      <td>0</td>\n",
       "    </tr>\n",
       "  </tbody>\n",
       "</table>\n",
       "</div>"
      ],
      "text/plain": [
       "   education_1.0  education_2.0  education_3.0  education_4.0  education_5.0  \\\n",
       "0              1              0              0              0              0   \n",
       "1              1              0              0              0              0   \n",
       "2              1              0              0              0              0   \n",
       "3              1              0              0              0              0   \n",
       "4              0              1              0              0              0   \n",
       "\n",
       "   education_nan  home_address_1.0  home_address_2.0  home_address_3.0  \\\n",
       "0              0                 1                 0                 0   \n",
       "1              0                 0                 1                 0   \n",
       "2              0                 1                 0                 0   \n",
       "3              0                 0                 1                 0   \n",
       "4              0                 0                 1                 0   \n",
       "\n",
       "   home_address_nan  work_address_1.0  work_address_2.0  work_address_3.0  \\\n",
       "0                 0                 0                 1                 0   \n",
       "1                 0                 0                 0                 1   \n",
       "2                 0                 0                 1                 0   \n",
       "3                 0                 0                 0                 1   \n",
       "4                 0                 0                 0                 1   \n",
       "\n",
       "   work_address_nan  region_rating_20.0  region_rating_30.0  \\\n",
       "0                 0                   0                   0   \n",
       "1                 0                   0                   0   \n",
       "2                 0                   0                   0   \n",
       "3                 0                   0                   0   \n",
       "4                 0                   0                   0   \n",
       "\n",
       "   region_rating_40.0  region_rating_50.0  region_rating_60.0  \\\n",
       "0                   0                   1                   0   \n",
       "1                   0                   1                   0   \n",
       "2                   0                   0                   0   \n",
       "3                   0                   1                   0   \n",
       "4                   0                   0                   1   \n",
       "\n",
       "   region_rating_70.0  region_rating_80.0  region_rating_nan  sna_1.0  \\\n",
       "0                   0                   0                  0        0   \n",
       "1                   0                   0                  0        0   \n",
       "2                   0                   1                  0        1   \n",
       "3                   0                   0                  0        1   \n",
       "4                   0                   0                  0        1   \n",
       "\n",
       "   sna_2.0  sna_3.0  sna_4.0  sna_nan  first_time_1.0  first_time_2.0  \\\n",
       "0        0        0        1        0               1               0   \n",
       "1        0        0        1        0               1               0   \n",
       "2        0        0        0        0               0               0   \n",
       "3        0        0        0        0               0               0   \n",
       "4        0        0        0        0               0               0   \n",
       "\n",
       "   first_time_3.0  first_time_4.0  first_time_nan  app_weekday_0.0  \\\n",
       "0               0               0               0                0   \n",
       "1               0               0               0                0   \n",
       "2               0               1               0                0   \n",
       "3               1               0               0                0   \n",
       "4               0               1               0                0   \n",
       "\n",
       "   app_weekday_1.0  app_weekday_2.0  app_weekday_3.0  app_weekday_4.0  \\\n",
       "0                0                0                0                0   \n",
       "1                0                1                0                0   \n",
       "2                0                0                0                0   \n",
       "3                0                0                1                0   \n",
       "4                0                0                0                1   \n",
       "\n",
       "   app_weekday_5.0  app_weekday_6.0  app_weekday_nan  app_month_1.0  \\\n",
       "0                1                0                0              0   \n",
       "1                0                0                0              0   \n",
       "2                1                0                0              0   \n",
       "3                0                0                0              1   \n",
       "4                0                0                0              0   \n",
       "\n",
       "   app_month_2.0  app_month_3.0  app_month_4.0  app_month_nan  \n",
       "0              1              0              0              0  \n",
       "1              0              1              0              0  \n",
       "2              1              0              0              0  \n",
       "3              0              0              0              0  \n",
       "4              0              0              1              0  "
      ]
     },
     "execution_count": 31,
     "metadata": {},
     "output_type": "execute_result"
    }
   ],
   "source": [
    "df_cat = pd.get_dummies(df[cat_cols], columns=cat_cols, dummy_na=True)\n",
    "df_cat.head()"
   ]
  },
  {
   "cell_type": "code",
   "execution_count": 32,
   "metadata": {
    "execution": {
     "iopub.execute_input": "2020-12-01T20:03:29.169230Z",
     "iopub.status.busy": "2020-12-01T20:03:29.168374Z",
     "iopub.status.idle": "2020-12-01T20:03:29.192110Z",
     "shell.execute_reply": "2020-12-01T20:03:29.191358Z"
    },
    "papermill": {
     "duration": 0.104461,
     "end_time": "2020-12-01T20:03:29.192227",
     "exception": false,
     "start_time": "2020-12-01T20:03:29.087766",
     "status": "completed"
    },
    "tags": []
   },
   "outputs": [
    {
     "data": {
      "text/html": [
       "<div>\n",
       "<style scoped>\n",
       "    .dataframe tbody tr th:only-of-type {\n",
       "        vertical-align: middle;\n",
       "    }\n",
       "\n",
       "    .dataframe tbody tr th {\n",
       "        vertical-align: top;\n",
       "    }\n",
       "\n",
       "    .dataframe thead th {\n",
       "        text-align: right;\n",
       "    }\n",
       "</style>\n",
       "<table border=\"1\" class=\"dataframe\">\n",
       "  <thead>\n",
       "    <tr style=\"text-align: right;\">\n",
       "      <th></th>\n",
       "      <th>age</th>\n",
       "      <th>income</th>\n",
       "      <th>bki_request_cnt</th>\n",
       "      <th>decline_app_cnt_log</th>\n",
       "      <th>score_bki</th>\n",
       "    </tr>\n",
       "  </thead>\n",
       "  <tbody>\n",
       "    <tr>\n",
       "      <th>0</th>\n",
       "      <td>1.714029</td>\n",
       "      <td>-0.786072</td>\n",
       "      <td>-0.443335</td>\n",
       "      <td>-0.423451</td>\n",
       "      <td>-0.208688</td>\n",
       "    </tr>\n",
       "    <tr>\n",
       "      <th>1</th>\n",
       "      <td>1.542867</td>\n",
       "      <td>-0.708463</td>\n",
       "      <td>0.438921</td>\n",
       "      <td>-0.423451</td>\n",
       "      <td>0.745419</td>\n",
       "    </tr>\n",
       "    <tr>\n",
       "      <th>2</th>\n",
       "      <td>-1.390791</td>\n",
       "      <td>-0.052822</td>\n",
       "      <td>-0.443335</td>\n",
       "      <td>2.680628</td>\n",
       "      <td>0.993988</td>\n",
       "    </tr>\n",
       "    <tr>\n",
       "      <th>3</th>\n",
       "      <td>1.173250</td>\n",
       "      <td>-1.629794</td>\n",
       "      <td>-0.002207</td>\n",
       "      <td>-0.423451</td>\n",
       "      <td>-0.306243</td>\n",
       "    </tr>\n",
       "    <tr>\n",
       "      <th>4</th>\n",
       "      <td>0.832388</td>\n",
       "      <td>-0.052822</td>\n",
       "      <td>-0.443335</td>\n",
       "      <td>-0.423451</td>\n",
       "      <td>1.321223</td>\n",
       "    </tr>\n",
       "  </tbody>\n",
       "</table>\n",
       "</div>"
      ],
      "text/plain": [
       "        age    income  bki_request_cnt  decline_app_cnt_log  score_bki\n",
       "0  1.714029 -0.786072        -0.443335            -0.423451  -0.208688\n",
       "1  1.542867 -0.708463         0.438921            -0.423451   0.745419\n",
       "2 -1.390791 -0.052822        -0.443335             2.680628   0.993988\n",
       "3  1.173250 -1.629794        -0.002207            -0.423451  -0.306243\n",
       "4  0.832388 -0.052822        -0.443335            -0.423451   1.321223"
      ]
     },
     "execution_count": 32,
     "metadata": {},
     "output_type": "execute_result"
    }
   ],
   "source": [
    "# Стандартизация числовых переменных\n",
    "df_num = pd.DataFrame(StandardScaler().fit_transform(df[num_cols]), columns = num_cols)\n",
    "df_num.head()"
   ]
  },
  {
   "cell_type": "code",
   "execution_count": 33,
   "metadata": {
    "execution": {
     "iopub.execute_input": "2020-12-01T20:03:29.346254Z",
     "iopub.status.busy": "2020-12-01T20:03:29.345365Z",
     "iopub.status.idle": "2020-12-01T20:03:29.397476Z",
     "shell.execute_reply": "2020-12-01T20:03:29.396670Z"
    },
    "papermill": {
     "duration": 0.132977,
     "end_time": "2020-12-01T20:03:29.397607",
     "exception": false,
     "start_time": "2020-12-01T20:03:29.264630",
     "status": "completed"
    },
    "tags": []
   },
   "outputs": [
    {
     "data": {
      "text/html": [
       "<div>\n",
       "<style scoped>\n",
       "    .dataframe tbody tr th:only-of-type {\n",
       "        vertical-align: middle;\n",
       "    }\n",
       "\n",
       "    .dataframe tbody tr th {\n",
       "        vertical-align: top;\n",
       "    }\n",
       "\n",
       "    .dataframe thead th {\n",
       "        text-align: right;\n",
       "    }\n",
       "</style>\n",
       "<table border=\"1\" class=\"dataframe\">\n",
       "  <thead>\n",
       "    <tr style=\"text-align: right;\">\n",
       "      <th></th>\n",
       "      <th>age</th>\n",
       "      <th>income</th>\n",
       "      <th>bki_request_cnt</th>\n",
       "      <th>decline_app_cnt_log</th>\n",
       "      <th>score_bki</th>\n",
       "      <th>education_1.0</th>\n",
       "      <th>education_2.0</th>\n",
       "      <th>education_3.0</th>\n",
       "      <th>education_4.0</th>\n",
       "      <th>education_5.0</th>\n",
       "      <th>education_nan</th>\n",
       "      <th>home_address_1.0</th>\n",
       "      <th>home_address_2.0</th>\n",
       "      <th>home_address_3.0</th>\n",
       "      <th>home_address_nan</th>\n",
       "      <th>work_address_1.0</th>\n",
       "      <th>work_address_2.0</th>\n",
       "      <th>work_address_3.0</th>\n",
       "      <th>work_address_nan</th>\n",
       "      <th>region_rating_20.0</th>\n",
       "      <th>region_rating_30.0</th>\n",
       "      <th>region_rating_40.0</th>\n",
       "      <th>region_rating_50.0</th>\n",
       "      <th>region_rating_60.0</th>\n",
       "      <th>region_rating_70.0</th>\n",
       "      <th>region_rating_80.0</th>\n",
       "      <th>region_rating_nan</th>\n",
       "      <th>sna_1.0</th>\n",
       "      <th>sna_2.0</th>\n",
       "      <th>sna_3.0</th>\n",
       "      <th>sna_4.0</th>\n",
       "      <th>sna_nan</th>\n",
       "      <th>first_time_1.0</th>\n",
       "      <th>first_time_2.0</th>\n",
       "      <th>first_time_3.0</th>\n",
       "      <th>first_time_4.0</th>\n",
       "      <th>first_time_nan</th>\n",
       "      <th>app_weekday_0.0</th>\n",
       "      <th>app_weekday_1.0</th>\n",
       "      <th>app_weekday_2.0</th>\n",
       "      <th>app_weekday_3.0</th>\n",
       "      <th>app_weekday_4.0</th>\n",
       "      <th>app_weekday_5.0</th>\n",
       "      <th>app_weekday_6.0</th>\n",
       "      <th>app_weekday_nan</th>\n",
       "      <th>app_month_1.0</th>\n",
       "      <th>app_month_2.0</th>\n",
       "      <th>app_month_3.0</th>\n",
       "      <th>app_month_4.0</th>\n",
       "      <th>app_month_nan</th>\n",
       "      <th>sex</th>\n",
       "      <th>car</th>\n",
       "      <th>car_type</th>\n",
       "      <th>foreign_passport</th>\n",
       "      <th>good_work</th>\n",
       "      <th>education_is_nan</th>\n",
       "      <th>train</th>\n",
       "    </tr>\n",
       "  </thead>\n",
       "  <tbody>\n",
       "    <tr>\n",
       "      <th>0</th>\n",
       "      <td>1.714029</td>\n",
       "      <td>-0.786072</td>\n",
       "      <td>-0.443335</td>\n",
       "      <td>-0.423451</td>\n",
       "      <td>-0.208688</td>\n",
       "      <td>1</td>\n",
       "      <td>0</td>\n",
       "      <td>0</td>\n",
       "      <td>0</td>\n",
       "      <td>0</td>\n",
       "      <td>0</td>\n",
       "      <td>1</td>\n",
       "      <td>0</td>\n",
       "      <td>0</td>\n",
       "      <td>0</td>\n",
       "      <td>0</td>\n",
       "      <td>1</td>\n",
       "      <td>0</td>\n",
       "      <td>0</td>\n",
       "      <td>0</td>\n",
       "      <td>0</td>\n",
       "      <td>0</td>\n",
       "      <td>1</td>\n",
       "      <td>0</td>\n",
       "      <td>0</td>\n",
       "      <td>0</td>\n",
       "      <td>0</td>\n",
       "      <td>0</td>\n",
       "      <td>0</td>\n",
       "      <td>0</td>\n",
       "      <td>1</td>\n",
       "      <td>0</td>\n",
       "      <td>1</td>\n",
       "      <td>0</td>\n",
       "      <td>0</td>\n",
       "      <td>0</td>\n",
       "      <td>0</td>\n",
       "      <td>0</td>\n",
       "      <td>0</td>\n",
       "      <td>0</td>\n",
       "      <td>0</td>\n",
       "      <td>0</td>\n",
       "      <td>1</td>\n",
       "      <td>0</td>\n",
       "      <td>0</td>\n",
       "      <td>0</td>\n",
       "      <td>1</td>\n",
       "      <td>0</td>\n",
       "      <td>0</td>\n",
       "      <td>0</td>\n",
       "      <td>1</td>\n",
       "      <td>1</td>\n",
       "      <td>1</td>\n",
       "      <td>0</td>\n",
       "      <td>0</td>\n",
       "      <td>0</td>\n",
       "      <td>1</td>\n",
       "    </tr>\n",
       "    <tr>\n",
       "      <th>1</th>\n",
       "      <td>1.542867</td>\n",
       "      <td>-0.708463</td>\n",
       "      <td>0.438921</td>\n",
       "      <td>-0.423451</td>\n",
       "      <td>0.745419</td>\n",
       "      <td>1</td>\n",
       "      <td>0</td>\n",
       "      <td>0</td>\n",
       "      <td>0</td>\n",
       "      <td>0</td>\n",
       "      <td>0</td>\n",
       "      <td>0</td>\n",
       "      <td>1</td>\n",
       "      <td>0</td>\n",
       "      <td>0</td>\n",
       "      <td>0</td>\n",
       "      <td>0</td>\n",
       "      <td>1</td>\n",
       "      <td>0</td>\n",
       "      <td>0</td>\n",
       "      <td>0</td>\n",
       "      <td>0</td>\n",
       "      <td>1</td>\n",
       "      <td>0</td>\n",
       "      <td>0</td>\n",
       "      <td>0</td>\n",
       "      <td>0</td>\n",
       "      <td>0</td>\n",
       "      <td>0</td>\n",
       "      <td>0</td>\n",
       "      <td>1</td>\n",
       "      <td>0</td>\n",
       "      <td>1</td>\n",
       "      <td>0</td>\n",
       "      <td>0</td>\n",
       "      <td>0</td>\n",
       "      <td>0</td>\n",
       "      <td>0</td>\n",
       "      <td>0</td>\n",
       "      <td>1</td>\n",
       "      <td>0</td>\n",
       "      <td>0</td>\n",
       "      <td>0</td>\n",
       "      <td>0</td>\n",
       "      <td>0</td>\n",
       "      <td>0</td>\n",
       "      <td>0</td>\n",
       "      <td>1</td>\n",
       "      <td>0</td>\n",
       "      <td>0</td>\n",
       "      <td>0</td>\n",
       "      <td>0</td>\n",
       "      <td>0</td>\n",
       "      <td>0</td>\n",
       "      <td>0</td>\n",
       "      <td>0</td>\n",
       "      <td>1</td>\n",
       "    </tr>\n",
       "  </tbody>\n",
       "</table>\n",
       "</div>"
      ],
      "text/plain": [
       "        age    income  bki_request_cnt  decline_app_cnt_log  score_bki  \\\n",
       "0  1.714029 -0.786072        -0.443335            -0.423451  -0.208688   \n",
       "1  1.542867 -0.708463         0.438921            -0.423451   0.745419   \n",
       "\n",
       "   education_1.0  education_2.0  education_3.0  education_4.0  education_5.0  \\\n",
       "0              1              0              0              0              0   \n",
       "1              1              0              0              0              0   \n",
       "\n",
       "   education_nan  home_address_1.0  home_address_2.0  home_address_3.0  \\\n",
       "0              0                 1                 0                 0   \n",
       "1              0                 0                 1                 0   \n",
       "\n",
       "   home_address_nan  work_address_1.0  work_address_2.0  work_address_3.0  \\\n",
       "0                 0                 0                 1                 0   \n",
       "1                 0                 0                 0                 1   \n",
       "\n",
       "   work_address_nan  region_rating_20.0  region_rating_30.0  \\\n",
       "0                 0                   0                   0   \n",
       "1                 0                   0                   0   \n",
       "\n",
       "   region_rating_40.0  region_rating_50.0  region_rating_60.0  \\\n",
       "0                   0                   1                   0   \n",
       "1                   0                   1                   0   \n",
       "\n",
       "   region_rating_70.0  region_rating_80.0  region_rating_nan  sna_1.0  \\\n",
       "0                   0                   0                  0        0   \n",
       "1                   0                   0                  0        0   \n",
       "\n",
       "   sna_2.0  sna_3.0  sna_4.0  sna_nan  first_time_1.0  first_time_2.0  \\\n",
       "0        0        0        1        0               1               0   \n",
       "1        0        0        1        0               1               0   \n",
       "\n",
       "   first_time_3.0  first_time_4.0  first_time_nan  app_weekday_0.0  \\\n",
       "0               0               0               0                0   \n",
       "1               0               0               0                0   \n",
       "\n",
       "   app_weekday_1.0  app_weekday_2.0  app_weekday_3.0  app_weekday_4.0  \\\n",
       "0                0                0                0                0   \n",
       "1                0                1                0                0   \n",
       "\n",
       "   app_weekday_5.0  app_weekday_6.0  app_weekday_nan  app_month_1.0  \\\n",
       "0                1                0                0              0   \n",
       "1                0                0                0              0   \n",
       "\n",
       "   app_month_2.0  app_month_3.0  app_month_4.0  app_month_nan  sex  car  \\\n",
       "0              1              0              0              0    1    1   \n",
       "1              0              1              0              0    0    0   \n",
       "\n",
       "   car_type  foreign_passport  good_work  education_is_nan  train  \n",
       "0         1                 0          0                 0      1  \n",
       "1         0                 0          0                 0      1  "
      ]
     },
     "execution_count": 33,
     "metadata": {},
     "output_type": "execute_result"
    }
   ],
   "source": [
    "# Объединяем\n",
    "X = pd.concat([df_num, df_cat, df[bin_cols], df['train']], axis = 1)\n",
    "\n",
    "y = df[X.train > 0]['default']\n",
    "X.head(2)"
   ]
  },
  {
   "cell_type": "markdown",
   "metadata": {
    "papermill": {
     "duration": 0.073125,
     "end_time": "2020-12-01T20:03:29.544063",
     "exception": false,
     "start_time": "2020-12-01T20:03:29.470938",
     "status": "completed"
    },
    "tags": []
   },
   "source": [
    "Разбиваем на тестовую и обучающую выборки"
   ]
  },
  {
   "cell_type": "code",
   "execution_count": 34,
   "metadata": {
    "execution": {
     "iopub.execute_input": "2020-12-01T20:03:29.698207Z",
     "iopub.status.busy": "2020-12-01T20:03:29.697433Z",
     "iopub.status.idle": "2020-12-01T20:03:29.740045Z",
     "shell.execute_reply": "2020-12-01T20:03:29.739234Z"
    },
    "papermill": {
     "duration": 0.122736,
     "end_time": "2020-12-01T20:03:29.740172",
     "exception": false,
     "start_time": "2020-12-01T20:03:29.617436",
     "status": "completed"
    },
    "tags": []
   },
   "outputs": [],
   "source": [
    "X_train, X_test, y_train, y_test = train_test_split(X[X.train > 0].drop(['train'], axis=1), y, test_size = 0.3, random_state=RANDOM_SEED)"
   ]
  },
  {
   "cell_type": "code",
   "execution_count": 35,
   "metadata": {
    "execution": {
     "iopub.execute_input": "2020-12-01T20:03:29.896055Z",
     "iopub.status.busy": "2020-12-01T20:03:29.895264Z",
     "iopub.status.idle": "2020-12-01T20:03:31.221386Z",
     "shell.execute_reply": "2020-12-01T20:03:31.220134Z"
    },
    "papermill": {
     "duration": 1.408025,
     "end_time": "2020-12-01T20:03:31.221560",
     "exception": false,
     "start_time": "2020-12-01T20:03:29.813535",
     "status": "completed"
    },
    "tags": []
   },
   "outputs": [],
   "source": [
    "model = LogisticRegression(max_iter = 1000)\n",
    "model.fit(X_train, y_train)\n",
    "y_pred = model.predict(X_test)"
   ]
  },
  {
   "cell_type": "code",
   "execution_count": 36,
   "metadata": {
    "execution": {
     "iopub.execute_input": "2020-12-01T20:03:31.382384Z",
     "iopub.status.busy": "2020-12-01T20:03:31.381490Z",
     "iopub.status.idle": "2020-12-01T20:03:31.585827Z",
     "shell.execute_reply": "2020-12-01T20:03:31.585207Z"
    },
    "papermill": {
     "duration": 0.291043,
     "end_time": "2020-12-01T20:03:31.585955",
     "exception": false,
     "start_time": "2020-12-01T20:03:31.294912",
     "status": "completed"
    },
    "tags": []
   },
   "outputs": [
    {
     "data": {
      "image/png": "[encoded data removed]",
      "text/plain": [
       "<Figure size 432x288 with 1 Axes>"
      ]
     },
     "metadata": {
      "needs_background": "light"
     },
     "output_type": "display_data"
    }
   ],
   "source": [
    "probs = model.predict_proba(X_test)\n",
    "probs = probs[:,1]\n",
    "\n",
    "\n",
    "fpr, tpr, threshold = roc_curve(y_test, probs)\n",
    "roc_auc = roc_auc_score(y_test, probs)\n",
    "\n",
    "plt.figure()\n",
    "plt.plot([0, 1], label='Baseline', linestyle='--')\n",
    "plt.plot(fpr, tpr, label = 'Regression')\n",
    "plt.title('Logistic Regression ROC AUC = %0.3f' % roc_auc)\n",
    "plt.ylabel('True Positive Rate')\n",
    "plt.xlabel('False Positive Rate')\n",
    "plt.legend(loc = 'lower right')\n",
    "plt.show()"
   ]
  },
  {
   "cell_type": "code",
   "execution_count": 37,
   "metadata": {
    "execution": {
     "iopub.execute_input": "2020-12-01T20:03:31.748124Z",
     "iopub.status.busy": "2020-12-01T20:03:31.747043Z",
     "iopub.status.idle": "2020-12-01T20:03:31.875085Z",
     "shell.execute_reply": "2020-12-01T20:03:31.875628Z"
    },
    "papermill": {
     "duration": 0.215216,
     "end_time": "2020-12-01T20:03:31.875824",
     "exception": false,
     "start_time": "2020-12-01T20:03:31.660608",
     "status": "completed"
    },
    "tags": []
   },
   "outputs": [
    {
     "data": {
      "image/png": "[encoded data removed]",
      "text/plain": [
       "<Figure size 432x288 with 1 Axes>"
      ]
     },
     "metadata": {
      "needs_background": "light"
     },
     "output_type": "display_data"
    }
   ],
   "source": [
    "tn, fp, fn, tp = confusion_matrix(y_test, y_pred).ravel()\n",
    "cf_matrix = np.array([[tp,fp],[fn,tn]])\n",
    "group_names = ['TP','FP','FN','TN']\n",
    "group_counts = ['{0:0.0f}'.format(value) for value in cf_matrix.flatten()]\n",
    "labels = [f\"{v1}\\n{v2}\" for v1, v2 in zip(group_names,group_counts)]\n",
    "labels = np.asarray(labels).reshape(2,2)\n",
    "plt.figure()\n",
    "sns.heatmap(cf_matrix, annot=labels, annot_kws={\"size\": 20}, fmt='', cmap= 'Paired', cbar = False, \\\n",
    "         xticklabels = ['Дефолт','Не дефолт'], yticklabels= ['Дефолт','Не дефолт'])\n",
    "plt.title('Матрица ошибок для default')\n",
    "plt.show()"
   ]
  },
  {
   "cell_type": "markdown",
   "metadata": {
    "papermill": {
     "duration": 0.076224,
     "end_time": "2020-12-01T20:03:32.028651",
     "exception": false,
     "start_time": "2020-12-01T20:03:31.952427",
     "status": "completed"
    },
    "tags": []
   },
   "source": [
    "**Подбор оптимальных параметров**"
   ]
  },
  {
   "cell_type": "code",
   "execution_count": 38,
   "metadata": {
    "execution": {
     "iopub.execute_input": "2020-12-01T20:03:32.199525Z",
     "iopub.status.busy": "2020-12-01T20:03:32.198384Z",
     "iopub.status.idle": "2020-12-01T20:05:29.203576Z",
     "shell.execute_reply": "2020-12-01T20:05:29.204202Z"
    },
    "papermill": {
     "duration": 117.099612,
     "end_time": "2020-12-01T20:05:29.204394",
     "exception": false,
     "start_time": "2020-12-01T20:03:32.104782",
     "status": "completed"
    },
    "tags": []
   },
   "outputs": [
    {
     "name": "stdout",
     "output_type": "stream",
     "text": [
      "\tC: 1.0\n",
      "\tclass_weight: 'balanced'\n",
      "\tdual: False\n",
      "\tfit_intercept: True\n",
      "\tintercept_scaling: 1\n",
      "\tl1_ratio: None\n",
      "\tmax_iter: 50\n",
      "\tmulti_class: 'auto'\n",
      "\tn_jobs: None\n",
      "\tpenalty: 'l2'\n",
      "\trandom_state: 42\n",
      "\tsolver: 'saga'\n",
      "\ttol: 0.001\n",
      "\tverbose: 0\n",
      "\twarm_start: False\n",
      "Accuracy: 0.6697\n",
      "Precision: 0.2275\n",
      "Recall: 0.6806\n",
      "F1: 0.3410\n"
     ]
    }
   ],
   "source": [
    "# запускаем GridSearch на небольшом кол-ве итераций max_iter=50 и с достаточно большой дельтой останова tol1e-3\n",
    "# чтобы получить оптимальные параметры модели в первом приближении\n",
    "model = LogisticRegression(random_state=RANDOM_SEED)\n",
    "iter_ = 50\n",
    "epsilon_stop = 1e-3\n",
    "param_grid = [\n",
    "    {'penalty': ['l1'],\n",
    "     'solver': ['liblinear', 'lbfgs'], \n",
    "     'class_weight':['none', 'balanced'], \n",
    "     'multi_class': ['auto','ovr'], \n",
    "     'max_iter':[iter_],\n",
    "     'tol':[epsilon_stop]},\n",
    "    {'penalty': ['l2'],\n",
    "     'solver': ['newton-cg', 'lbfgs', 'liblinear', 'sag', 'saga'], \n",
    "     'class_weight':['none', 'balanced'], \n",
    "     'multi_class': ['auto','ovr'], \n",
    "     'max_iter':[iter_],\n",
    "     'tol':[epsilon_stop]},\n",
    "    {'penalty': ['none'],\n",
    "     'solver': ['newton-cg', 'lbfgs', 'sag', 'saga'], \n",
    "     'class_weight':['none', 'balanced'], \n",
    "     'multi_class': ['auto','ovr'], \n",
    "     'max_iter':[iter_],\n",
    "     'tol':[epsilon_stop]},\n",
    "]\n",
    "gridsearch = GridSearchCV(model, param_grid, scoring='f1', n_jobs=-1, cv=5)\n",
    "gridsearch.fit(X_train, y_train)\n",
    "model = gridsearch.best_estimator_\n",
    "##печатаем параметры\n",
    "best_parameters = model.get_params()\n",
    "for param_name in sorted(best_parameters.keys()):\n",
    "    print('\\t%s: %r' % (param_name, best_parameters[param_name]))\n",
    "##печатаем метрики\n",
    "preds = model.predict(X_test)\n",
    "print('Accuracy: %.4f' % accuracy_score(y_test, preds))\n",
    "print('Precision: %.4f' % precision_score(y_test, preds))\n",
    "print('Recall: %.4f' % recall_score(y_test, preds))\n",
    "print('F1: %.4f' % f1_score(y_test, preds))"
   ]
  },
  {
   "cell_type": "markdown",
   "metadata": {
    "papermill": {
     "duration": 0.075971,
     "end_time": "2020-12-01T20:05:29.356797",
     "exception": false,
     "start_time": "2020-12-01T20:05:29.280826",
     "status": "completed"
    },
    "tags": []
   },
   "source": [
    "Модель на оптимальных параметрах"
   ]
  },
  {
   "cell_type": "code",
   "execution_count": 39,
   "metadata": {
    "execution": {
     "iopub.execute_input": "2020-12-01T20:05:29.523787Z",
     "iopub.status.busy": "2020-12-01T20:05:29.523017Z",
     "iopub.status.idle": "2020-12-01T20:06:45.722879Z",
     "shell.execute_reply": "2020-12-01T20:06:45.723815Z"
    },
    "papermill": {
     "duration": 76.291458,
     "end_time": "2020-12-01T20:06:45.724055",
     "exception": false,
     "start_time": "2020-12-01T20:05:29.432597",
     "status": "completed"
    },
    "tags": []
   },
   "outputs": [
    {
     "name": "stdout",
     "output_type": "stream",
     "text": [
      "\tC: 1.6681005372000588\n",
      "\tclass_weight: 'balanced'\n",
      "\tdual: False\n",
      "\tfit_intercept: True\n",
      "\tintercept_scaling: 1\n",
      "\tl1_ratio: None\n",
      "\tmax_iter: 100\n",
      "\tmulti_class: 'auto'\n",
      "\tn_jobs: None\n",
      "\tpenalty: 'l2'\n",
      "\trandom_state: 42\n",
      "\tsolver: 'saga'\n",
      "\ttol: 0.001\n",
      "\tverbose: 0\n",
      "\twarm_start: False\n",
      "Accuracy: 0.6697\n",
      "Precision: 0.2275\n",
      "Recall: 0.6806\n",
      "F1: 0.3410\n"
     ]
    }
   ],
   "source": [
    "model = LogisticRegression(random_state=RANDOM_SEED)\n",
    "iter_ = 100\n",
    "epsilon_stop = 1e-3\n",
    "C = np.logspace(0, 1, 10)\n",
    "param_grid = [\n",
    "    {'C': C,\n",
    "     'penalty': [best_parameters['penalty']],\n",
    "     'solver': [best_parameters['solver']], \n",
    "     'class_weight':[best_parameters['class_weight']], \n",
    "     'multi_class': [best_parameters['multi_class']], \n",
    "     'max_iter':[iter_],\n",
    "     'tol':[epsilon_stop]}\n",
    "\n",
    "]\n",
    "gridsearch = GridSearchCV(model, param_grid, scoring='f1', n_jobs=-1, cv=5)\n",
    "gridsearch.fit(X_train, y_train)\n",
    "model = gridsearch.best_estimator_\n",
    "##печатаем параметры\n",
    "best_parameters = model.get_params()\n",
    "for param_name in sorted(best_parameters.keys()):\n",
    "    print('\\t%s: %r' % (param_name, best_parameters[param_name]))\n",
    "##печатаем метрики\n",
    "y_pred = model.predict(X_test)\n",
    "print('Accuracy: %.4f' % accuracy_score(y_test, y_pred))\n",
    "print('Precision: %.4f' % precision_score(y_test, y_pred))\n",
    "print('Recall: %.4f' % recall_score(y_test, y_pred))\n",
    "print('F1: %.4f' % f1_score(y_test, y_pred))"
   ]
  },
  {
   "cell_type": "code",
   "execution_count": 40,
   "metadata": {
    "execution": {
     "iopub.execute_input": "2020-12-01T20:06:45.889714Z",
     "iopub.status.busy": "2020-12-01T20:06:45.886919Z",
     "iopub.status.idle": "2020-12-01T20:06:46.015678Z",
     "shell.execute_reply": "2020-12-01T20:06:46.015036Z"
    },
    "papermill": {
     "duration": 0.214066,
     "end_time": "2020-12-01T20:06:46.015823",
     "exception": false,
     "start_time": "2020-12-01T20:06:45.801757",
     "status": "completed"
    },
    "tags": []
   },
   "outputs": [
    {
     "data": {
      "image/png": "[encoded data removed]",
      "text/plain": [
       "<Figure size 432x288 with 1 Axes>"
      ]
     },
     "metadata": {
      "needs_background": "light"
     },
     "output_type": "display_data"
    }
   ],
   "source": [
    "tn, fp, fn, tp = confusion_matrix(y_test, y_pred).ravel()\n",
    "cf_matrix = np.array([[tp,fp],[fn,tn]])\n",
    "group_names = ['TP','FP','FN','TN']\n",
    "group_counts = ['{0:0.0f}'.format(value) for value in cf_matrix.flatten()]\n",
    "labels = [f\"{v1}\\n{v2}\" for v1, v2 in zip(group_names,group_counts)]\n",
    "labels = np.asarray(labels).reshape(2,2)\n",
    "plt.figure()\n",
    "sns.heatmap(cf_matrix, annot=labels, annot_kws={\"size\": 20}, fmt='', cmap= 'Paired', cbar = False, \\\n",
    "         xticklabels = ['Дефолт','Не дефолт'], yticklabels= ['Дефолт','Не дефолт'])\n",
    "plt.title('Матрица ошибок для default')\n",
    "plt.show()"
   ]
  },
  {
   "cell_type": "markdown",
   "metadata": {
    "papermill": {
     "duration": 0.078114,
     "end_time": "2020-12-01T20:06:46.173038",
     "exception": false,
     "start_time": "2020-12-01T20:06:46.094924",
     "status": "completed"
    },
    "tags": []
   },
   "source": [
    "# Submission"
   ]
  },
  {
   "cell_type": "code",
   "execution_count": 41,
   "metadata": {
    "execution": {
     "iopub.execute_input": "2020-12-01T20:06:46.337345Z",
     "iopub.status.busy": "2020-12-01T20:06:46.336588Z",
     "iopub.status.idle": "2020-12-01T20:06:46.396149Z",
     "shell.execute_reply": "2020-12-01T20:06:46.396749Z"
    },
    "papermill": {
     "duration": 0.144357,
     "end_time": "2020-12-01T20:06:46.396904",
     "exception": false,
     "start_time": "2020-12-01T20:06:46.252547",
     "status": "completed"
    },
    "tags": []
   },
   "outputs": [
    {
     "data": {
      "text/html": [
       "<div>\n",
       "<style scoped>\n",
       "    .dataframe tbody tr th:only-of-type {\n",
       "        vertical-align: middle;\n",
       "    }\n",
       "\n",
       "    .dataframe tbody tr th {\n",
       "        vertical-align: top;\n",
       "    }\n",
       "\n",
       "    .dataframe thead th {\n",
       "        text-align: right;\n",
       "    }\n",
       "</style>\n",
       "<table border=\"1\" class=\"dataframe\">\n",
       "  <thead>\n",
       "    <tr style=\"text-align: right;\">\n",
       "      <th></th>\n",
       "      <th>age</th>\n",
       "      <th>income</th>\n",
       "      <th>bki_request_cnt</th>\n",
       "      <th>decline_app_cnt_log</th>\n",
       "      <th>score_bki</th>\n",
       "      <th>education_1.0</th>\n",
       "      <th>education_2.0</th>\n",
       "      <th>education_3.0</th>\n",
       "      <th>education_4.0</th>\n",
       "      <th>education_5.0</th>\n",
       "      <th>education_nan</th>\n",
       "      <th>home_address_1.0</th>\n",
       "      <th>home_address_2.0</th>\n",
       "      <th>home_address_3.0</th>\n",
       "      <th>home_address_nan</th>\n",
       "      <th>work_address_1.0</th>\n",
       "      <th>work_address_2.0</th>\n",
       "      <th>work_address_3.0</th>\n",
       "      <th>work_address_nan</th>\n",
       "      <th>region_rating_20.0</th>\n",
       "      <th>region_rating_30.0</th>\n",
       "      <th>region_rating_40.0</th>\n",
       "      <th>region_rating_50.0</th>\n",
       "      <th>region_rating_60.0</th>\n",
       "      <th>region_rating_70.0</th>\n",
       "      <th>region_rating_80.0</th>\n",
       "      <th>region_rating_nan</th>\n",
       "      <th>sna_1.0</th>\n",
       "      <th>sna_2.0</th>\n",
       "      <th>sna_3.0</th>\n",
       "      <th>sna_4.0</th>\n",
       "      <th>sna_nan</th>\n",
       "      <th>first_time_1.0</th>\n",
       "      <th>first_time_2.0</th>\n",
       "      <th>first_time_3.0</th>\n",
       "      <th>first_time_4.0</th>\n",
       "      <th>first_time_nan</th>\n",
       "      <th>app_weekday_0.0</th>\n",
       "      <th>app_weekday_1.0</th>\n",
       "      <th>app_weekday_2.0</th>\n",
       "      <th>app_weekday_3.0</th>\n",
       "      <th>app_weekday_4.0</th>\n",
       "      <th>app_weekday_5.0</th>\n",
       "      <th>app_weekday_6.0</th>\n",
       "      <th>app_weekday_nan</th>\n",
       "      <th>app_month_1.0</th>\n",
       "      <th>app_month_2.0</th>\n",
       "      <th>app_month_3.0</th>\n",
       "      <th>app_month_4.0</th>\n",
       "      <th>app_month_nan</th>\n",
       "      <th>sex</th>\n",
       "      <th>car</th>\n",
       "      <th>car_type</th>\n",
       "      <th>foreign_passport</th>\n",
       "      <th>good_work</th>\n",
       "      <th>education_is_nan</th>\n",
       "    </tr>\n",
       "  </thead>\n",
       "  <tbody>\n",
       "    <tr>\n",
       "      <th>73799</th>\n",
       "      <td>-0.888776</td>\n",
       "      <td>0.680428</td>\n",
       "      <td>0.438921</td>\n",
       "      <td>-0.423451</td>\n",
       "      <td>-0.735587</td>\n",
       "      <td>0</td>\n",
       "      <td>1</td>\n",
       "      <td>0</td>\n",
       "      <td>0</td>\n",
       "      <td>0</td>\n",
       "      <td>0</td>\n",
       "      <td>1</td>\n",
       "      <td>0</td>\n",
       "      <td>0</td>\n",
       "      <td>0</td>\n",
       "      <td>0</td>\n",
       "      <td>1</td>\n",
       "      <td>0</td>\n",
       "      <td>0</td>\n",
       "      <td>0</td>\n",
       "      <td>0</td>\n",
       "      <td>0</td>\n",
       "      <td>1</td>\n",
       "      <td>0</td>\n",
       "      <td>0</td>\n",
       "      <td>0</td>\n",
       "      <td>0</td>\n",
       "      <td>1</td>\n",
       "      <td>0</td>\n",
       "      <td>0</td>\n",
       "      <td>0</td>\n",
       "      <td>0</td>\n",
       "      <td>0</td>\n",
       "      <td>0</td>\n",
       "      <td>0</td>\n",
       "      <td>1</td>\n",
       "      <td>0</td>\n",
       "      <td>0</td>\n",
       "      <td>0</td>\n",
       "      <td>0</td>\n",
       "      <td>0</td>\n",
       "      <td>0</td>\n",
       "      <td>1</td>\n",
       "      <td>0</td>\n",
       "      <td>0</td>\n",
       "      <td>0</td>\n",
       "      <td>0</td>\n",
       "      <td>1</td>\n",
       "      <td>0</td>\n",
       "      <td>0</td>\n",
       "      <td>1</td>\n",
       "      <td>1</td>\n",
       "      <td>1</td>\n",
       "      <td>0</td>\n",
       "      <td>0</td>\n",
       "      <td>0</td>\n",
       "    </tr>\n",
       "    <tr>\n",
       "      <th>73800</th>\n",
       "      <td>0.120447</td>\n",
       "      <td>-2.624752</td>\n",
       "      <td>-0.002207</td>\n",
       "      <td>4.399062</td>\n",
       "      <td>0.800039</td>\n",
       "      <td>1</td>\n",
       "      <td>0</td>\n",
       "      <td>0</td>\n",
       "      <td>0</td>\n",
       "      <td>0</td>\n",
       "      <td>0</td>\n",
       "      <td>1</td>\n",
       "      <td>0</td>\n",
       "      <td>0</td>\n",
       "      <td>0</td>\n",
       "      <td>0</td>\n",
       "      <td>1</td>\n",
       "      <td>0</td>\n",
       "      <td>0</td>\n",
       "      <td>0</td>\n",
       "      <td>0</td>\n",
       "      <td>0</td>\n",
       "      <td>1</td>\n",
       "      <td>0</td>\n",
       "      <td>0</td>\n",
       "      <td>0</td>\n",
       "      <td>0</td>\n",
       "      <td>0</td>\n",
       "      <td>0</td>\n",
       "      <td>0</td>\n",
       "      <td>1</td>\n",
       "      <td>0</td>\n",
       "      <td>0</td>\n",
       "      <td>0</td>\n",
       "      <td>1</td>\n",
       "      <td>0</td>\n",
       "      <td>0</td>\n",
       "      <td>0</td>\n",
       "      <td>0</td>\n",
       "      <td>0</td>\n",
       "      <td>0</td>\n",
       "      <td>1</td>\n",
       "      <td>0</td>\n",
       "      <td>0</td>\n",
       "      <td>0</td>\n",
       "      <td>1</td>\n",
       "      <td>0</td>\n",
       "      <td>0</td>\n",
       "      <td>0</td>\n",
       "      <td>0</td>\n",
       "      <td>0</td>\n",
       "      <td>0</td>\n",
       "      <td>0</td>\n",
       "      <td>0</td>\n",
       "      <td>0</td>\n",
       "      <td>0</td>\n",
       "    </tr>\n",
       "    <tr>\n",
       "      <th>73801</th>\n",
       "      <td>0.972731</td>\n",
       "      <td>-0.052822</td>\n",
       "      <td>-0.443335</td>\n",
       "      <td>-0.423451</td>\n",
       "      <td>0.426908</td>\n",
       "      <td>0</td>\n",
       "      <td>0</td>\n",
       "      <td>1</td>\n",
       "      <td>0</td>\n",
       "      <td>0</td>\n",
       "      <td>0</td>\n",
       "      <td>1</td>\n",
       "      <td>0</td>\n",
       "      <td>0</td>\n",
       "      <td>0</td>\n",
       "      <td>0</td>\n",
       "      <td>1</td>\n",
       "      <td>0</td>\n",
       "      <td>0</td>\n",
       "      <td>0</td>\n",
       "      <td>0</td>\n",
       "      <td>0</td>\n",
       "      <td>1</td>\n",
       "      <td>0</td>\n",
       "      <td>0</td>\n",
       "      <td>0</td>\n",
       "      <td>0</td>\n",
       "      <td>1</td>\n",
       "      <td>0</td>\n",
       "      <td>0</td>\n",
       "      <td>0</td>\n",
       "      <td>0</td>\n",
       "      <td>0</td>\n",
       "      <td>0</td>\n",
       "      <td>1</td>\n",
       "      <td>0</td>\n",
       "      <td>0</td>\n",
       "      <td>0</td>\n",
       "      <td>0</td>\n",
       "      <td>0</td>\n",
       "      <td>0</td>\n",
       "      <td>0</td>\n",
       "      <td>0</td>\n",
       "      <td>1</td>\n",
       "      <td>0</td>\n",
       "      <td>0</td>\n",
       "      <td>0</td>\n",
       "      <td>1</td>\n",
       "      <td>0</td>\n",
       "      <td>0</td>\n",
       "      <td>1</td>\n",
       "      <td>1</td>\n",
       "      <td>1</td>\n",
       "      <td>1</td>\n",
       "      <td>0</td>\n",
       "      <td>0</td>\n",
       "    </tr>\n",
       "    <tr>\n",
       "      <th>73802</th>\n",
       "      <td>1.362924</td>\n",
       "      <td>-0.868118</td>\n",
       "      <td>-0.443335</td>\n",
       "      <td>-0.423451</td>\n",
       "      <td>-0.940432</td>\n",
       "      <td>1</td>\n",
       "      <td>0</td>\n",
       "      <td>0</td>\n",
       "      <td>0</td>\n",
       "      <td>0</td>\n",
       "      <td>0</td>\n",
       "      <td>1</td>\n",
       "      <td>0</td>\n",
       "      <td>0</td>\n",
       "      <td>0</td>\n",
       "      <td>0</td>\n",
       "      <td>1</td>\n",
       "      <td>0</td>\n",
       "      <td>0</td>\n",
       "      <td>0</td>\n",
       "      <td>0</td>\n",
       "      <td>1</td>\n",
       "      <td>0</td>\n",
       "      <td>0</td>\n",
       "      <td>0</td>\n",
       "      <td>0</td>\n",
       "      <td>0</td>\n",
       "      <td>1</td>\n",
       "      <td>0</td>\n",
       "      <td>0</td>\n",
       "      <td>0</td>\n",
       "      <td>0</td>\n",
       "      <td>0</td>\n",
       "      <td>0</td>\n",
       "      <td>1</td>\n",
       "      <td>0</td>\n",
       "      <td>0</td>\n",
       "      <td>1</td>\n",
       "      <td>0</td>\n",
       "      <td>0</td>\n",
       "      <td>0</td>\n",
       "      <td>0</td>\n",
       "      <td>0</td>\n",
       "      <td>0</td>\n",
       "      <td>0</td>\n",
       "      <td>0</td>\n",
       "      <td>1</td>\n",
       "      <td>0</td>\n",
       "      <td>0</td>\n",
       "      <td>0</td>\n",
       "      <td>1</td>\n",
       "      <td>0</td>\n",
       "      <td>0</td>\n",
       "      <td>0</td>\n",
       "      <td>0</td>\n",
       "      <td>0</td>\n",
       "    </tr>\n",
       "    <tr>\n",
       "      <th>73803</th>\n",
       "      <td>0.031629</td>\n",
       "      <td>1.937095</td>\n",
       "      <td>-0.884463</td>\n",
       "      <td>-0.423451</td>\n",
       "      <td>-1.167347</td>\n",
       "      <td>0</td>\n",
       "      <td>1</td>\n",
       "      <td>0</td>\n",
       "      <td>0</td>\n",
       "      <td>0</td>\n",
       "      <td>0</td>\n",
       "      <td>0</td>\n",
       "      <td>1</td>\n",
       "      <td>0</td>\n",
       "      <td>0</td>\n",
       "      <td>0</td>\n",
       "      <td>0</td>\n",
       "      <td>1</td>\n",
       "      <td>0</td>\n",
       "      <td>0</td>\n",
       "      <td>0</td>\n",
       "      <td>0</td>\n",
       "      <td>0</td>\n",
       "      <td>0</td>\n",
       "      <td>0</td>\n",
       "      <td>1</td>\n",
       "      <td>0</td>\n",
       "      <td>1</td>\n",
       "      <td>0</td>\n",
       "      <td>0</td>\n",
       "      <td>0</td>\n",
       "      <td>0</td>\n",
       "      <td>0</td>\n",
       "      <td>0</td>\n",
       "      <td>1</td>\n",
       "      <td>0</td>\n",
       "      <td>0</td>\n",
       "      <td>0</td>\n",
       "      <td>1</td>\n",
       "      <td>0</td>\n",
       "      <td>0</td>\n",
       "      <td>0</td>\n",
       "      <td>0</td>\n",
       "      <td>0</td>\n",
       "      <td>0</td>\n",
       "      <td>0</td>\n",
       "      <td>1</td>\n",
       "      <td>0</td>\n",
       "      <td>0</td>\n",
       "      <td>0</td>\n",
       "      <td>0</td>\n",
       "      <td>0</td>\n",
       "      <td>0</td>\n",
       "      <td>0</td>\n",
       "      <td>0</td>\n",
       "      <td>0</td>\n",
       "    </tr>\n",
       "    <tr>\n",
       "      <th>...</th>\n",
       "      <td>...</td>\n",
       "      <td>...</td>\n",
       "      <td>...</td>\n",
       "      <td>...</td>\n",
       "      <td>...</td>\n",
       "      <td>...</td>\n",
       "      <td>...</td>\n",
       "      <td>...</td>\n",
       "      <td>...</td>\n",
       "      <td>...</td>\n",
       "      <td>...</td>\n",
       "      <td>...</td>\n",
       "      <td>...</td>\n",
       "      <td>...</td>\n",
       "      <td>...</td>\n",
       "      <td>...</td>\n",
       "      <td>...</td>\n",
       "      <td>...</td>\n",
       "      <td>...</td>\n",
       "      <td>...</td>\n",
       "      <td>...</td>\n",
       "      <td>...</td>\n",
       "      <td>...</td>\n",
       "      <td>...</td>\n",
       "      <td>...</td>\n",
       "      <td>...</td>\n",
       "      <td>...</td>\n",
       "      <td>...</td>\n",
       "      <td>...</td>\n",
       "      <td>...</td>\n",
       "      <td>...</td>\n",
       "      <td>...</td>\n",
       "      <td>...</td>\n",
       "      <td>...</td>\n",
       "      <td>...</td>\n",
       "      <td>...</td>\n",
       "      <td>...</td>\n",
       "      <td>...</td>\n",
       "      <td>...</td>\n",
       "      <td>...</td>\n",
       "      <td>...</td>\n",
       "      <td>...</td>\n",
       "      <td>...</td>\n",
       "      <td>...</td>\n",
       "      <td>...</td>\n",
       "      <td>...</td>\n",
       "      <td>...</td>\n",
       "      <td>...</td>\n",
       "      <td>...</td>\n",
       "      <td>...</td>\n",
       "      <td>...</td>\n",
       "      <td>...</td>\n",
       "      <td>...</td>\n",
       "      <td>...</td>\n",
       "      <td>...</td>\n",
       "      <td>...</td>\n",
       "    </tr>\n",
       "    <tr>\n",
       "      <th>110143</th>\n",
       "      <td>-0.059496</td>\n",
       "      <td>-1.047780</td>\n",
       "      <td>0.438921</td>\n",
       "      <td>1.535004</td>\n",
       "      <td>0.319505</td>\n",
       "      <td>1</td>\n",
       "      <td>0</td>\n",
       "      <td>0</td>\n",
       "      <td>0</td>\n",
       "      <td>0</td>\n",
       "      <td>0</td>\n",
       "      <td>0</td>\n",
       "      <td>1</td>\n",
       "      <td>0</td>\n",
       "      <td>0</td>\n",
       "      <td>0</td>\n",
       "      <td>0</td>\n",
       "      <td>1</td>\n",
       "      <td>0</td>\n",
       "      <td>0</td>\n",
       "      <td>0</td>\n",
       "      <td>0</td>\n",
       "      <td>1</td>\n",
       "      <td>0</td>\n",
       "      <td>0</td>\n",
       "      <td>0</td>\n",
       "      <td>0</td>\n",
       "      <td>0</td>\n",
       "      <td>0</td>\n",
       "      <td>0</td>\n",
       "      <td>1</td>\n",
       "      <td>0</td>\n",
       "      <td>1</td>\n",
       "      <td>0</td>\n",
       "      <td>0</td>\n",
       "      <td>0</td>\n",
       "      <td>0</td>\n",
       "      <td>1</td>\n",
       "      <td>0</td>\n",
       "      <td>0</td>\n",
       "      <td>0</td>\n",
       "      <td>0</td>\n",
       "      <td>0</td>\n",
       "      <td>0</td>\n",
       "      <td>0</td>\n",
       "      <td>0</td>\n",
       "      <td>0</td>\n",
       "      <td>1</td>\n",
       "      <td>0</td>\n",
       "      <td>0</td>\n",
       "      <td>0</td>\n",
       "      <td>0</td>\n",
       "      <td>0</td>\n",
       "      <td>0</td>\n",
       "      <td>0</td>\n",
       "      <td>0</td>\n",
       "    </tr>\n",
       "    <tr>\n",
       "      <th>110144</th>\n",
       "      <td>1.823666</td>\n",
       "      <td>2.670346</td>\n",
       "      <td>0.438921</td>\n",
       "      <td>-0.423451</td>\n",
       "      <td>-0.779436</td>\n",
       "      <td>0</td>\n",
       "      <td>1</td>\n",
       "      <td>0</td>\n",
       "      <td>0</td>\n",
       "      <td>0</td>\n",
       "      <td>0</td>\n",
       "      <td>1</td>\n",
       "      <td>0</td>\n",
       "      <td>0</td>\n",
       "      <td>0</td>\n",
       "      <td>0</td>\n",
       "      <td>1</td>\n",
       "      <td>0</td>\n",
       "      <td>0</td>\n",
       "      <td>0</td>\n",
       "      <td>0</td>\n",
       "      <td>0</td>\n",
       "      <td>0</td>\n",
       "      <td>1</td>\n",
       "      <td>0</td>\n",
       "      <td>0</td>\n",
       "      <td>0</td>\n",
       "      <td>1</td>\n",
       "      <td>0</td>\n",
       "      <td>0</td>\n",
       "      <td>0</td>\n",
       "      <td>0</td>\n",
       "      <td>0</td>\n",
       "      <td>0</td>\n",
       "      <td>0</td>\n",
       "      <td>1</td>\n",
       "      <td>0</td>\n",
       "      <td>0</td>\n",
       "      <td>0</td>\n",
       "      <td>0</td>\n",
       "      <td>0</td>\n",
       "      <td>1</td>\n",
       "      <td>0</td>\n",
       "      <td>0</td>\n",
       "      <td>0</td>\n",
       "      <td>0</td>\n",
       "      <td>0</td>\n",
       "      <td>0</td>\n",
       "      <td>1</td>\n",
       "      <td>0</td>\n",
       "      <td>0</td>\n",
       "      <td>1</td>\n",
       "      <td>1</td>\n",
       "      <td>0</td>\n",
       "      <td>0</td>\n",
       "      <td>0</td>\n",
       "    </tr>\n",
       "    <tr>\n",
       "      <th>110145</th>\n",
       "      <td>-0.662367</td>\n",
       "      <td>0.942137</td>\n",
       "      <td>-0.443335</td>\n",
       "      <td>2.680628</td>\n",
       "      <td>1.929901</td>\n",
       "      <td>0</td>\n",
       "      <td>1</td>\n",
       "      <td>0</td>\n",
       "      <td>0</td>\n",
       "      <td>0</td>\n",
       "      <td>0</td>\n",
       "      <td>1</td>\n",
       "      <td>0</td>\n",
       "      <td>0</td>\n",
       "      <td>0</td>\n",
       "      <td>0</td>\n",
       "      <td>1</td>\n",
       "      <td>0</td>\n",
       "      <td>0</td>\n",
       "      <td>0</td>\n",
       "      <td>0</td>\n",
       "      <td>0</td>\n",
       "      <td>1</td>\n",
       "      <td>0</td>\n",
       "      <td>0</td>\n",
       "      <td>0</td>\n",
       "      <td>0</td>\n",
       "      <td>0</td>\n",
       "      <td>0</td>\n",
       "      <td>0</td>\n",
       "      <td>1</td>\n",
       "      <td>0</td>\n",
       "      <td>0</td>\n",
       "      <td>1</td>\n",
       "      <td>0</td>\n",
       "      <td>0</td>\n",
       "      <td>0</td>\n",
       "      <td>0</td>\n",
       "      <td>0</td>\n",
       "      <td>0</td>\n",
       "      <td>0</td>\n",
       "      <td>0</td>\n",
       "      <td>0</td>\n",
       "      <td>1</td>\n",
       "      <td>0</td>\n",
       "      <td>0</td>\n",
       "      <td>0</td>\n",
       "      <td>1</td>\n",
       "      <td>0</td>\n",
       "      <td>0</td>\n",
       "      <td>1</td>\n",
       "      <td>0</td>\n",
       "      <td>0</td>\n",
       "      <td>0</td>\n",
       "      <td>0</td>\n",
       "      <td>0</td>\n",
       "    </tr>\n",
       "    <tr>\n",
       "      <th>110146</th>\n",
       "      <td>-1.130811</td>\n",
       "      <td>-0.052822</td>\n",
       "      <td>-0.002207</td>\n",
       "      <td>1.535004</td>\n",
       "      <td>1.325890</td>\n",
       "      <td>0</td>\n",
       "      <td>0</td>\n",
       "      <td>1</td>\n",
       "      <td>0</td>\n",
       "      <td>0</td>\n",
       "      <td>0</td>\n",
       "      <td>0</td>\n",
       "      <td>1</td>\n",
       "      <td>0</td>\n",
       "      <td>0</td>\n",
       "      <td>0</td>\n",
       "      <td>0</td>\n",
       "      <td>1</td>\n",
       "      <td>0</td>\n",
       "      <td>0</td>\n",
       "      <td>0</td>\n",
       "      <td>0</td>\n",
       "      <td>0</td>\n",
       "      <td>0</td>\n",
       "      <td>0</td>\n",
       "      <td>1</td>\n",
       "      <td>0</td>\n",
       "      <td>1</td>\n",
       "      <td>0</td>\n",
       "      <td>0</td>\n",
       "      <td>0</td>\n",
       "      <td>0</td>\n",
       "      <td>1</td>\n",
       "      <td>0</td>\n",
       "      <td>0</td>\n",
       "      <td>0</td>\n",
       "      <td>0</td>\n",
       "      <td>0</td>\n",
       "      <td>1</td>\n",
       "      <td>0</td>\n",
       "      <td>0</td>\n",
       "      <td>0</td>\n",
       "      <td>0</td>\n",
       "      <td>0</td>\n",
       "      <td>0</td>\n",
       "      <td>1</td>\n",
       "      <td>0</td>\n",
       "      <td>0</td>\n",
       "      <td>0</td>\n",
       "      <td>0</td>\n",
       "      <td>0</td>\n",
       "      <td>0</td>\n",
       "      <td>0</td>\n",
       "      <td>0</td>\n",
       "      <td>0</td>\n",
       "      <td>0</td>\n",
       "    </tr>\n",
       "    <tr>\n",
       "      <th>110147</th>\n",
       "      <td>0.031629</td>\n",
       "      <td>-1.047780</td>\n",
       "      <td>-0.002207</td>\n",
       "      <td>-0.423451</td>\n",
       "      <td>0.794933</td>\n",
       "      <td>1</td>\n",
       "      <td>0</td>\n",
       "      <td>0</td>\n",
       "      <td>0</td>\n",
       "      <td>0</td>\n",
       "      <td>0</td>\n",
       "      <td>1</td>\n",
       "      <td>0</td>\n",
       "      <td>0</td>\n",
       "      <td>0</td>\n",
       "      <td>0</td>\n",
       "      <td>1</td>\n",
       "      <td>0</td>\n",
       "      <td>0</td>\n",
       "      <td>0</td>\n",
       "      <td>0</td>\n",
       "      <td>0</td>\n",
       "      <td>1</td>\n",
       "      <td>0</td>\n",
       "      <td>0</td>\n",
       "      <td>0</td>\n",
       "      <td>0</td>\n",
       "      <td>0</td>\n",
       "      <td>0</td>\n",
       "      <td>0</td>\n",
       "      <td>1</td>\n",
       "      <td>0</td>\n",
       "      <td>0</td>\n",
       "      <td>1</td>\n",
       "      <td>0</td>\n",
       "      <td>0</td>\n",
       "      <td>0</td>\n",
       "      <td>1</td>\n",
       "      <td>0</td>\n",
       "      <td>0</td>\n",
       "      <td>0</td>\n",
       "      <td>0</td>\n",
       "      <td>0</td>\n",
       "      <td>0</td>\n",
       "      <td>0</td>\n",
       "      <td>0</td>\n",
       "      <td>0</td>\n",
       "      <td>1</td>\n",
       "      <td>0</td>\n",
       "      <td>0</td>\n",
       "      <td>1</td>\n",
       "      <td>0</td>\n",
       "      <td>0</td>\n",
       "      <td>0</td>\n",
       "      <td>0</td>\n",
       "      <td>0</td>\n",
       "    </tr>\n",
       "  </tbody>\n",
       "</table>\n",
       "<p>36349 rows × 56 columns</p>\n",
       "</div>"
      ],
      "text/plain": [
       "             age    income  bki_request_cnt  decline_app_cnt_log  score_bki  \\\n",
       "73799  -0.888776  0.680428         0.438921            -0.423451  -0.735587   \n",
       "73800   0.120447 -2.624752        -0.002207             4.399062   0.800039   \n",
       "73801   0.972731 -0.052822        -0.443335            -0.423451   0.426908   \n",
       "73802   1.362924 -0.868118        -0.443335            -0.423451  -0.940432   \n",
       "73803   0.031629  1.937095        -0.884463            -0.423451  -1.167347   \n",
       "...          ...       ...              ...                  ...        ...   \n",
       "110143 -0.059496 -1.047780         0.438921             1.535004   0.319505   \n",
       "110144  1.823666  2.670346         0.438921            -0.423451  -0.779436   \n",
       "110145 -0.662367  0.942137        -0.443335             2.680628   1.929901   \n",
       "110146 -1.130811 -0.052822        -0.002207             1.535004   1.325890   \n",
       "110147  0.031629 -1.047780        -0.002207            -0.423451   0.794933   \n",
       "\n",
       "        education_1.0  education_2.0  education_3.0  education_4.0  \\\n",
       "73799               0              1              0              0   \n",
       "73800               1              0              0              0   \n",
       "73801               0              0              1              0   \n",
       "73802               1              0              0              0   \n",
       "73803               0              1              0              0   \n",
       "...               ...            ...            ...            ...   \n",
       "110143              1              0              0              0   \n",
       "110144              0              1              0              0   \n",
       "110145              0              1              0              0   \n",
       "110146              0              0              1              0   \n",
       "110147              1              0              0              0   \n",
       "\n",
       "        education_5.0  education_nan  home_address_1.0  home_address_2.0  \\\n",
       "73799               0              0                 1                 0   \n",
       "73800               0              0                 1                 0   \n",
       "73801               0              0                 1                 0   \n",
       "73802               0              0                 1                 0   \n",
       "73803               0              0                 0                 1   \n",
       "...               ...            ...               ...               ...   \n",
       "110143              0              0                 0                 1   \n",
       "110144              0              0                 1                 0   \n",
       "110145              0              0                 1                 0   \n",
       "110146              0              0                 0                 1   \n",
       "110147              0              0                 1                 0   \n",
       "\n",
       "        home_address_3.0  home_address_nan  work_address_1.0  \\\n",
       "73799                  0                 0                 0   \n",
       "73800                  0                 0                 0   \n",
       "73801                  0                 0                 0   \n",
       "73802                  0                 0                 0   \n",
       "73803                  0                 0                 0   \n",
       "...                  ...               ...               ...   \n",
       "110143                 0                 0                 0   \n",
       "110144                 0                 0                 0   \n",
       "110145                 0                 0                 0   \n",
       "110146                 0                 0                 0   \n",
       "110147                 0                 0                 0   \n",
       "\n",
       "        work_address_2.0  work_address_3.0  work_address_nan  \\\n",
       "73799                  1                 0                 0   \n",
       "73800                  1                 0                 0   \n",
       "73801                  1                 0                 0   \n",
       "73802                  1                 0                 0   \n",
       "73803                  0                 1                 0   \n",
       "...                  ...               ...               ...   \n",
       "110143                 0                 1                 0   \n",
       "110144                 1                 0                 0   \n",
       "110145                 1                 0                 0   \n",
       "110146                 0                 1                 0   \n",
       "110147                 1                 0                 0   \n",
       "\n",
       "        region_rating_20.0  region_rating_30.0  region_rating_40.0  \\\n",
       "73799                    0                   0                   0   \n",
       "73800                    0                   0                   0   \n",
       "73801                    0                   0                   0   \n",
       "73802                    0                   0                   1   \n",
       "73803                    0                   0                   0   \n",
       "...                    ...                 ...                 ...   \n",
       "110143                   0                   0                   0   \n",
       "110144                   0                   0                   0   \n",
       "110145                   0                   0                   0   \n",
       "110146                   0                   0                   0   \n",
       "110147                   0                   0                   0   \n",
       "\n",
       "        region_rating_50.0  region_rating_60.0  region_rating_70.0  \\\n",
       "73799                    1                   0                   0   \n",
       "73800                    1                   0                   0   \n",
       "73801                    1                   0                   0   \n",
       "73802                    0                   0                   0   \n",
       "73803                    0                   0                   0   \n",
       "...                    ...                 ...                 ...   \n",
       "110143                   1                   0                   0   \n",
       "110144                   0                   1                   0   \n",
       "110145                   1                   0                   0   \n",
       "110146                   0                   0                   0   \n",
       "110147                   1                   0                   0   \n",
       "\n",
       "        region_rating_80.0  region_rating_nan  sna_1.0  sna_2.0  sna_3.0  \\\n",
       "73799                    0                  0        1        0        0   \n",
       "73800                    0                  0        0        0        0   \n",
       "73801                    0                  0        1        0        0   \n",
       "73802                    0                  0        1        0        0   \n",
       "73803                    1                  0        1        0        0   \n",
       "...                    ...                ...      ...      ...      ...   \n",
       "110143                   0                  0        0        0        0   \n",
       "110144                   0                  0        1        0        0   \n",
       "110145                   0                  0        0        0        0   \n",
       "110146                   1                  0        1        0        0   \n",
       "110147                   0                  0        0        0        0   \n",
       "\n",
       "        sna_4.0  sna_nan  first_time_1.0  first_time_2.0  first_time_3.0  \\\n",
       "73799         0        0               0               0               0   \n",
       "73800         1        0               0               0               1   \n",
       "73801         0        0               0               0               1   \n",
       "73802         0        0               0               0               1   \n",
       "73803         0        0               0               0               1   \n",
       "...         ...      ...             ...             ...             ...   \n",
       "110143        1        0               1               0               0   \n",
       "110144        0        0               0               0               0   \n",
       "110145        1        0               0               1               0   \n",
       "110146        0        0               1               0               0   \n",
       "110147        1        0               0               1               0   \n",
       "\n",
       "        first_time_4.0  first_time_nan  app_weekday_0.0  app_weekday_1.0  \\\n",
       "73799                1               0                0                0   \n",
       "73800                0               0                0                0   \n",
       "73801                0               0                0                0   \n",
       "73802                0               0                1                0   \n",
       "73803                0               0                0                1   \n",
       "...                ...             ...              ...              ...   \n",
       "110143               0               0                1                0   \n",
       "110144               1               0                0                0   \n",
       "110145               0               0                0                0   \n",
       "110146               0               0                0                1   \n",
       "110147               0               0                1                0   \n",
       "\n",
       "        app_weekday_2.0  app_weekday_3.0  app_weekday_4.0  app_weekday_5.0  \\\n",
       "73799                 0                0                0                1   \n",
       "73800                 0                0                1                0   \n",
       "73801                 0                0                0                0   \n",
       "73802                 0                0                0                0   \n",
       "73803                 0                0                0                0   \n",
       "...                 ...              ...              ...              ...   \n",
       "110143                0                0                0                0   \n",
       "110144                0                0                1                0   \n",
       "110145                0                0                0                0   \n",
       "110146                0                0                0                0   \n",
       "110147                0                0                0                0   \n",
       "\n",
       "        app_weekday_6.0  app_weekday_nan  app_month_1.0  app_month_2.0  \\\n",
       "73799                 0                0              0              0   \n",
       "73800                 0                0              1              0   \n",
       "73801                 1                0              0              0   \n",
       "73802                 0                0              0              1   \n",
       "73803                 0                0              0              1   \n",
       "...                 ...              ...            ...            ...   \n",
       "110143                0                0              0              0   \n",
       "110144                0                0              0              0   \n",
       "110145                1                0              0              0   \n",
       "110146                0                0              1              0   \n",
       "110147                0                0              0              0   \n",
       "\n",
       "        app_month_3.0  app_month_4.0  app_month_nan  sex  car  car_type  \\\n",
       "73799               1              0              0    1    1         1   \n",
       "73800               0              0              0    0    0         0   \n",
       "73801               1              0              0    1    1         1   \n",
       "73802               0              0              0    1    0         0   \n",
       "73803               0              0              0    0    0         0   \n",
       "...               ...            ...            ...  ...  ...       ...   \n",
       "110143              1              0              0    0    0         0   \n",
       "110144              0              1              0    0    1         1   \n",
       "110145              1              0              0    1    0         0   \n",
       "110146              0              0              0    0    0         0   \n",
       "110147              1              0              0    1    0         0   \n",
       "\n",
       "        foreign_passport  good_work  education_is_nan  \n",
       "73799                  0          0                 0  \n",
       "73800                  0          0                 0  \n",
       "73801                  1          0                 0  \n",
       "73802                  0          0                 0  \n",
       "73803                  0          0                 0  \n",
       "...                  ...        ...               ...  \n",
       "110143                 0          0                 0  \n",
       "110144                 0          0                 0  \n",
       "110145                 0          0                 0  \n",
       "110146                 0          0                 0  \n",
       "110147                 0          0                 0  \n",
       "\n",
       "[36349 rows x 56 columns]"
      ]
     },
     "execution_count": 41,
     "metadata": {},
     "output_type": "execute_result"
    }
   ],
   "source": [
    "test_data = X[(X.train == 0)].drop(['train'], axis=1)\n",
    "test_data"
   ]
  },
  {
   "cell_type": "code",
   "execution_count": 42,
   "metadata": {
    "execution": {
     "iopub.execute_input": "2020-12-01T20:06:46.568485Z",
     "iopub.status.busy": "2020-12-01T20:06:46.567001Z",
     "iopub.status.idle": "2020-12-01T20:06:46.990308Z",
     "shell.execute_reply": "2020-12-01T20:06:46.989444Z"
    },
    "papermill": {
     "duration": 0.512871,
     "end_time": "2020-12-01T20:06:46.990461",
     "exception": false,
     "start_time": "2020-12-01T20:06:46.477590",
     "status": "completed"
    },
    "tags": []
   },
   "outputs": [],
   "source": [
    "y_pred_sub = model.predict(test_data)\n",
    "submit = pd.DataFrame(df[(df.train == 0)].client_id)\n",
    "submit['default']=y_pred_sub\n",
    "submit.to_csv('submission.csv', index=False)"
   ]
  }
 ],
 "metadata": {
  "kernelspec": {
   "display_name": "Python 3",
   "language": "python",
   "name": "python3"
  },
  "language_info": {
   "codemirror_mode": {
    "name": "ipython",
    "version": 3
   },
   "file_extension": ".py",
   "mimetype": "text/x-python",
   "name": "python",
   "nbconvert_exporter": "python",
   "pygments_lexer": "ipython3",
   "version": "3.7.1"
  },
  "papermill": {
   "duration": 220.139286,
   "end_time": "2020-12-01T20:06:47.191566",
   "environment_variables": {},
   "exception": null,
   "input_path": "__notebook__.ipynb",
   "output_path": "__notebook__.ipynb",
   "parameters": {},
   "start_time": "2020-12-01T20:03:07.052280",
   "version": "2.1.0"
  },
  "varInspector": {
   "cols": {
    "lenName": 16,
    "lenType": 16,
    "lenVar": 40
   },
   "kernels_config": {
    "python": {
     "delete_cmd_postfix": "",
     "delete_cmd_prefix": "del ",
     "library": "var_list.py",
     "varRefreshCmd": "print(var_dic_list())"
    },
    "r": {
     "delete_cmd_postfix": ") ",
     "delete_cmd_prefix": "rm(",
     "library": "var_list.r",
     "varRefreshCmd": "cat(var_dic_list()) "
    }
   },
   "types_to_exclude": [
    "module",
    "function",
    "builtin_function_or_method",
    "instance",
    "_Feature"
   ],
   "window_display": false
  }
 },
 "nbformat": 4,
 "nbformat_minor": 4
}
