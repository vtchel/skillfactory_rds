{
 "cells": [
  {
   "cell_type": "markdown",
   "metadata": {},
   "source": [
    "# Работа с pandas"
   ]
  },
  {
   "cell_type": "markdown",
   "metadata": {},
   "source": [
    "## Инициализация"
   ]
  },
  {
   "cell_type": "code",
   "execution_count": 25,
   "metadata": {},
   "outputs": [],
   "source": [
    "import pandas as pd\n",
    "df = pd.read_csv('data_sf.csv', sep = ',')"
   ]
  },
  {
   "cell_type": "markdown",
   "metadata": {},
   "source": [
    "показать первых 5 строчек"
   ]
  },
  {
   "cell_type": "code",
   "execution_count": 8,
   "metadata": {},
   "outputs": [
    {
     "data": {
      "text/html": [
       "<div>\n",
       "<style scoped>\n",
       "    .dataframe tbody tr th:only-of-type {\n",
       "        vertical-align: middle;\n",
       "    }\n",
       "\n",
       "    .dataframe tbody tr th {\n",
       "        vertical-align: top;\n",
       "    }\n",
       "\n",
       "    .dataframe thead th {\n",
       "        text-align: right;\n",
       "    }\n",
       "</style>\n",
       "<table border=\"1\" class=\"dataframe\">\n",
       "  <thead>\n",
       "    <tr style=\"text-align: right;\">\n",
       "      <th></th>\n",
       "      <th>Unnamed: 0</th>\n",
       "      <th>Name</th>\n",
       "      <th>Age</th>\n",
       "      <th>Nationality</th>\n",
       "      <th>Club</th>\n",
       "      <th>Value</th>\n",
       "      <th>Wage</th>\n",
       "      <th>Position</th>\n",
       "      <th>Crossing</th>\n",
       "      <th>Finishing</th>\n",
       "      <th>...</th>\n",
       "      <th>Penalties</th>\n",
       "      <th>Composure</th>\n",
       "      <th>Marking</th>\n",
       "      <th>StandingTackle</th>\n",
       "      <th>SlidingTackle</th>\n",
       "      <th>GKDiving</th>\n",
       "      <th>GKHandling</th>\n",
       "      <th>GKKicking</th>\n",
       "      <th>GKPositioning</th>\n",
       "      <th>GKReflexes</th>\n",
       "    </tr>\n",
       "  </thead>\n",
       "  <tbody>\n",
       "    <tr>\n",
       "      <th>0</th>\n",
       "      <td>0</td>\n",
       "      <td>L. Messi</td>\n",
       "      <td>31</td>\n",
       "      <td>Argentina</td>\n",
       "      <td>FC Barcelona</td>\n",
       "      <td>110500000</td>\n",
       "      <td>565000</td>\n",
       "      <td>RF</td>\n",
       "      <td>84</td>\n",
       "      <td>95</td>\n",
       "      <td>...</td>\n",
       "      <td>75</td>\n",
       "      <td>96</td>\n",
       "      <td>33</td>\n",
       "      <td>28</td>\n",
       "      <td>26</td>\n",
       "      <td>6</td>\n",
       "      <td>11</td>\n",
       "      <td>15</td>\n",
       "      <td>14</td>\n",
       "      <td>8</td>\n",
       "    </tr>\n",
       "    <tr>\n",
       "      <th>1</th>\n",
       "      <td>1</td>\n",
       "      <td>Cristiano Ronaldo</td>\n",
       "      <td>33</td>\n",
       "      <td>Portugal</td>\n",
       "      <td>Juventus</td>\n",
       "      <td>77000000</td>\n",
       "      <td>405000</td>\n",
       "      <td>ST</td>\n",
       "      <td>84</td>\n",
       "      <td>94</td>\n",
       "      <td>...</td>\n",
       "      <td>85</td>\n",
       "      <td>95</td>\n",
       "      <td>28</td>\n",
       "      <td>31</td>\n",
       "      <td>23</td>\n",
       "      <td>7</td>\n",
       "      <td>11</td>\n",
       "      <td>15</td>\n",
       "      <td>14</td>\n",
       "      <td>11</td>\n",
       "    </tr>\n",
       "    <tr>\n",
       "      <th>2</th>\n",
       "      <td>2</td>\n",
       "      <td>Neymar Jr</td>\n",
       "      <td>26</td>\n",
       "      <td>Brazil</td>\n",
       "      <td>Paris Saint-Germain</td>\n",
       "      <td>118500000</td>\n",
       "      <td>290000</td>\n",
       "      <td>LW</td>\n",
       "      <td>79</td>\n",
       "      <td>87</td>\n",
       "      <td>...</td>\n",
       "      <td>81</td>\n",
       "      <td>94</td>\n",
       "      <td>27</td>\n",
       "      <td>24</td>\n",
       "      <td>33</td>\n",
       "      <td>9</td>\n",
       "      <td>9</td>\n",
       "      <td>15</td>\n",
       "      <td>15</td>\n",
       "      <td>11</td>\n",
       "    </tr>\n",
       "    <tr>\n",
       "      <th>3</th>\n",
       "      <td>3</td>\n",
       "      <td>De Gea</td>\n",
       "      <td>27</td>\n",
       "      <td>Spain</td>\n",
       "      <td>Manchester United</td>\n",
       "      <td>72000000</td>\n",
       "      <td>260000</td>\n",
       "      <td>GK</td>\n",
       "      <td>17</td>\n",
       "      <td>13</td>\n",
       "      <td>...</td>\n",
       "      <td>40</td>\n",
       "      <td>68</td>\n",
       "      <td>15</td>\n",
       "      <td>21</td>\n",
       "      <td>13</td>\n",
       "      <td>90</td>\n",
       "      <td>85</td>\n",
       "      <td>87</td>\n",
       "      <td>88</td>\n",
       "      <td>94</td>\n",
       "    </tr>\n",
       "    <tr>\n",
       "      <th>4</th>\n",
       "      <td>4</td>\n",
       "      <td>K. De Bruyne</td>\n",
       "      <td>27</td>\n",
       "      <td>Belgium</td>\n",
       "      <td>Manchester City</td>\n",
       "      <td>102000000</td>\n",
       "      <td>355000</td>\n",
       "      <td>RCM</td>\n",
       "      <td>93</td>\n",
       "      <td>82</td>\n",
       "      <td>...</td>\n",
       "      <td>79</td>\n",
       "      <td>88</td>\n",
       "      <td>68</td>\n",
       "      <td>58</td>\n",
       "      <td>51</td>\n",
       "      <td>15</td>\n",
       "      <td>13</td>\n",
       "      <td>5</td>\n",
       "      <td>10</td>\n",
       "      <td>13</td>\n",
       "    </tr>\n",
       "  </tbody>\n",
       "</table>\n",
       "<p>5 rows × 42 columns</p>\n",
       "</div>"
      ],
      "text/plain": [
       "   Unnamed: 0               Name  Age Nationality                 Club  \\\n",
       "0           0           L. Messi   31   Argentina         FC Barcelona   \n",
       "1           1  Cristiano Ronaldo   33    Portugal             Juventus   \n",
       "2           2          Neymar Jr   26      Brazil  Paris Saint-Germain   \n",
       "3           3             De Gea   27       Spain    Manchester United   \n",
       "4           4       K. De Bruyne   27     Belgium      Manchester City   \n",
       "\n",
       "       Value    Wage Position  Crossing  Finishing  ...  Penalties  Composure  \\\n",
       "0  110500000  565000       RF        84         95  ...         75         96   \n",
       "1   77000000  405000       ST        84         94  ...         85         95   \n",
       "2  118500000  290000       LW        79         87  ...         81         94   \n",
       "3   72000000  260000       GK        17         13  ...         40         68   \n",
       "4  102000000  355000      RCM        93         82  ...         79         88   \n",
       "\n",
       "   Marking  StandingTackle  SlidingTackle  GKDiving  GKHandling  GKKicking  \\\n",
       "0       33              28             26         6          11         15   \n",
       "1       28              31             23         7          11         15   \n",
       "2       27              24             33         9           9         15   \n",
       "3       15              21             13        90          85         87   \n",
       "4       68              58             51        15          13          5   \n",
       "\n",
       "   GKPositioning  GKReflexes  \n",
       "0             14           8  \n",
       "1             14          11  \n",
       "2             15          11  \n",
       "3             88          94  \n",
       "4             10          13  \n",
       "\n",
       "[5 rows x 42 columns]"
      ]
     },
     "metadata": {},
     "output_type": "display_data"
    }
   ],
   "source": [
    "# display(df.head())"
   ]
  },
  {
   "cell_type": "code",
   "execution_count": 6,
   "metadata": {},
   "outputs": [
    {
     "name": "stdout",
     "output_type": "stream",
     "text": [
      "<class 'pandas.core.frame.DataFrame'>\n",
      "RangeIndex: 12897 entries, 0 to 12896\n",
      "Data columns (total 42 columns):\n",
      "Unnamed: 0         12897 non-null int64\n",
      "Name               12897 non-null object\n",
      "Age                12897 non-null int64\n",
      "Nationality        12897 non-null object\n",
      "Club               12897 non-null object\n",
      "Value              12897 non-null int64\n",
      "Wage               12897 non-null int64\n",
      "Position           12897 non-null object\n",
      "Crossing           12897 non-null int64\n",
      "Finishing          12897 non-null int64\n",
      "HeadingAccuracy    12897 non-null int64\n",
      "ShortPassing       12897 non-null int64\n",
      "Volleys            12897 non-null int64\n",
      "Dribbling          12897 non-null int64\n",
      "Curve              12897 non-null int64\n",
      "FKAccuracy         12897 non-null int64\n",
      "LongPassing        12897 non-null int64\n",
      "BallControl        12897 non-null int64\n",
      "Acceleration       12897 non-null int64\n",
      "SprintSpeed        12897 non-null int64\n",
      "Agility            12897 non-null int64\n",
      "Reactions          12897 non-null int64\n",
      "Balance            12897 non-null int64\n",
      "ShotPower          12897 non-null int64\n",
      "Jumping            12897 non-null int64\n",
      "Stamina            12897 non-null int64\n",
      "Strength           12897 non-null int64\n",
      "LongShots          12897 non-null int64\n",
      "Aggression         12897 non-null int64\n",
      "Interceptions      12897 non-null int64\n",
      "Positioning        12897 non-null int64\n",
      "Vision             12897 non-null int64\n",
      "Penalties          12897 non-null int64\n",
      "Composure          12897 non-null int64\n",
      "Marking            12897 non-null int64\n",
      "StandingTackle     12897 non-null int64\n",
      "SlidingTackle      12897 non-null int64\n",
      "GKDiving           12897 non-null int64\n",
      "GKHandling         12897 non-null int64\n",
      "GKKicking          12897 non-null int64\n",
      "GKPositioning      12897 non-null int64\n",
      "GKReflexes         12897 non-null int64\n",
      "dtypes: int64(38), object(4)\n",
      "memory usage: 4.1+ MB\n"
     ]
    },
    {
     "data": {
      "text/plain": [
       "None"
      ]
     },
     "metadata": {},
     "output_type": "display_data"
    }
   ],
   "source": [
    "display(df.info())"
   ]
  },
  {
   "cell_type": "markdown",
   "metadata": {},
   "source": [
    "Функция unique возвращает список уникальных элементов из серии"
   ]
  },
  {
   "cell_type": "code",
   "execution_count": 4,
   "metadata": {},
   "outputs": [
    {
     "data": {
      "text/plain": [
       "array(['Argentina', 'Portugal', 'Brazil', 'Spain', 'Belgium', 'Croatia',\n",
       "       'Uruguay', 'Slovenia', 'Poland', 'Germany', 'France', 'England',\n",
       "       'Italy', 'Egypt', 'Colombia', 'Denmark', 'Gabon', 'Wales',\n",
       "       'Senegal', 'Costa Rica', 'Slovakia', 'Netherlands',\n",
       "       'Bosnia Herzegovina', 'Morocco', 'Serbia', 'Algeria', 'Austria',\n",
       "       'Greece', 'Chile', 'Sweden', 'Korea Republic', 'Finland', 'Guinea',\n",
       "       'Montenegro', 'Switzerland', 'Norway', 'DR Congo', 'Ukraine',\n",
       "       'Mexico', 'Czech Republic', 'Ivory Coast', 'Albania', 'Turkey',\n",
       "       'Ghana', 'Ecuador', 'Mali', 'Nigeria', 'Dominican Republic',\n",
       "       'Japan', 'Cameroon', 'Republic of Ireland', 'Romania',\n",
       "       'United States', 'Russia', 'Hungary', 'Iceland', 'Zimbabwe',\n",
       "       'Togo', 'Angola', 'Burkina Faso', 'Peru', 'Scotland', 'Venezuela',\n",
       "       'Estonia', 'Tunisia', 'Israel', 'Equatorial Guinea', 'New Zealand',\n",
       "       'FYR Macedonia', 'Paraguay', 'China PR', 'Kosovo', 'Tanzania',\n",
       "       'Iran', 'Uzbekistan', 'South Africa', 'Australia', 'Congo',\n",
       "       'Jamaica', 'Mozambique', 'Cape Verde', 'Northern Ireland', 'Syria',\n",
       "       'Cyprus', 'Moldova', 'Canada', 'Trinidad & Tobago', 'Bulgaria',\n",
       "       'Georgia', 'Saudi Arabia', 'Armenia', 'Guinea Bissau', 'Haiti',\n",
       "       'Comoros', 'Eritrea', 'Oman', 'Iraq', 'Latvia', 'Panama',\n",
       "       'Bolivia', 'Madagascar', 'Belarus', 'Honduras', 'Thailand',\n",
       "       'Mauritius', 'Gambia', 'Guatemala', 'Central African Rep.',\n",
       "       'Zambia', 'Curacao', 'Niger', 'Mauritania', 'Suriname', 'Benin',\n",
       "       'Luxembourg', 'Kenya', 'Montserrat', 'Namibia', 'Azerbaijan',\n",
       "       'Guam', 'Libya', 'Faroe Islands', 'Nicaragua', 'Sierra Leone',\n",
       "       'Kazakhstan', 'Lithuania', 'Barbados', 'Lebanon', 'Liechtenstein',\n",
       "       'Palestine', 'Guyana', 'Korea DPR', 'El Salvador', 'Cuba', 'Sudan',\n",
       "       'Burundi', 'St Lucia', 'Ethiopia', 'Uganda', 'Puerto Rico',\n",
       "       'Grenada', 'Antigua & Barbuda', 'Jordan', 'Rwanda', 'Bermuda',\n",
       "       'Qatar', 'Afghanistan', 'Hong Kong', 'Andorra', 'Malta', 'Belize',\n",
       "       'South Sudan', 'St Kitts Nevis', 'Philippines', 'Indonesia',\n",
       "       'Botswana'], dtype=object)"
      ]
     },
     "execution_count": 4,
     "metadata": {},
     "output_type": "execute_result"
    }
   ],
   "source": [
    "df['Nationality'].unique()"
   ]
  },
  {
   "cell_type": "markdown",
   "metadata": {},
   "source": [
    "считаем самые высокие зарплаты в клубах"
   ]
  },
  {
   "cell_type": "code",
   "execution_count": 5,
   "metadata": {},
   "outputs": [
    {
     "name": "stdout",
     "output_type": "stream",
     "text": [
      "Club\n",
      "Real Madrid          4138000\n",
      "FC Barcelona         3967000\n",
      "Manchester City      3097000\n",
      "Manchester United    2357000\n",
      "Juventus             2335000\n",
      "Name: Wage, dtype: int64\n"
     ]
    }
   ],
   "source": [
    "grouped_df = df.groupby(['Club'])['Wage'].sum().sort_values(ascending=False)\n",
    "print(grouped_df.head(5))"
   ]
  },
  {
   "cell_type": "markdown",
   "metadata": {},
   "source": [
    "Отметьте позиции (Position), по которым общая сумма зарплат (Wage) игроков превышает 5 млн евро в год."
   ]
  },
  {
   "cell_type": "code",
   "execution_count": 23,
   "metadata": {},
   "outputs": [
    {
     "data": {
      "text/plain": [
       "Position\n",
       "ST     11873000\n",
       "GK      8784000\n",
       "CB      7476000\n",
       "CM      6194000\n",
       "LB      6096000\n",
       "CAM     5500000\n",
       "LM      5440000\n",
       "RM      5098000\n",
       "RB      5034000\n",
       "Name: Wage, dtype: int64"
      ]
     },
     "metadata": {},
     "output_type": "display_data"
    }
   ],
   "source": [
    "grouped_df = df.groupby(['Position'])['Wage'].sum().sort_values(ascending=False)\n",
    "display(grouped_df.loc[grouped_df > 5000000])"
   ]
  },
  {
   "cell_type": "markdown",
   "metadata": {},
   "source": [
    "Посчитайте среднюю зарплату (Wage) и цену (Value) игроков разных позиций (Position). Представители какой позиции имеют самую высокую среднюю цену?"
   ]
  },
  {
   "cell_type": "code",
   "execution_count": 27,
   "metadata": {},
   "outputs": [
    {
     "data": {
      "text/html": [
       "<div>\n",
       "<style scoped>\n",
       "    .dataframe tbody tr th:only-of-type {\n",
       "        vertical-align: middle;\n",
       "    }\n",
       "\n",
       "    .dataframe tbody tr th {\n",
       "        vertical-align: top;\n",
       "    }\n",
       "\n",
       "    .dataframe thead th {\n",
       "        text-align: right;\n",
       "    }\n",
       "</style>\n",
       "<table border=\"1\" class=\"dataframe\">\n",
       "  <thead>\n",
       "    <tr style=\"text-align: right;\">\n",
       "      <th></th>\n",
       "      <th>Wage</th>\n",
       "      <th>Value</th>\n",
       "    </tr>\n",
       "    <tr>\n",
       "      <th>Position</th>\n",
       "      <th></th>\n",
       "      <th></th>\n",
       "    </tr>\n",
       "  </thead>\n",
       "  <tbody>\n",
       "    <tr>\n",
       "      <th>LF</th>\n",
       "      <td>75125.000000</td>\n",
       "      <td>2.736250e+07</td>\n",
       "    </tr>\n",
       "    <tr>\n",
       "      <th>RF</th>\n",
       "      <td>119000.000000</td>\n",
       "      <td>2.636583e+07</td>\n",
       "    </tr>\n",
       "    <tr>\n",
       "      <th>LAM</th>\n",
       "      <td>61000.000000</td>\n",
       "      <td>1.324583e+07</td>\n",
       "    </tr>\n",
       "    <tr>\n",
       "      <th>RAM</th>\n",
       "      <td>11800.000000</td>\n",
       "      <td>8.345000e+06</td>\n",
       "    </tr>\n",
       "    <tr>\n",
       "      <th>LS</th>\n",
       "      <td>15421.487603</td>\n",
       "      <td>5.848430e+06</td>\n",
       "    </tr>\n",
       "  </tbody>\n",
       "</table>\n",
       "</div>"
      ],
      "text/plain": [
       "                   Wage         Value\n",
       "Position                             \n",
       "LF         75125.000000  2.736250e+07\n",
       "RF        119000.000000  2.636583e+07\n",
       "LAM        61000.000000  1.324583e+07\n",
       "RAM        11800.000000  8.345000e+06\n",
       "LS         15421.487603  5.848430e+06"
      ]
     },
     "metadata": {},
     "output_type": "display_data"
    }
   ],
   "source": [
    "grouped_df = df.groupby(['Position'])['Wage','Value'].mean().sort_values(['Value'], ascending=False)\n",
    "display(grouped_df.head())"
   ]
  },
  {
   "cell_type": "markdown",
   "metadata": {},
   "source": [
    "Посчитайте среднюю (mean) и медианную (median) зарплату (Wage) футболистов из разных клубов (Club). В скольких клубах средняя и медианная зарплаты совпадают?\n",
    "df.groupby(столбец_для_группировки)[столбцы_для_отображения].agg(['функция_1', 'функция_2'])"
   ]
  },
  {
   "cell_type": "code",
   "execution_count": 45,
   "metadata": {},
   "outputs": [
    {
     "data": {
      "text/plain": [
       "mean      52\n",
       "median    52\n",
       "dtype: int64"
      ]
     },
     "execution_count": 45,
     "metadata": {},
     "output_type": "execute_result"
    }
   ],
   "source": [
    "grouped_df = df.groupby(['Club'])['Wage'].agg(['mean', 'median'])\n",
    "grouped_df[(grouped_df['mean'] == grouped_df['median'])].count()"
   ]
  },
  {
   "cell_type": "markdown",
   "metadata": {},
   "source": [
    "Продолжаем работать с клубами, в которых средняя зарплата совпадает с медианной. Каков максимальный размер средней зарплаты в этой группе клубов?"
   ]
  },
  {
   "cell_type": "code",
   "execution_count": 50,
   "metadata": {},
   "outputs": [
    {
     "data": {
      "text/plain": [
       "mean      13000.0\n",
       "median    13000.0\n",
       "dtype: float64"
      ]
     },
     "metadata": {},
     "output_type": "display_data"
    },
    {
     "data": {
      "text/plain": [
       "'Cruzeiro'"
      ]
     },
     "metadata": {},
     "output_type": "display_data"
    }
   ],
   "source": [
    "grouped_df = df.groupby(['Club'])['Wage'].agg(['mean', 'median'])\n",
    "display(grouped_df[(grouped_df['mean'] == grouped_df['median'])].max())\n",
    "display(grouped_df[(grouped_df['mean'] == 13000)].index[0])"
   ]
  },
  {
   "cell_type": "markdown",
   "metadata": {},
   "source": [
    "С помощью функции groupby посчитайте сумму зарплат (Wage) футболистов клуба (Club) \"Chelsea\"."
   ]
  },
  {
   "cell_type": "code",
   "execution_count": 51,
   "metadata": {},
   "outputs": [
    {
     "data": {
      "text/plain": [
       "2035000"
      ]
     },
     "metadata": {},
     "output_type": "display_data"
    }
   ],
   "source": [
    "grouped_df = df.groupby(['Club'])['Wage'].sum()\n",
    "display(grouped_df['Chelsea'])"
   ]
  },
  {
   "cell_type": "markdown",
   "metadata": {},
   "source": [
    "Определите максимальную зарплату футболиста национальности (Nationality) Аргентина (\"Argentina\") в возрасте 20 лет.\n"
   ]
  },
  {
   "cell_type": "code",
   "execution_count": 69,
   "metadata": {},
   "outputs": [
    {
     "data": {
      "text/plain": [
       "Wage    54000\n",
       "dtype: int64"
      ]
     },
     "metadata": {},
     "output_type": "display_data"
    }
   ],
   "source": [
    "grouped_df = df[(df['Age']==20) & (df['Nationality']=='Argentina')][['Wage']].max()\n",
    "display(grouped_df)  #['Argentina'])"
   ]
  },
  {
   "cell_type": "markdown",
   "metadata": {},
   "source": [
    "Определите максимальную зарплату футболиста национальности (Nationality) Аргентина (\"Argentina\") в возрасте 30 лет.\n"
   ]
  },
  {
   "cell_type": "code",
   "execution_count": 66,
   "metadata": {},
   "outputs": [
    {
     "data": {
      "text/plain": [
       "Wage    300000\n",
       "dtype: int64"
      ]
     },
     "metadata": {},
     "output_type": "display_data"
    }
   ],
   "source": [
    "grouped_df = df[(df['Age']==30) & (df['Nationality']=='Argentina')][['Wage']].max()\n",
    "display(grouped_df)"
   ]
  },
  {
   "cell_type": "markdown",
   "metadata": {},
   "source": [
    "Определите миннимальную зарплату футболиста национальности (Nationality) Аргентина (\"Argentina\") в возрасте 30 лет.\n",
    "\n"
   ]
  },
  {
   "cell_type": "code",
   "execution_count": 67,
   "metadata": {},
   "outputs": [
    {
     "data": {
      "text/plain": [
       "Wage    1000\n",
       "dtype: int64"
      ]
     },
     "metadata": {},
     "output_type": "display_data"
    }
   ],
   "source": [
    "grouped_df = df[(df['Age']==30) & (df['Nationality']=='Argentina')][['Wage']].min()\n",
    "display(grouped_df)"
   ]
  },
  {
   "cell_type": "markdown",
   "metadata": {},
   "source": [
    "Определите максимальную силу (Strength) и баланс (Balance) среди игроков клуба (Club) \"FC Barcelona\" из Аргентины (\"Argentina\"). Ответ введите через точку с запятой без пробела.\n"
   ]
  },
  {
   "cell_type": "code",
   "execution_count": 70,
   "metadata": {},
   "outputs": [
    {
     "data": {
      "text/plain": [
       "Strength    59\n",
       "Balance     95\n",
       "dtype: int64"
      ]
     },
     "metadata": {},
     "output_type": "display_data"
    }
   ],
   "source": [
    "grouped_df = df[(df['Club']=='FC Barcelona') & (df['Nationality']=='Argentina')][['Strength', 'Balance']].max()\n",
    "display(grouped_df)"
   ]
  },
  {
   "cell_type": "markdown",
   "metadata": {},
   "source": [
    "Функция pivot_table позволяет быстро и просто составлять сводные таблицы. Попробуем сформировать таблицу"
   ]
  },
  {
   "cell_type": "code",
   "execution_count": 71,
   "metadata": {},
   "outputs": [
    {
     "data": {
      "text/html": [
       "<div>\n",
       "<style scoped>\n",
       "    .dataframe tbody tr th:only-of-type {\n",
       "        vertical-align: middle;\n",
       "    }\n",
       "\n",
       "    .dataframe tbody tr th {\n",
       "        vertical-align: top;\n",
       "    }\n",
       "\n",
       "    .dataframe thead tr th {\n",
       "        text-align: left;\n",
       "    }\n",
       "\n",
       "    .dataframe thead tr:last-of-type th {\n",
       "        text-align: right;\n",
       "    }\n",
       "</style>\n",
       "<table border=\"1\" class=\"dataframe\">\n",
       "  <thead>\n",
       "    <tr>\n",
       "      <th></th>\n",
       "      <th colspan=\"4\" halign=\"left\">Wage</th>\n",
       "    </tr>\n",
       "    <tr>\n",
       "      <th>Club</th>\n",
       "      <th>FC Barcelona</th>\n",
       "      <th>Juventus</th>\n",
       "      <th>Manchester United</th>\n",
       "      <th>Real Madrid</th>\n",
       "    </tr>\n",
       "    <tr>\n",
       "      <th>Nationality</th>\n",
       "      <th></th>\n",
       "      <th></th>\n",
       "      <th></th>\n",
       "      <th></th>\n",
       "    </tr>\n",
       "  </thead>\n",
       "  <tbody>\n",
       "    <tr>\n",
       "      <th>Argentina</th>\n",
       "      <td>565000.0</td>\n",
       "      <td>205000.0</td>\n",
       "      <td>206000.0</td>\n",
       "      <td>NaN</td>\n",
       "    </tr>\n",
       "    <tr>\n",
       "      <th>Belgium</th>\n",
       "      <td>110000.0</td>\n",
       "      <td>NaN</td>\n",
       "      <td>230000.0</td>\n",
       "      <td>240000.0</td>\n",
       "    </tr>\n",
       "    <tr>\n",
       "      <th>Bosnia Herzegovina</th>\n",
       "      <td>NaN</td>\n",
       "      <td>180000.0</td>\n",
       "      <td>NaN</td>\n",
       "      <td>NaN</td>\n",
       "    </tr>\n",
       "    <tr>\n",
       "      <th>Brazil</th>\n",
       "      <td>465000.0</td>\n",
       "      <td>335000.0</td>\n",
       "      <td>91000.0</td>\n",
       "      <td>570000.0</td>\n",
       "    </tr>\n",
       "    <tr>\n",
       "      <th>Chile</th>\n",
       "      <td>205000.0</td>\n",
       "      <td>NaN</td>\n",
       "      <td>215000.0</td>\n",
       "      <td>NaN</td>\n",
       "    </tr>\n",
       "    <tr>\n",
       "      <th>Costa Rica</th>\n",
       "      <td>NaN</td>\n",
       "      <td>NaN</td>\n",
       "      <td>NaN</td>\n",
       "      <td>195000.0</td>\n",
       "    </tr>\n",
       "    <tr>\n",
       "      <th>Croatia</th>\n",
       "      <td>260000.0</td>\n",
       "      <td>160000.0</td>\n",
       "      <td>NaN</td>\n",
       "      <td>420000.0</td>\n",
       "    </tr>\n",
       "    <tr>\n",
       "      <th>Dominican Republic</th>\n",
       "      <td>NaN</td>\n",
       "      <td>NaN</td>\n",
       "      <td>NaN</td>\n",
       "      <td>140000.0</td>\n",
       "    </tr>\n",
       "    <tr>\n",
       "      <th>Ecuador</th>\n",
       "      <td>NaN</td>\n",
       "      <td>NaN</td>\n",
       "      <td>120000.0</td>\n",
       "      <td>NaN</td>\n",
       "    </tr>\n",
       "    <tr>\n",
       "      <th>England</th>\n",
       "      <td>NaN</td>\n",
       "      <td>NaN</td>\n",
       "      <td>478000.0</td>\n",
       "      <td>NaN</td>\n",
       "    </tr>\n",
       "    <tr>\n",
       "      <th>France</th>\n",
       "      <td>495000.0</td>\n",
       "      <td>145000.0</td>\n",
       "      <td>375000.0</td>\n",
       "      <td>459000.0</td>\n",
       "    </tr>\n",
       "    <tr>\n",
       "      <th>Germany</th>\n",
       "      <td>240000.0</td>\n",
       "      <td>160000.0</td>\n",
       "      <td>NaN</td>\n",
       "      <td>355000.0</td>\n",
       "    </tr>\n",
       "    <tr>\n",
       "      <th>Italy</th>\n",
       "      <td>NaN</td>\n",
       "      <td>460000.0</td>\n",
       "      <td>88000.0</td>\n",
       "      <td>NaN</td>\n",
       "    </tr>\n",
       "    <tr>\n",
       "      <th>Ivory Coast</th>\n",
       "      <td>NaN</td>\n",
       "      <td>NaN</td>\n",
       "      <td>105000.0</td>\n",
       "      <td>NaN</td>\n",
       "    </tr>\n",
       "    <tr>\n",
       "      <th>Morocco</th>\n",
       "      <td>NaN</td>\n",
       "      <td>160000.0</td>\n",
       "      <td>NaN</td>\n",
       "      <td>NaN</td>\n",
       "    </tr>\n",
       "    <tr>\n",
       "      <th>Netherlands</th>\n",
       "      <td>135000.0</td>\n",
       "      <td>NaN</td>\n",
       "      <td>NaN</td>\n",
       "      <td>NaN</td>\n",
       "    </tr>\n",
       "    <tr>\n",
       "      <th>Poland</th>\n",
       "      <td>NaN</td>\n",
       "      <td>125000.0</td>\n",
       "      <td>NaN</td>\n",
       "      <td>NaN</td>\n",
       "    </tr>\n",
       "    <tr>\n",
       "      <th>Portugal</th>\n",
       "      <td>125000.0</td>\n",
       "      <td>405000.0</td>\n",
       "      <td>NaN</td>\n",
       "      <td>NaN</td>\n",
       "    </tr>\n",
       "    <tr>\n",
       "      <th>Scotland</th>\n",
       "      <td>NaN</td>\n",
       "      <td>NaN</td>\n",
       "      <td>11000.0</td>\n",
       "      <td>NaN</td>\n",
       "    </tr>\n",
       "    <tr>\n",
       "      <th>Serbia</th>\n",
       "      <td>NaN</td>\n",
       "      <td>NaN</td>\n",
       "      <td>165000.0</td>\n",
       "      <td>NaN</td>\n",
       "    </tr>\n",
       "    <tr>\n",
       "      <th>Spain</th>\n",
       "      <td>912000.0</td>\n",
       "      <td>NaN</td>\n",
       "      <td>260000.0</td>\n",
       "      <td>1404000.0</td>\n",
       "    </tr>\n",
       "    <tr>\n",
       "      <th>Uruguay</th>\n",
       "      <td>455000.0</td>\n",
       "      <td>NaN</td>\n",
       "      <td>NaN</td>\n",
       "      <td>NaN</td>\n",
       "    </tr>\n",
       "    <tr>\n",
       "      <th>Wales</th>\n",
       "      <td>NaN</td>\n",
       "      <td>NaN</td>\n",
       "      <td>13000.0</td>\n",
       "      <td>355000.0</td>\n",
       "    </tr>\n",
       "  </tbody>\n",
       "</table>\n",
       "</div>"
      ],
      "text/plain": [
       "                           Wage                                        \n",
       "Club               FC Barcelona  Juventus Manchester United Real Madrid\n",
       "Nationality                                                            \n",
       "Argentina              565000.0  205000.0          206000.0         NaN\n",
       "Belgium                110000.0       NaN          230000.0    240000.0\n",
       "Bosnia Herzegovina          NaN  180000.0               NaN         NaN\n",
       "Brazil                 465000.0  335000.0           91000.0    570000.0\n",
       "Chile                  205000.0       NaN          215000.0         NaN\n",
       "Costa Rica                  NaN       NaN               NaN    195000.0\n",
       "Croatia                260000.0  160000.0               NaN    420000.0\n",
       "Dominican Republic          NaN       NaN               NaN    140000.0\n",
       "Ecuador                     NaN       NaN          120000.0         NaN\n",
       "England                     NaN       NaN          478000.0         NaN\n",
       "France                 495000.0  145000.0          375000.0    459000.0\n",
       "Germany                240000.0  160000.0               NaN    355000.0\n",
       "Italy                       NaN  460000.0           88000.0         NaN\n",
       "Ivory Coast                 NaN       NaN          105000.0         NaN\n",
       "Morocco                     NaN  160000.0               NaN         NaN\n",
       "Netherlands            135000.0       NaN               NaN         NaN\n",
       "Poland                      NaN  125000.0               NaN         NaN\n",
       "Portugal               125000.0  405000.0               NaN         NaN\n",
       "Scotland                    NaN       NaN           11000.0         NaN\n",
       "Serbia                      NaN       NaN          165000.0         NaN\n",
       "Spain                  912000.0       NaN          260000.0   1404000.0\n",
       "Uruguay                455000.0       NaN               NaN         NaN\n",
       "Wales                       NaN       NaN           13000.0    355000.0"
      ]
     },
     "metadata": {},
     "output_type": "display_data"
    }
   ],
   "source": [
    "pivot = df.loc[df['Club'].isin(['FC Barcelona','Real Madrid','Juventus','Manchester United'])].pivot_table(values=['Wage'],\n",
    "index=['Nationality'],\n",
    "columns=['Club'],\n",
    "aggfunc='sum')\n",
    "display(pivot)"
   ]
  },
  {
   "cell_type": "markdown",
   "metadata": {},
   "source": [
    "Создайте сводную таблицу, содержащую сведения о количестве игроков, занимающих разные позиции в каждом клубе. Отсутствующие значения замените нулями.\n",
    "\n",
    "Каково среднее количество вратарей (GK) в клубе? Ответ округлите до трёх цифр после запятой.\n",
    "\n"
   ]
  },
  {
   "cell_type": "code",
   "execution_count": 91,
   "metadata": {},
   "outputs": [
    {
     "data": {
      "text/plain": [
       "2.525"
      ]
     },
     "metadata": {},
     "output_type": "display_data"
    }
   ],
   "source": [
    "pivot = df.pivot_table(columns = 'Club', index = 'Position', values = 'Name', aggfunc = 'count', fill_value=0)\n",
    "display(round(pivot.loc['GK'].mean(), 3))"
   ]
  },
  {
   "cell_type": "markdown",
   "metadata": {},
   "source": [
    "Используя таблицу, созданную на предыдущем шаге, определите, сколько клубов не содержат данных о центральных полузащитниках. (CM)\n",
    "\n",
    "Подсказка: для выполнения этого задания желательно сохранить сводную таблицу в виде отдельного датафрейма и сгруппировать часть данных этого датафрейма с помощью value_counts()."
   ]
  },
  {
   "cell_type": "code",
   "execution_count": 95,
   "metadata": {},
   "outputs": [
    {
     "data": {
      "text/plain": [
       "136"
      ]
     },
     "execution_count": 95,
     "metadata": {},
     "output_type": "execute_result"
    }
   ],
   "source": [
    "pivot.loc['CM'].value_counts()[0]"
   ]
  },
  {
   "cell_type": "markdown",
   "metadata": {},
   "source": [
    "С помощью сводной таблицы и функции loc посчитайте, сколько получают (\"Wage\") русские футболисты (\"Russia\"), играющие за ФК \"AS Monaco\"."
   ]
  },
  {
   "cell_type": "code",
   "execution_count": 99,
   "metadata": {},
   "outputs": [
    {
     "data": {
      "text/plain": [
       "61000"
      ]
     },
     "metadata": {},
     "output_type": "display_data"
    }
   ],
   "source": [
    "pivot = df.pivot_table(columns = 'Club', index = 'Nationality', values = 'Wage', aggfunc = 'sum', fill_value=0)\n",
    "display(pivot.loc['Russia']['AS Monaco'])"
   ]
  },
  {
   "cell_type": "markdown",
   "metadata": {},
   "source": [
    "Создайте сводную таблицу, содержащую сведения о средней скорости футболистов, занимающих разные позиции (Position) в разных футбольных клубах (Club).\n",
    "\n",
    "Основываясь на данных таблицы, отметьте три позиции, представители которых в среднем обладают самой высокой скоростью."
   ]
  },
  {
   "cell_type": "code",
   "execution_count": 123,
   "metadata": {},
   "outputs": [
    {
     "data": {
      "text/plain": [
       "Position\n",
       "RS    94.0\n",
       "RM    94.0\n",
       "LM    94.0\n",
       "dtype: float64"
      ]
     },
     "execution_count": 123,
     "metadata": {},
     "output_type": "execute_result"
    }
   ],
   "source": [
    "pivot = df.pivot_table(columns = 'Club', index = 'Position', values = 'SprintSpeed', aggfunc = 'mean', fill_value=0)\n",
    "pivot.max(axis=1).sort_values(ascending=False).head(3)\n",
    "#pivot.loc['ST'].sort_values(ascending=False).head(3)"
   ]
  }
 ],
 "metadata": {
  "kernelspec": {
   "display_name": "Python 3",
   "language": "python",
   "name": "python3"
  },
  "language_info": {
   "codemirror_mode": {
    "name": "ipython",
    "version": 3
   },
   "file_extension": ".py",
   "mimetype": "text/x-python",
   "name": "python",
   "nbconvert_exporter": "python",
   "pygments_lexer": "ipython3",
   "version": "3.7.1"
  },
  "varInspector": {
   "cols": {
    "lenName": 16,
    "lenType": 16,
    "lenVar": 40
   },
   "kernels_config": {
    "python": {
     "delete_cmd_postfix": "",
     "delete_cmd_prefix": "del ",
     "library": "var_list.py",
     "varRefreshCmd": "print(var_dic_list())"
    },
    "r": {
     "delete_cmd_postfix": ") ",
     "delete_cmd_prefix": "rm(",
     "library": "var_list.r",
     "varRefreshCmd": "cat(var_dic_list()) "
    }
   },
   "types_to_exclude": [
    "module",
    "function",
    "builtin_function_or_method",
    "instance",
    "_Feature"
   ],
   "window_display": false
  }
 },
 "nbformat": 4,
 "nbformat_minor": 4
}
